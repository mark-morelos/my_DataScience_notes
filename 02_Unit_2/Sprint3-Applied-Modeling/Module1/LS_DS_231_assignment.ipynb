{
  "nbformat": 4,
  "nbformat_minor": 0,
  "metadata": {
    "kernelspec": {
      "display_name": "Python 3",
      "language": "python",
      "name": "python3"
    },
    "language_info": {
      "codemirror_mode": {
        "name": "ipython",
        "version": 3
      },
      "file_extension": ".py",
      "mimetype": "text/x-python",
      "name": "python",
      "nbconvert_exporter": "python",
      "pygments_lexer": "ipython3",
      "version": "3.7.6"
    },
    "colab": {
      "name": "Copy of LS_DS_231_assignment.ipynb",
      "provenance": [],
      "include_colab_link": true
    }
  },
  "cells": [
    {
      "cell_type": "markdown",
      "metadata": {
        "id": "view-in-github",
        "colab_type": "text"
      },
      "source": [
        "<a href=\"https://colab.research.google.com/github/mark-morelos/DS-Unit-2-Applied-Modeling/blob/master/Copy_of_LS_DS_231_assignment.ipynb\" target=\"_parent\"><img src=\"https://colab.research.google.com/assets/colab-badge.svg\" alt=\"Open In Colab\"/></a>"
      ]
    },
    {
      "cell_type": "markdown",
      "metadata": {
        "colab_type": "text",
        "id": "nCc3XZEyG3XV"
      },
      "source": [
        "Lambda School Data Science\n",
        "\n",
        "*Unit 2, Sprint 3, Module 1*\n",
        "\n",
        "---\n",
        "\n",
        "\n",
        "# Define ML problems\n",
        "\n",
        "You will use your portfolio project dataset for all assignments this sprint.\n",
        "\n",
        "## Assignment\n",
        "\n",
        "Complete these tasks for your project, and document your decisions.\n",
        "\n",
        "- [ ] Choose your target. Which column in your tabular dataset will you predict?\n",
        "- [ ] Is your problem regression or classification?\n",
        "- [ ] How is your target distributed?\n",
        "    - Classification: How many classes? Are the classes imbalanced?\n",
        "    - Regression: Is the target right-skewed? If so, you may want to log transform the target.\n",
        "- [ ] Choose your evaluation metric(s).\n",
        "    - Classification: Is your majority class frequency >= 50% and < 70% ? If so, you can just use accuracy if you want. Outside that range, accuracy could be misleading. What evaluation metric will you choose, in addition to or instead of accuracy?\n",
        "    - Regression: Will you use mean absolute error, root mean squared error, R^2, or other regression metrics?\n",
        "- [ ] Choose which observations you will use to train, validate, and test your model.\n",
        "    - Are some observations outliers? Will you exclude them?\n",
        "    - Will you do a random split or a time-based split?\n",
        "- [ ] Begin to clean and explore your data.\n",
        "- [ ] Begin to choose which features, if any, to exclude. Would some features \"leak\" future information?\n",
        "\n",
        "If you haven't found a dataset yet, do that today. [Review requirements for your portfolio project](https://lambdaschool.github.io/ds/unit2) and choose your dataset.\n",
        "\n",
        "Some students worry, ***what if my model isn't “good”?*** Then, [produce a detailed tribute to your wrongness. That is science!](https://twitter.com/nathanwpyle/status/1176860147223867393)"
      ]
    },
    {
      "cell_type": "code",
      "metadata": {
        "id": "_dytRu9jU1B6",
        "colab_type": "code",
        "colab": {
          "base_uri": "https://localhost:8080/",
          "height": 411
        },
        "outputId": "c69397b7-9dca-4725-ac21-04273b38fe3d"
      },
      "source": [
        "import pandas as pd\n",
        "import numpy as np\n",
        "\n",
        "shelter_outcome = pd.read_csv('sample_data/Animal_Shelter_Intake_and_Outcome.csv')\n",
        "shelter_outcome.head()"
      ],
      "execution_count": null,
      "outputs": [
        {
          "output_type": "execute_result",
          "data": {
            "text/html": [
              "<div>\n",
              "<style scoped>\n",
              "    .dataframe tbody tr th:only-of-type {\n",
              "        vertical-align: middle;\n",
              "    }\n",
              "\n",
              "    .dataframe tbody tr th {\n",
              "        vertical-align: top;\n",
              "    }\n",
              "\n",
              "    .dataframe thead th {\n",
              "        text-align: right;\n",
              "    }\n",
              "</style>\n",
              "<table border=\"1\" class=\"dataframe\">\n",
              "  <thead>\n",
              "    <tr style=\"text-align: right;\">\n",
              "      <th></th>\n",
              "      <th>Name</th>\n",
              "      <th>Type</th>\n",
              "      <th>Breed</th>\n",
              "      <th>Color</th>\n",
              "      <th>Sex</th>\n",
              "      <th>Size</th>\n",
              "      <th>Date Of Birth</th>\n",
              "      <th>Impound Number</th>\n",
              "      <th>Kennel Number</th>\n",
              "      <th>Animal ID</th>\n",
              "      <th>Intake Date</th>\n",
              "      <th>Outcome Date</th>\n",
              "      <th>Days in Shelter</th>\n",
              "      <th>Intake Type</th>\n",
              "      <th>Intake Subtype</th>\n",
              "      <th>Outcome Type</th>\n",
              "      <th>Outcome Subtype</th>\n",
              "      <th>Intake Condition</th>\n",
              "      <th>Outcome Condition</th>\n",
              "      <th>Intake Jurisdiction</th>\n",
              "      <th>Outcome Jurisdiction</th>\n",
              "      <th>Outcome Zip Code</th>\n",
              "      <th>Location</th>\n",
              "      <th>Count</th>\n",
              "    </tr>\n",
              "  </thead>\n",
              "  <tbody>\n",
              "    <tr>\n",
              "      <th>0</th>\n",
              "      <td>SKY</td>\n",
              "      <td>DOG</td>\n",
              "      <td>GERM SHEPHERD</td>\n",
              "      <td>BLACK/TAN</td>\n",
              "      <td>Female</td>\n",
              "      <td>MED</td>\n",
              "      <td>NaN</td>\n",
              "      <td>K20-035118</td>\n",
              "      <td>DS69</td>\n",
              "      <td>A395686</td>\n",
              "      <td>1/19/20</td>\n",
              "      <td>1/23/20</td>\n",
              "      <td>4</td>\n",
              "      <td>STRAY</td>\n",
              "      <td>FIELD</td>\n",
              "      <td>RETURN TO OWNER</td>\n",
              "      <td>OVER THE COUNTER_CALL</td>\n",
              "      <td>HEALTHY</td>\n",
              "      <td>HEALTHY</td>\n",
              "      <td>COUNTY</td>\n",
              "      <td>COUNTY</td>\n",
              "      <td>95404.0</td>\n",
              "      <td>95404(38.458384, -122.675588)</td>\n",
              "      <td>1</td>\n",
              "    </tr>\n",
              "    <tr>\n",
              "      <th>1</th>\n",
              "      <td>COCO</td>\n",
              "      <td>DOG</td>\n",
              "      <td>BEAGLE</td>\n",
              "      <td>TRICOLOR</td>\n",
              "      <td>Neutered</td>\n",
              "      <td>SMALL</td>\n",
              "      <td>4/6/15</td>\n",
              "      <td>K17-025093</td>\n",
              "      <td>DS83</td>\n",
              "      <td>A379968</td>\n",
              "      <td>8/30/17</td>\n",
              "      <td>10/4/17</td>\n",
              "      <td>35</td>\n",
              "      <td>STRAY</td>\n",
              "      <td>FIELD</td>\n",
              "      <td>TRANSFER</td>\n",
              "      <td>NC AN FRND</td>\n",
              "      <td>UNKNOWN</td>\n",
              "      <td>HEALTHY</td>\n",
              "      <td>SANTA ROSA</td>\n",
              "      <td>OUT OF COUNTY</td>\n",
              "      <td>95758.0</td>\n",
              "      <td>95758(38.424655, -121.438065)</td>\n",
              "      <td>1</td>\n",
              "    </tr>\n",
              "    <tr>\n",
              "      <th>2</th>\n",
              "      <td>BRATT</td>\n",
              "      <td>CAT</td>\n",
              "      <td>DOMESTIC SH</td>\n",
              "      <td>BRN TABBY</td>\n",
              "      <td>Spayed</td>\n",
              "      <td>SMALL</td>\n",
              "      <td>9/1/10</td>\n",
              "      <td>K18-028633</td>\n",
              "      <td>MAC</td>\n",
              "      <td>A374010</td>\n",
              "      <td>6/13/18</td>\n",
              "      <td>8/11/18</td>\n",
              "      <td>59</td>\n",
              "      <td>OWNER SURRENDER</td>\n",
              "      <td>OVER THE COUNTER</td>\n",
              "      <td>ADOPTION</td>\n",
              "      <td>MOB EVENT</td>\n",
              "      <td>TREATABLE/MANAGEABLE</td>\n",
              "      <td>HEALTHY</td>\n",
              "      <td>COUNTY</td>\n",
              "      <td>SANTA ROSA</td>\n",
              "      <td>95405.0</td>\n",
              "      <td>95405(38.439152, -122.672541)</td>\n",
              "      <td>1</td>\n",
              "    </tr>\n",
              "    <tr>\n",
              "      <th>3</th>\n",
              "      <td>DOONA</td>\n",
              "      <td>DOG</td>\n",
              "      <td>PIT BULL</td>\n",
              "      <td>TAN/WHITE</td>\n",
              "      <td>Male</td>\n",
              "      <td>LARGE</td>\n",
              "      <td>7/6/16</td>\n",
              "      <td>K20-035573</td>\n",
              "      <td>DS67</td>\n",
              "      <td>A389249</td>\n",
              "      <td>3/11/20</td>\n",
              "      <td>3/13/20</td>\n",
              "      <td>2</td>\n",
              "      <td>STRAY</td>\n",
              "      <td>FIELD</td>\n",
              "      <td>RETURN TO OWNER</td>\n",
              "      <td>OVER THE COUNTER_NOTICE</td>\n",
              "      <td>HEALTHY</td>\n",
              "      <td>HEALTHY</td>\n",
              "      <td>SANTA ROSA</td>\n",
              "      <td>SANTA ROSA</td>\n",
              "      <td>95409.0</td>\n",
              "      <td>95409(38.458965, -122.630156)</td>\n",
              "      <td>0</td>\n",
              "    </tr>\n",
              "    <tr>\n",
              "      <th>4</th>\n",
              "      <td>SUZIE</td>\n",
              "      <td>DOG</td>\n",
              "      <td>LABRADOR RETR/MIX</td>\n",
              "      <td>BLACK</td>\n",
              "      <td>Spayed</td>\n",
              "      <td>LARGE</td>\n",
              "      <td>1/23/11</td>\n",
              "      <td>K15-012348</td>\n",
              "      <td>DA34</td>\n",
              "      <td>A315553</td>\n",
              "      <td>1/7/15</td>\n",
              "      <td>1/24/15</td>\n",
              "      <td>17</td>\n",
              "      <td>STRAY</td>\n",
              "      <td>OVER THE COUNTER</td>\n",
              "      <td>ADOPTION</td>\n",
              "      <td>INTERNET</td>\n",
              "      <td>HEALTHY</td>\n",
              "      <td>HEALTHY</td>\n",
              "      <td>SANTA ROSA</td>\n",
              "      <td>SANTA ROSA</td>\n",
              "      <td>95404.0</td>\n",
              "      <td>95404(38.458384, -122.675588)</td>\n",
              "      <td>1</td>\n",
              "    </tr>\n",
              "  </tbody>\n",
              "</table>\n",
              "</div>"
            ],
            "text/plain": [
              "    Name Type  ...                       Location Count\n",
              "0    SKY  DOG  ...  95404(38.458384, -122.675588)     1\n",
              "1   COCO  DOG  ...  95758(38.424655, -121.438065)     1\n",
              "2  BRATT  CAT  ...  95405(38.439152, -122.672541)     1\n",
              "3  DOONA  DOG  ...  95409(38.458965, -122.630156)     0\n",
              "4  SUZIE  DOG  ...  95404(38.458384, -122.675588)     1\n",
              "\n",
              "[5 rows x 24 columns]"
            ]
          },
          "metadata": {
            "tags": []
          },
          "execution_count": 1
        }
      ]
    },
    {
      "cell_type": "code",
      "metadata": {
        "id": "sJ0lQTV6V6rb",
        "colab_type": "code",
        "colab": {
          "base_uri": "https://localhost:8080/",
          "height": 213
        },
        "outputId": "090cdbda-93a3-4e52-fcde-16480da05486"
      },
      "source": [
        "# replace spaces in column names with underscore\n",
        "shelter_outcome.columns = shelter_outcome.columns.str.replace(' ','_')\n",
        "shelter_outcome.head(3)"
      ],
      "execution_count": null,
      "outputs": [
        {
          "output_type": "execute_result",
          "data": {
            "text/html": [
              "<div>\n",
              "<style scoped>\n",
              "    .dataframe tbody tr th:only-of-type {\n",
              "        vertical-align: middle;\n",
              "    }\n",
              "\n",
              "    .dataframe tbody tr th {\n",
              "        vertical-align: top;\n",
              "    }\n",
              "\n",
              "    .dataframe thead th {\n",
              "        text-align: right;\n",
              "    }\n",
              "</style>\n",
              "<table border=\"1\" class=\"dataframe\">\n",
              "  <thead>\n",
              "    <tr style=\"text-align: right;\">\n",
              "      <th></th>\n",
              "      <th>Name</th>\n",
              "      <th>Type</th>\n",
              "      <th>Breed</th>\n",
              "      <th>Color</th>\n",
              "      <th>Sex</th>\n",
              "      <th>Size</th>\n",
              "      <th>Date_Of_Birth</th>\n",
              "      <th>Impound_Number</th>\n",
              "      <th>Kennel_Number</th>\n",
              "      <th>Animal_ID</th>\n",
              "      <th>Intake_Date</th>\n",
              "      <th>Outcome_Date</th>\n",
              "      <th>Days_in_Shelter</th>\n",
              "      <th>Intake_Type</th>\n",
              "      <th>Intake_Subtype</th>\n",
              "      <th>Outcome_Type</th>\n",
              "      <th>Outcome_Subtype</th>\n",
              "      <th>Intake_Condition</th>\n",
              "      <th>Outcome_Condition</th>\n",
              "      <th>Intake_Jurisdiction</th>\n",
              "      <th>Outcome_Jurisdiction</th>\n",
              "      <th>Outcome_Zip_Code</th>\n",
              "      <th>Location</th>\n",
              "      <th>Count</th>\n",
              "    </tr>\n",
              "  </thead>\n",
              "  <tbody>\n",
              "    <tr>\n",
              "      <th>0</th>\n",
              "      <td>SKY</td>\n",
              "      <td>DOG</td>\n",
              "      <td>GERM SHEPHERD</td>\n",
              "      <td>BLACK/TAN</td>\n",
              "      <td>Female</td>\n",
              "      <td>MED</td>\n",
              "      <td>NaN</td>\n",
              "      <td>K20-035118</td>\n",
              "      <td>DS69</td>\n",
              "      <td>A395686</td>\n",
              "      <td>1/19/20</td>\n",
              "      <td>1/23/20</td>\n",
              "      <td>4</td>\n",
              "      <td>STRAY</td>\n",
              "      <td>FIELD</td>\n",
              "      <td>RETURN TO OWNER</td>\n",
              "      <td>OVER THE COUNTER_CALL</td>\n",
              "      <td>HEALTHY</td>\n",
              "      <td>HEALTHY</td>\n",
              "      <td>COUNTY</td>\n",
              "      <td>COUNTY</td>\n",
              "      <td>95404.0</td>\n",
              "      <td>95404(38.458384, -122.675588)</td>\n",
              "      <td>1</td>\n",
              "    </tr>\n",
              "    <tr>\n",
              "      <th>1</th>\n",
              "      <td>COCO</td>\n",
              "      <td>DOG</td>\n",
              "      <td>BEAGLE</td>\n",
              "      <td>TRICOLOR</td>\n",
              "      <td>Neutered</td>\n",
              "      <td>SMALL</td>\n",
              "      <td>4/6/15</td>\n",
              "      <td>K17-025093</td>\n",
              "      <td>DS83</td>\n",
              "      <td>A379968</td>\n",
              "      <td>8/30/17</td>\n",
              "      <td>10/4/17</td>\n",
              "      <td>35</td>\n",
              "      <td>STRAY</td>\n",
              "      <td>FIELD</td>\n",
              "      <td>TRANSFER</td>\n",
              "      <td>NC AN FRND</td>\n",
              "      <td>UNKNOWN</td>\n",
              "      <td>HEALTHY</td>\n",
              "      <td>SANTA ROSA</td>\n",
              "      <td>OUT OF COUNTY</td>\n",
              "      <td>95758.0</td>\n",
              "      <td>95758(38.424655, -121.438065)</td>\n",
              "      <td>1</td>\n",
              "    </tr>\n",
              "    <tr>\n",
              "      <th>2</th>\n",
              "      <td>BRATT</td>\n",
              "      <td>CAT</td>\n",
              "      <td>DOMESTIC SH</td>\n",
              "      <td>BRN TABBY</td>\n",
              "      <td>Spayed</td>\n",
              "      <td>SMALL</td>\n",
              "      <td>9/1/10</td>\n",
              "      <td>K18-028633</td>\n",
              "      <td>MAC</td>\n",
              "      <td>A374010</td>\n",
              "      <td>6/13/18</td>\n",
              "      <td>8/11/18</td>\n",
              "      <td>59</td>\n",
              "      <td>OWNER SURRENDER</td>\n",
              "      <td>OVER THE COUNTER</td>\n",
              "      <td>ADOPTION</td>\n",
              "      <td>MOB EVENT</td>\n",
              "      <td>TREATABLE/MANAGEABLE</td>\n",
              "      <td>HEALTHY</td>\n",
              "      <td>COUNTY</td>\n",
              "      <td>SANTA ROSA</td>\n",
              "      <td>95405.0</td>\n",
              "      <td>95405(38.439152, -122.672541)</td>\n",
              "      <td>1</td>\n",
              "    </tr>\n",
              "  </tbody>\n",
              "</table>\n",
              "</div>"
            ],
            "text/plain": [
              "    Name Type  ...                       Location Count\n",
              "0    SKY  DOG  ...  95404(38.458384, -122.675588)     1\n",
              "1   COCO  DOG  ...  95758(38.424655, -121.438065)     1\n",
              "2  BRATT  CAT  ...  95405(38.439152, -122.672541)     1\n",
              "\n",
              "[3 rows x 24 columns]"
            ]
          },
          "metadata": {
            "tags": []
          },
          "execution_count": 4
        }
      ]
    },
    {
      "cell_type": "markdown",
      "metadata": {
        "id": "y_nwcdnRkqAN",
        "colab_type": "text"
      },
      "source": [
        "**TASK 1**: Choose your target. Which column in your tabular dataset will you predict? --- Outcome Type, if Adoption or Not. Created a boolean column based on the Outcome_Type column."
      ]
    },
    {
      "cell_type": "code",
      "metadata": {
        "id": "B61VxIfuVR6T",
        "colab_type": "code",
        "colab": {
          "base_uri": "https://localhost:8080/",
          "height": 170
        },
        "outputId": "e3841aba-6395-42d1-97e9-1e9088010b9c"
      },
      "source": [
        "# column to be used for predictive model\n",
        "shelter_outcome['Outcome_Type'].describe()\n",
        "shelter_outcome['Outcome_Type'].value_counts(normalize=True)"
      ],
      "execution_count": null,
      "outputs": [
        {
          "output_type": "execute_result",
          "data": {
            "text/plain": [
              "RETURN TO OWNER    0.337053\n",
              "ADOPTION           0.320748\n",
              "TRANSFER           0.187506\n",
              "EUTHANIZE          0.140324\n",
              "DIED               0.006828\n",
              "DISPOSAL           0.006267\n",
              "ESCAPED/STOLEN     0.000866\n",
              "RTOS               0.000408\n",
              "Name: Outcome_Type, dtype: float64"
            ]
          },
          "metadata": {
            "tags": []
          },
          "execution_count": 9
        }
      ]
    },
    {
      "cell_type": "code",
      "metadata": {
        "id": "ApuksOegWTFx",
        "colab_type": "code",
        "colab": {
          "base_uri": "https://localhost:8080/",
          "height": 34
        },
        "outputId": "780de225-219e-4049-aa96-8c9315b9d581"
      },
      "source": [
        "# check for null values\n",
        "shelter_outcome['Outcome_Type'].isnull().sum()"
      ],
      "execution_count": null,
      "outputs": [
        {
          "output_type": "execute_result",
          "data": {
            "text/plain": [
              "114"
            ]
          },
          "metadata": {
            "tags": []
          },
          "execution_count": 11
        }
      ]
    },
    {
      "cell_type": "code",
      "metadata": {
        "id": "8PypLqv8WxKw",
        "colab_type": "code",
        "colab": {
          "base_uri": "https://localhost:8080/",
          "height": 34
        },
        "outputId": "509d978a-e9a3-47c5-dd7c-65ea0a9a84e7"
      },
      "source": [
        "shelter_outcome = shelter_outcome.dropna(subset=['Outcome_Type'])\n",
        "shelter_outcome['Outcome_Type'].isnull().sum()"
      ],
      "execution_count": null,
      "outputs": [
        {
          "output_type": "execute_result",
          "data": {
            "text/plain": [
              "0"
            ]
          },
          "metadata": {
            "tags": []
          },
          "execution_count": 12
        }
      ]
    },
    {
      "cell_type": "markdown",
      "metadata": {
        "id": "iBrrN0cglJlo",
        "colab_type": "text"
      },
      "source": [
        "**TASK 2**: Is your problem regression or classification? --- **CLASSIFICATION**"
      ]
    },
    {
      "cell_type": "code",
      "metadata": {
        "id": "cAvX6W8CXNjJ",
        "colab_type": "code",
        "colab": {
          "base_uri": "https://localhost:8080/",
          "height": 119
        },
        "outputId": "7f36bec5-c625-40ae-8958-4c0fed8a7f13"
      },
      "source": [
        "# add a boolean column for True if ADOPTION and False if not for 'Outcome_Type'\n",
        "shelter_outcome['Adopted'] = shelter_outcome['Outcome_Type'] == 'ADOPTION'\n",
        "shelter_outcome['Adopted'].head(5)"
      ],
      "execution_count": null,
      "outputs": [
        {
          "output_type": "execute_result",
          "data": {
            "text/plain": [
              "0    False\n",
              "1    False\n",
              "2     True\n",
              "3    False\n",
              "4     True\n",
              "Name: Adopted, dtype: bool"
            ]
          },
          "metadata": {
            "tags": []
          },
          "execution_count": 13
        }
      ]
    },
    {
      "cell_type": "markdown",
      "metadata": {
        "id": "6ug-LGXOlo7i",
        "colab_type": "text"
      },
      "source": [
        "**TASK 3:** How is your target distributed?\n",
        "Classification: How many classes? Are the classes imbalanced? --- 2 classes"
      ]
    },
    {
      "cell_type": "code",
      "metadata": {
        "id": "qNfryHAbXo2F",
        "colab_type": "code",
        "colab": {
          "base_uri": "https://localhost:8080/",
          "height": 68
        },
        "outputId": "9571f308-6079-4c34-bae2-0e5af335a0b0"
      },
      "source": [
        "# target distribution\n",
        "y = shelter_outcome['Adopted']\n",
        "y.value_counts(normalize=True)"
      ],
      "execution_count": null,
      "outputs": [
        {
          "output_type": "execute_result",
          "data": {
            "text/plain": [
              "False    0.679252\n",
              "True     0.320748\n",
              "Name: Adopted, dtype: float64"
            ]
          },
          "metadata": {
            "tags": []
          },
          "execution_count": 14
        }
      ]
    },
    {
      "cell_type": "code",
      "metadata": {
        "id": "23xkASHWX0_D",
        "colab_type": "code",
        "colab": {
          "base_uri": "https://localhost:8080/",
          "height": 51
        },
        "outputId": "900cc5b0-2125-41ca-df56-21e7d930bb03"
      },
      "source": [
        "# data exploration on Intake Type\n",
        "shelter_outcome['Intake_Type'].unique()"
      ],
      "execution_count": null,
      "outputs": [
        {
          "output_type": "execute_result",
          "data": {
            "text/plain": [
              "array(['STRAY', 'OWNER SURRENDER', 'CONFISCATE', 'QUARANTINE', 'TRANSFER',\n",
              "       'ADOPTION RETURN'], dtype=object)"
            ]
          },
          "metadata": {
            "tags": []
          },
          "execution_count": 15
        }
      ]
    },
    {
      "cell_type": "code",
      "metadata": {
        "id": "JXe_sErXYPyK",
        "colab_type": "code",
        "colab": {}
      },
      "source": [
        "# high cardinality features\n",
        "shelter_outcome = shelter_outcome.drop(columns=['Name', 'Impound_Number', 'Kennel_Number',\n",
        "                                                'Animal_ID'])"
      ],
      "execution_count": null,
      "outputs": []
    },
    {
      "cell_type": "code",
      "metadata": {
        "id": "Ok1kE4LqY7k6",
        "colab_type": "code",
        "colab": {
          "base_uri": "https://localhost:8080/",
          "height": 391
        },
        "outputId": "d30ce2a6-9698-4217-f4d5-b69cb0bc0854"
      },
      "source": [
        "# find missing values\n",
        "shelter_outcome.isna().sum().sort_values()"
      ],
      "execution_count": null,
      "outputs": [
        {
          "output_type": "execute_result",
          "data": {
            "text/plain": [
              "Type                       0\n",
              "Intake_Jurisdiction        0\n",
              "Intake_Condition           0\n",
              "Outcome_Type               0\n",
              "Count                      0\n",
              "Intake_Type                0\n",
              "Days_in_Shelter            0\n",
              "Intake_Subtype             0\n",
              "Intake_Date                0\n",
              "Sex                        0\n",
              "Color                      0\n",
              "Breed                      0\n",
              "Outcome_Date               0\n",
              "Adopted                    0\n",
              "Size                      31\n",
              "Outcome_Subtype          168\n",
              "Outcome_Condition        196\n",
              "Outcome_Jurisdiction    2684\n",
              "Outcome_Zip_Code        2712\n",
              "Location                2712\n",
              "Date_Of_Birth           4725\n",
              "dtype: int64"
            ]
          },
          "metadata": {
            "tags": []
          },
          "execution_count": 17
        }
      ]
    },
    {
      "cell_type": "code",
      "metadata": {
        "id": "Xox5-LDgZBNm",
        "colab_type": "code",
        "colab": {}
      },
      "source": [
        "shelter_outcome = shelter_outcome.fillna('No Data')"
      ],
      "execution_count": null,
      "outputs": []
    },
    {
      "cell_type": "code",
      "metadata": {
        "id": "y7XcE1OSZNMj",
        "colab_type": "code",
        "colab": {
          "base_uri": "https://localhost:8080/",
          "height": 136
        },
        "outputId": "82acfa8f-b278-4da4-9495-585d8a0d0de7"
      },
      "source": [
        "# time-based split using 'Intake_Date'\n",
        "# convert to datetime\n",
        "\n",
        "shelter_outcome['Intake_Date'] = pd.to_datetime(shelter_outcome['Intake_Date'])\n",
        "shelter_outcome['Intake_Date'].describe()"
      ],
      "execution_count": null,
      "outputs": [
        {
          "output_type": "execute_result",
          "data": {
            "text/plain": [
              "count                   19626\n",
              "unique                   2312\n",
              "top       2018-04-24 00:00:00\n",
              "freq                       47\n",
              "first     2013-08-16 00:00:00\n",
              "last      2020-07-28 00:00:00\n",
              "Name: Intake_Date, dtype: object"
            ]
          },
          "metadata": {
            "tags": []
          },
          "execution_count": 20
        }
      ]
    },
    {
      "cell_type": "code",
      "metadata": {
        "id": "c_obAufoZc7_",
        "colab_type": "code",
        "colab": {
          "base_uri": "https://localhost:8080/",
          "height": 85
        },
        "outputId": "04c24b6e-5382-44a2-fc93-f4fb34875935"
      },
      "source": [
        "# create 'Intake_Year' column\n",
        "shelter_outcome['Intake_Year'] = shelter_outcome['Intake_Date'].dt.year \n",
        "shelter_outcome['Intake_Year'].tail(3)"
      ],
      "execution_count": null,
      "outputs": [
        {
          "output_type": "execute_result",
          "data": {
            "text/plain": [
              "19737    2018\n",
              "19738    2017\n",
              "19739    2014\n",
              "Name: Intake_Year, dtype: int64"
            ]
          },
          "metadata": {
            "tags": []
          },
          "execution_count": 28
        }
      ]
    },
    {
      "cell_type": "code",
      "metadata": {
        "id": "PYwMry-valoR",
        "colab_type": "code",
        "colab": {
          "base_uri": "https://localhost:8080/",
          "height": 34
        },
        "outputId": "64f94516-8c0e-4abd-842a-f8741aaef00d"
      },
      "source": [
        "# split to training: 2013-2015, val: 2016-2018, test: 2019-2020\n",
        "train = shelter_outcome[shelter_outcome['Intake_Year'] <= 2015]\n",
        "val = shelter_outcome[(shelter_outcome['Intake_Year'] >= 2016) & (shelter_outcome['Intake_Year'] >= 2018)]\n",
        "test = shelter_outcome[shelter_outcome['Intake_Year'] >=2019]\n",
        "\n",
        "# shape of dataframes\n",
        "train.shape, val.shape, test.shape"
      ],
      "execution_count": null,
      "outputs": [
        {
          "output_type": "execute_result",
          "data": {
            "text/plain": [
              "((6533, 22), (6706, 22), (3629, 22))"
            ]
          },
          "metadata": {
            "tags": []
          },
          "execution_count": 35
        }
      ]
    },
    {
      "cell_type": "code",
      "metadata": {
        "id": "bNGnu9GNc8Xn",
        "colab_type": "code",
        "colab": {
          "base_uri": "https://localhost:8080/",
          "height": 309
        },
        "outputId": "c21965f5-65cd-4767-dc3e-39a89a257d81"
      },
      "source": [
        "train.head()"
      ],
      "execution_count": null,
      "outputs": [
        {
          "output_type": "execute_result",
          "data": {
            "text/html": [
              "<div>\n",
              "<style scoped>\n",
              "    .dataframe tbody tr th:only-of-type {\n",
              "        vertical-align: middle;\n",
              "    }\n",
              "\n",
              "    .dataframe tbody tr th {\n",
              "        vertical-align: top;\n",
              "    }\n",
              "\n",
              "    .dataframe thead th {\n",
              "        text-align: right;\n",
              "    }\n",
              "</style>\n",
              "<table border=\"1\" class=\"dataframe\">\n",
              "  <thead>\n",
              "    <tr style=\"text-align: right;\">\n",
              "      <th></th>\n",
              "      <th>Type</th>\n",
              "      <th>Breed</th>\n",
              "      <th>Color</th>\n",
              "      <th>Sex</th>\n",
              "      <th>Size</th>\n",
              "      <th>Date_Of_Birth</th>\n",
              "      <th>Intake_Date</th>\n",
              "      <th>Outcome_Date</th>\n",
              "      <th>Days_in_Shelter</th>\n",
              "      <th>Intake_Type</th>\n",
              "      <th>Intake_Subtype</th>\n",
              "      <th>Outcome_Type</th>\n",
              "      <th>Outcome_Subtype</th>\n",
              "      <th>Intake_Condition</th>\n",
              "      <th>Outcome_Condition</th>\n",
              "      <th>Intake_Jurisdiction</th>\n",
              "      <th>Outcome_Jurisdiction</th>\n",
              "      <th>Outcome_Zip_Code</th>\n",
              "      <th>Location</th>\n",
              "      <th>Count</th>\n",
              "      <th>Adopted</th>\n",
              "      <th>Intake_Year</th>\n",
              "    </tr>\n",
              "  </thead>\n",
              "  <tbody>\n",
              "    <tr>\n",
              "      <th>4</th>\n",
              "      <td>DOG</td>\n",
              "      <td>LABRADOR RETR/MIX</td>\n",
              "      <td>BLACK</td>\n",
              "      <td>Spayed</td>\n",
              "      <td>LARGE</td>\n",
              "      <td>1/23/11</td>\n",
              "      <td>2015-01-07</td>\n",
              "      <td>1/24/15</td>\n",
              "      <td>17</td>\n",
              "      <td>STRAY</td>\n",
              "      <td>OVER THE COUNTER</td>\n",
              "      <td>ADOPTION</td>\n",
              "      <td>INTERNET</td>\n",
              "      <td>HEALTHY</td>\n",
              "      <td>HEALTHY</td>\n",
              "      <td>SANTA ROSA</td>\n",
              "      <td>SANTA ROSA</td>\n",
              "      <td>95404</td>\n",
              "      <td>95404(38.458384, -122.675588)</td>\n",
              "      <td>1</td>\n",
              "      <td>True</td>\n",
              "      <td>2015</td>\n",
              "    </tr>\n",
              "    <tr>\n",
              "      <th>37</th>\n",
              "      <td>DOG</td>\n",
              "      <td>LABRADOR RETR/MIX</td>\n",
              "      <td>BLACK/WHITE</td>\n",
              "      <td>Neutered</td>\n",
              "      <td>LARGE</td>\n",
              "      <td>10/1/02</td>\n",
              "      <td>2014-12-30</td>\n",
              "      <td>12/30/14</td>\n",
              "      <td>0</td>\n",
              "      <td>STRAY</td>\n",
              "      <td>FIELD</td>\n",
              "      <td>RETURN TO OWNER</td>\n",
              "      <td>OVER THE COUNTER_NOTICE</td>\n",
              "      <td>TREATABLE/MANAGEABLE</td>\n",
              "      <td>HEALTHY</td>\n",
              "      <td>SANTA ROSA</td>\n",
              "      <td>SANTA ROSA</td>\n",
              "      <td>95404</td>\n",
              "      <td>95404(38.458384, -122.675588)</td>\n",
              "      <td>1</td>\n",
              "      <td>False</td>\n",
              "      <td>2014</td>\n",
              "    </tr>\n",
              "    <tr>\n",
              "      <th>64</th>\n",
              "      <td>DOG</td>\n",
              "      <td>LABRADOR RETR/MIX</td>\n",
              "      <td>BLACK</td>\n",
              "      <td>Neutered</td>\n",
              "      <td>MED</td>\n",
              "      <td>4/2/99</td>\n",
              "      <td>2014-04-02</td>\n",
              "      <td>4/2/14</td>\n",
              "      <td>0</td>\n",
              "      <td>STRAY</td>\n",
              "      <td>FIELD</td>\n",
              "      <td>RETURN TO OWNER</td>\n",
              "      <td>RETURN TO OWNER</td>\n",
              "      <td>HEALTHY</td>\n",
              "      <td>HEALTHY</td>\n",
              "      <td>SANTA ROSA</td>\n",
              "      <td>COUNTY</td>\n",
              "      <td>95436</td>\n",
              "      <td>95436(38.491884, -122.90672)</td>\n",
              "      <td>1</td>\n",
              "      <td>False</td>\n",
              "      <td>2014</td>\n",
              "    </tr>\n",
              "    <tr>\n",
              "      <th>82</th>\n",
              "      <td>CAT</td>\n",
              "      <td>SIAMESE</td>\n",
              "      <td>LYNX PT</td>\n",
              "      <td>Neutered</td>\n",
              "      <td>KITTN</td>\n",
              "      <td>8/27/14</td>\n",
              "      <td>2014-10-14</td>\n",
              "      <td>11/14/14</td>\n",
              "      <td>31</td>\n",
              "      <td>STRAY</td>\n",
              "      <td>OVER THE COUNTER</td>\n",
              "      <td>ADOPTION</td>\n",
              "      <td>INTERNET</td>\n",
              "      <td>TREATABLE/REHAB</td>\n",
              "      <td>HEALTHY</td>\n",
              "      <td>SANTA ROSA</td>\n",
              "      <td>COUNTY</td>\n",
              "      <td>95492</td>\n",
              "      <td>95492(38.541541, -122.809202)</td>\n",
              "      <td>1</td>\n",
              "      <td>True</td>\n",
              "      <td>2014</td>\n",
              "    </tr>\n",
              "    <tr>\n",
              "      <th>93</th>\n",
              "      <td>DOG</td>\n",
              "      <td>PIT BULL</td>\n",
              "      <td>BROWN/WHITE</td>\n",
              "      <td>Neutered</td>\n",
              "      <td>LARGE</td>\n",
              "      <td>6/10/14</td>\n",
              "      <td>2015-11-25</td>\n",
              "      <td>10/5/16</td>\n",
              "      <td>315</td>\n",
              "      <td>STRAY</td>\n",
              "      <td>OVER THE COUNTER</td>\n",
              "      <td>ADOPTION</td>\n",
              "      <td>REFERRAL</td>\n",
              "      <td>TREATABLE/MANAGEABLE</td>\n",
              "      <td>TREATABLE/MANAGEABLE</td>\n",
              "      <td>SANTA ROSA</td>\n",
              "      <td>SANTA ROSA</td>\n",
              "      <td>95404</td>\n",
              "      <td>95404(38.458384, -122.675588)</td>\n",
              "      <td>1</td>\n",
              "      <td>True</td>\n",
              "      <td>2015</td>\n",
              "    </tr>\n",
              "  </tbody>\n",
              "</table>\n",
              "</div>"
            ],
            "text/plain": [
              "   Type              Breed        Color  ... Count Adopted Intake_Year\n",
              "4   DOG  LABRADOR RETR/MIX        BLACK  ...     1    True        2015\n",
              "37  DOG  LABRADOR RETR/MIX  BLACK/WHITE  ...     1   False        2014\n",
              "64  DOG  LABRADOR RETR/MIX        BLACK  ...     1   False        2014\n",
              "82  CAT            SIAMESE      LYNX PT  ...     1    True        2014\n",
              "93  DOG           PIT BULL  BROWN/WHITE  ...     1    True        2015\n",
              "\n",
              "[5 rows x 22 columns]"
            ]
          },
          "metadata": {
            "tags": []
          },
          "execution_count": 36
        }
      ]
    },
    {
      "cell_type": "code",
      "metadata": {
        "id": "JMO4mQV9fixf",
        "colab_type": "code",
        "colab": {
          "base_uri": "https://localhost:8080/",
          "height": 292
        },
        "outputId": "bd301185-0492-44ec-c3d9-ea99a4e7359a"
      },
      "source": [
        "%pip install --upgrade category_encoders"
      ],
      "execution_count": 44,
      "outputs": [
        {
          "output_type": "stream",
          "text": [
            "Collecting category_encoders\n",
            "\u001b[?25l  Downloading https://files.pythonhosted.org/packages/44/57/fcef41c248701ee62e8325026b90c432adea35555cbc870aff9cfba23727/category_encoders-2.2.2-py2.py3-none-any.whl (80kB)\n",
            "\r\u001b[K     |████                            | 10kB 17.8MB/s eta 0:00:01\r\u001b[K     |████████▏                       | 20kB 1.8MB/s eta 0:00:01\r\u001b[K     |████████████▏                   | 30kB 2.3MB/s eta 0:00:01\r\u001b[K     |████████████████▎               | 40kB 2.6MB/s eta 0:00:01\r\u001b[K     |████████████████████▎           | 51kB 2.0MB/s eta 0:00:01\r\u001b[K     |████████████████████████▍       | 61kB 2.3MB/s eta 0:00:01\r\u001b[K     |████████████████████████████▍   | 71kB 2.6MB/s eta 0:00:01\r\u001b[K     |████████████████████████████████| 81kB 2.2MB/s \n",
            "\u001b[?25hRequirement already satisfied, skipping upgrade: scikit-learn>=0.20.0 in /usr/local/lib/python3.6/dist-packages (from category_encoders) (0.22.2.post1)\n",
            "Requirement already satisfied, skipping upgrade: statsmodels>=0.9.0 in /usr/local/lib/python3.6/dist-packages (from category_encoders) (0.10.2)\n",
            "Requirement already satisfied, skipping upgrade: pandas>=0.21.1 in /usr/local/lib/python3.6/dist-packages (from category_encoders) (1.0.5)\n",
            "Requirement already satisfied, skipping upgrade: patsy>=0.5.1 in /usr/local/lib/python3.6/dist-packages (from category_encoders) (0.5.1)\n",
            "Requirement already satisfied, skipping upgrade: scipy>=1.0.0 in /usr/local/lib/python3.6/dist-packages (from category_encoders) (1.4.1)\n",
            "Requirement already satisfied, skipping upgrade: numpy>=1.14.0 in /usr/local/lib/python3.6/dist-packages (from category_encoders) (1.18.5)\n",
            "Requirement already satisfied, skipping upgrade: joblib>=0.11 in /usr/local/lib/python3.6/dist-packages (from scikit-learn>=0.20.0->category_encoders) (0.16.0)\n",
            "Requirement already satisfied, skipping upgrade: python-dateutil>=2.6.1 in /usr/local/lib/python3.6/dist-packages (from pandas>=0.21.1->category_encoders) (2.8.1)\n",
            "Requirement already satisfied, skipping upgrade: pytz>=2017.2 in /usr/local/lib/python3.6/dist-packages (from pandas>=0.21.1->category_encoders) (2018.9)\n",
            "Requirement already satisfied, skipping upgrade: six in /usr/local/lib/python3.6/dist-packages (from patsy>=0.5.1->category_encoders) (1.15.0)\n",
            "Installing collected packages: category-encoders\n",
            "Successfully installed category-encoders-2.2.2\n"
          ],
          "name": "stdout"
        }
      ]
    },
    {
      "cell_type": "markdown",
      "metadata": {
        "id": "BIBjZYLvl05m",
        "colab_type": "text"
      },
      "source": [
        "**TASK 4**: Choose your evaluation metric(s).\n",
        "Classification: Is your majority class frequency >= 50% and < 70% ? If so, you can just use accuracy if you want."
      ]
    },
    {
      "cell_type": "code",
      "metadata": {
        "id": "st56eeBCdeaO",
        "colab_type": "code",
        "colab": {
          "base_uri": "https://localhost:8080/",
          "height": 34
        },
        "outputId": "a359f70a-c8dc-459d-ad8a-df3f37623aba"
      },
      "source": [
        "import category_encoders as ce\n",
        "from sklearn.pipeline import make_pipeline\n",
        "from sklearn.tree import DecisionTreeClassifier\n",
        "\n",
        "# target\n",
        "target = 'Adopted'\n",
        "\n",
        "# set features\n",
        "features = train.columns.drop([target, 'Intake_Date', 'Intake_Year', 'Outcome_Type'])\n",
        "\n",
        "# define X_train, y_train, X_val, and y_val\n",
        "X_train = train[features]\n",
        "y_train = train[target]\n",
        "X_val = val[features]\n",
        "y_val = val[target]\n",
        "\n",
        "# define pipeline\n",
        "pipeline = make_pipeline(\n",
        "    ce.OrdinalEncoder(),\n",
        "    DecisionTreeClassifier(max_depth=3)\n",
        ")\n",
        "\n",
        "# run pipeline on training\n",
        "pipeline.fit(X_train, y_train)\n",
        "\n",
        "# print validation accuracy\n",
        "print('Accuracy', pipeline.score(X_val, y_val))"
      ],
      "execution_count": 48,
      "outputs": [
        {
          "output_type": "stream",
          "text": [
            "Accuracy 0.904264837458992\n"
          ],
          "name": "stdout"
        }
      ]
    },
    {
      "cell_type": "code",
      "metadata": {
        "id": "ql9fGtABeoqz",
        "colab_type": "code",
        "colab": {
          "base_uri": "https://localhost:8080/",
          "height": 538
        },
        "outputId": "c349ea12-d6d7-4a6a-e625-b00ce609250b"
      },
      "source": [
        "# visualize decision tree\n",
        "import graphviz\n",
        "from sklearn.tree import export_graphviz\n",
        "\n",
        "tree = pipeline.named_steps['decisiontreeclassifier']\n",
        "\n",
        "dot_data = export_graphviz(\n",
        "    tree,\n",
        "    out_file=None,\n",
        "    feature_names=X_train.columns,\n",
        "    class_names=y_train.unique().astype(str),\n",
        "    filled=True,\n",
        "    impurity=False,\n",
        "    proportion=True\n",
        ")\n",
        "\n",
        "graphviz.Source(dot_data)"
      ],
      "execution_count": 50,
      "outputs": [
        {
          "output_type": "execute_result",
          "data": {
            "text/plain": [
              "<graphviz.files.Source at 0x7f5147b3f828>"
            ],
            "image/svg+xml": "<?xml version=\"1.0\" encoding=\"UTF-8\" standalone=\"no\"?>\n<!DOCTYPE svg PUBLIC \"-//W3C//DTD SVG 1.1//EN\"\n \"http://www.w3.org/Graphics/SVG/1.1/DTD/svg11.dtd\">\n<!-- Generated by graphviz version 2.40.1 (20161225.0304)\n -->\n<!-- Title: Tree Pages: 1 -->\n<svg width=\"989pt\" height=\"373pt\"\n viewBox=\"0.00 0.00 989.00 373.00\" xmlns=\"http://www.w3.org/2000/svg\" xmlns:xlink=\"http://www.w3.org/1999/xlink\">\n<g id=\"graph0\" class=\"graph\" transform=\"scale(1 1) rotate(0) translate(4 369)\">\n<title>Tree</title>\n<polygon fill=\"#ffffff\" stroke=\"transparent\" points=\"-4,4 -4,-369 985,-369 985,4 -4,4\"/>\n<!-- 0 -->\n<g id=\"node1\" class=\"node\">\n<title>0</title>\n<polygon fill=\"#f4ccae\" stroke=\"#000000\" points=\"585,-365 410,-365 410,-297 585,-297 585,-365\"/>\n<text text-anchor=\"middle\" x=\"497.5\" y=\"-349.8\" font-family=\"Times,serif\" font-size=\"14.00\" fill=\"#000000\">Outcome_Subtype &lt;= 10.5</text>\n<text text-anchor=\"middle\" x=\"497.5\" y=\"-334.8\" font-family=\"Times,serif\" font-size=\"14.00\" fill=\"#000000\">samples = 100.0%</text>\n<text text-anchor=\"middle\" x=\"497.5\" y=\"-319.8\" font-family=\"Times,serif\" font-size=\"14.00\" fill=\"#000000\">value = [0.628, 0.372]</text>\n<text text-anchor=\"middle\" x=\"497.5\" y=\"-304.8\" font-family=\"Times,serif\" font-size=\"14.00\" fill=\"#000000\">class = True</text>\n</g>\n<!-- 1 -->\n<g id=\"node2\" class=\"node\">\n<title>1</title>\n<polygon fill=\"#9ccef2\" stroke=\"#000000\" points=\"484,-261 329,-261 329,-193 484,-193 484,-261\"/>\n<text text-anchor=\"middle\" x=\"406.5\" y=\"-245.8\" font-family=\"Times,serif\" font-size=\"14.00\" fill=\"#000000\">Days_in_Shelter &lt;= 5.5</text>\n<text text-anchor=\"middle\" x=\"406.5\" y=\"-230.8\" font-family=\"Times,serif\" font-size=\"14.00\" fill=\"#000000\">samples = 48.8%</text>\n<text text-anchor=\"middle\" x=\"406.5\" y=\"-215.8\" font-family=\"Times,serif\" font-size=\"14.00\" fill=\"#000000\">value = [0.334, 0.666]</text>\n<text text-anchor=\"middle\" x=\"406.5\" y=\"-200.8\" font-family=\"Times,serif\" font-size=\"14.00\" fill=\"#000000\">class = False</text>\n</g>\n<!-- 0&#45;&gt;1 -->\n<g id=\"edge1\" class=\"edge\">\n<title>0&#45;&gt;1</title>\n<path fill=\"none\" stroke=\"#000000\" d=\"M467.7032,-296.9465C459.847,-287.968 451.2788,-278.1758 443.1087,-268.8385\"/>\n<polygon fill=\"#000000\" stroke=\"#000000\" points=\"445.5829,-266.351 436.3637,-261.13 440.3148,-270.9606 445.5829,-266.351\"/>\n<text text-anchor=\"middle\" x=\"434.7008\" y=\"-282.3746\" font-family=\"Times,serif\" font-size=\"14.00\" fill=\"#000000\">True</text>\n</g>\n<!-- 8 -->\n<g id=\"node9\" class=\"node\">\n<title>8</title>\n<polygon fill=\"#e88e4d\" stroke=\"#000000\" points=\"677,-261 502,-261 502,-193 677,-193 677,-261\"/>\n<text text-anchor=\"middle\" x=\"589.5\" y=\"-245.8\" font-family=\"Times,serif\" font-size=\"14.00\" fill=\"#000000\">Outcome_Subtype &lt;= 28.5</text>\n<text text-anchor=\"middle\" x=\"589.5\" y=\"-230.8\" font-family=\"Times,serif\" font-size=\"14.00\" fill=\"#000000\">samples = 51.2%</text>\n<text text-anchor=\"middle\" x=\"589.5\" y=\"-215.8\" font-family=\"Times,serif\" font-size=\"14.00\" fill=\"#000000\">value = [0.909, 0.091]</text>\n<text text-anchor=\"middle\" x=\"589.5\" y=\"-200.8\" font-family=\"Times,serif\" font-size=\"14.00\" fill=\"#000000\">class = True</text>\n</g>\n<!-- 0&#45;&gt;8 -->\n<g id=\"edge8\" class=\"edge\">\n<title>0&#45;&gt;8</title>\n<path fill=\"none\" stroke=\"#000000\" d=\"M527.6242,-296.9465C535.5668,-287.968 544.2291,-278.1758 552.489,-268.8385\"/>\n<polygon fill=\"#000000\" stroke=\"#000000\" points=\"555.3038,-270.939 559.3081,-261.13 550.0608,-266.301 555.3038,-270.939\"/>\n<text text-anchor=\"middle\" x=\"560.8358\" y=\"-282.3833\" font-family=\"Times,serif\" font-size=\"14.00\" fill=\"#000000\">False</text>\n</g>\n<!-- 2 -->\n<g id=\"node3\" class=\"node\">\n<title>2</title>\n<polygon fill=\"#e9965a\" stroke=\"#000000\" points=\"319,-157 152,-157 152,-89 319,-89 319,-157\"/>\n<text text-anchor=\"middle\" x=\"235.5\" y=\"-141.8\" font-family=\"Times,serif\" font-size=\"14.00\" fill=\"#000000\">Outcome_Subtype &lt;= 6.5</text>\n<text text-anchor=\"middle\" x=\"235.5\" y=\"-126.8\" font-family=\"Times,serif\" font-size=\"14.00\" fill=\"#000000\">samples = 15.4%</text>\n<text text-anchor=\"middle\" x=\"235.5\" y=\"-111.8\" font-family=\"Times,serif\" font-size=\"14.00\" fill=\"#000000\">value = [0.857, 0.143]</text>\n<text text-anchor=\"middle\" x=\"235.5\" y=\"-96.8\" font-family=\"Times,serif\" font-size=\"14.00\" fill=\"#000000\">class = True</text>\n</g>\n<!-- 1&#45;&gt;2 -->\n<g id=\"edge2\" class=\"edge\">\n<title>1&#45;&gt;2</title>\n<path fill=\"none\" stroke=\"#000000\" d=\"M350.5082,-192.9465C334.4168,-183.1599 316.7359,-172.4066 300.1666,-162.3294\"/>\n<polygon fill=\"#000000\" stroke=\"#000000\" points=\"301.9802,-159.336 291.6176,-157.13 298.3428,-165.3167 301.9802,-159.336\"/>\n</g>\n<!-- 5 -->\n<g id=\"node6\" class=\"node\">\n<title>5</title>\n<polygon fill=\"#4da7e8\" stroke=\"#000000\" points=\"484,-157 337,-157 337,-89 484,-89 484,-157\"/>\n<text text-anchor=\"middle\" x=\"410.5\" y=\"-141.8\" font-family=\"Times,serif\" font-size=\"14.00\" fill=\"#000000\">Sex &lt;= 2.5</text>\n<text text-anchor=\"middle\" x=\"410.5\" y=\"-126.8\" font-family=\"Times,serif\" font-size=\"14.00\" fill=\"#000000\">samples = 33.4%</text>\n<text text-anchor=\"middle\" x=\"410.5\" y=\"-111.8\" font-family=\"Times,serif\" font-size=\"14.00\" fill=\"#000000\">value = [0.093, 0.907]</text>\n<text text-anchor=\"middle\" x=\"410.5\" y=\"-96.8\" font-family=\"Times,serif\" font-size=\"14.00\" fill=\"#000000\">class = False</text>\n</g>\n<!-- 1&#45;&gt;5 -->\n<g id=\"edge5\" class=\"edge\">\n<title>1&#45;&gt;5</title>\n<path fill=\"none\" stroke=\"#000000\" d=\"M407.8097,-192.9465C408.124,-184.776 408.4642,-175.9318 408.7935,-167.3697\"/>\n<polygon fill=\"#000000\" stroke=\"#000000\" points=\"412.3003,-167.2572 409.1873,-157.13 405.3055,-166.9881 412.3003,-167.2572\"/>\n</g>\n<!-- 3 -->\n<g id=\"node4\" class=\"node\">\n<title>3</title>\n<polygon fill=\"#e78844\" stroke=\"#000000\" points=\"147,-53 0,-53 0,0 147,0 147,-53\"/>\n<text text-anchor=\"middle\" x=\"73.5\" y=\"-37.8\" font-family=\"Times,serif\" font-size=\"14.00\" fill=\"#000000\">samples = 13.7%</text>\n<text text-anchor=\"middle\" x=\"73.5\" y=\"-22.8\" font-family=\"Times,serif\" font-size=\"14.00\" fill=\"#000000\">value = [0.945, 0.055]</text>\n<text text-anchor=\"middle\" x=\"73.5\" y=\"-7.8\" font-family=\"Times,serif\" font-size=\"14.00\" fill=\"#000000\">class = True</text>\n</g>\n<!-- 2&#45;&gt;3 -->\n<g id=\"edge3\" class=\"edge\">\n<title>2&#45;&gt;3</title>\n<path fill=\"none\" stroke=\"#000000\" d=\"M178.3849,-88.9777C161.7059,-79.0424 143.5431,-68.2232 127.0906,-58.4228\"/>\n<polygon fill=\"#000000\" stroke=\"#000000\" points=\"128.529,-55.2058 118.1466,-53.095 124.9467,-61.2197 128.529,-55.2058\"/>\n</g>\n<!-- 4 -->\n<g id=\"node5\" class=\"node\">\n<title>4</title>\n<polygon fill=\"#5fb0ea\" stroke=\"#000000\" points=\"312,-53 165,-53 165,0 312,0 312,-53\"/>\n<text text-anchor=\"middle\" x=\"238.5\" y=\"-37.8\" font-family=\"Times,serif\" font-size=\"14.00\" fill=\"#000000\">samples = 1.7%</text>\n<text text-anchor=\"middle\" x=\"238.5\" y=\"-22.8\" font-family=\"Times,serif\" font-size=\"14.00\" fill=\"#000000\">value = [0.159, 0.841]</text>\n<text text-anchor=\"middle\" x=\"238.5\" y=\"-7.8\" font-family=\"Times,serif\" font-size=\"14.00\" fill=\"#000000\">class = False</text>\n</g>\n<!-- 2&#45;&gt;4 -->\n<g id=\"edge4\" class=\"edge\">\n<title>2&#45;&gt;4</title>\n<path fill=\"none\" stroke=\"#000000\" d=\"M236.5577,-88.9777C236.8139,-80.7364 237.089,-71.887 237.3493,-63.5153\"/>\n<polygon fill=\"#000000\" stroke=\"#000000\" points=\"240.8559,-63.3524 237.6684,-53.2485 233.8593,-63.1349 240.8559,-63.3524\"/>\n</g>\n<!-- 6 -->\n<g id=\"node7\" class=\"node\">\n<title>6</title>\n<polygon fill=\"#46a3e7\" stroke=\"#000000\" points=\"482,-53 335,-53 335,0 482,0 482,-53\"/>\n<text text-anchor=\"middle\" x=\"408.5\" y=\"-37.8\" font-family=\"Times,serif\" font-size=\"14.00\" fill=\"#000000\">samples = 31.3%</text>\n<text text-anchor=\"middle\" x=\"408.5\" y=\"-22.8\" font-family=\"Times,serif\" font-size=\"14.00\" fill=\"#000000\">value = [0.062, 0.938]</text>\n<text text-anchor=\"middle\" x=\"408.5\" y=\"-7.8\" font-family=\"Times,serif\" font-size=\"14.00\" fill=\"#000000\">class = False</text>\n</g>\n<!-- 5&#45;&gt;6 -->\n<g id=\"edge6\" class=\"edge\">\n<title>5&#45;&gt;6</title>\n<path fill=\"none\" stroke=\"#000000\" d=\"M409.7949,-88.9777C409.6241,-80.7364 409.4407,-71.887 409.2672,-63.5153\"/>\n<polygon fill=\"#000000\" stroke=\"#000000\" points=\"412.7609,-63.1738 409.0544,-53.2485 405.7624,-63.3189 412.7609,-63.1738\"/>\n</g>\n<!-- 7 -->\n<g id=\"node8\" class=\"node\">\n<title>7</title>\n<polygon fill=\"#fae6d8\" stroke=\"#000000\" points=\"647,-53 500,-53 500,0 647,0 647,-53\"/>\n<text text-anchor=\"middle\" x=\"573.5\" y=\"-37.8\" font-family=\"Times,serif\" font-size=\"14.00\" fill=\"#000000\">samples = 2.1%</text>\n<text text-anchor=\"middle\" x=\"573.5\" y=\"-22.8\" font-family=\"Times,serif\" font-size=\"14.00\" fill=\"#000000\">value = [0.555, 0.445]</text>\n<text text-anchor=\"middle\" x=\"573.5\" y=\"-7.8\" font-family=\"Times,serif\" font-size=\"14.00\" fill=\"#000000\">class = True</text>\n</g>\n<!-- 5&#45;&gt;7 -->\n<g id=\"edge7\" class=\"edge\">\n<title>5&#45;&gt;7</title>\n<path fill=\"none\" stroke=\"#000000\" d=\"M467.9677,-88.9777C484.7496,-79.0424 503.0246,-68.2232 519.5786,-58.4228\"/>\n<polygon fill=\"#000000\" stroke=\"#000000\" points=\"521.7558,-61.2013 528.5778,-53.095 518.1897,-55.1777 521.7558,-61.2013\"/>\n</g>\n<!-- 9 -->\n<g id=\"node10\" class=\"node\">\n<title>9</title>\n<polygon fill=\"#e58139\" stroke=\"#000000\" points=\"640,-149.5 523,-149.5 523,-96.5 640,-96.5 640,-149.5\"/>\n<text text-anchor=\"middle\" x=\"581.5\" y=\"-134.3\" font-family=\"Times,serif\" font-size=\"14.00\" fill=\"#000000\">samples = 34.2%</text>\n<text text-anchor=\"middle\" x=\"581.5\" y=\"-119.3\" font-family=\"Times,serif\" font-size=\"14.00\" fill=\"#000000\">value = [1.0, 0.0]</text>\n<text text-anchor=\"middle\" x=\"581.5\" y=\"-104.3\" font-family=\"Times,serif\" font-size=\"14.00\" fill=\"#000000\">class = True</text>\n</g>\n<!-- 8&#45;&gt;9 -->\n<g id=\"edge9\" class=\"edge\">\n<title>8&#45;&gt;9</title>\n<path fill=\"none\" stroke=\"#000000\" d=\"M586.8805,-192.9465C586.0586,-182.2621 585.1481,-170.4254 584.3134,-159.5742\"/>\n<polygon fill=\"#000000\" stroke=\"#000000\" points=\"587.7985,-159.2442 583.5417,-149.5422 580.8191,-159.7812 587.7985,-159.2442\"/>\n</g>\n<!-- 10 -->\n<g id=\"node11\" class=\"node\">\n<title>10</title>\n<polygon fill=\"#efb184\" stroke=\"#000000\" points=\"833,-157 658,-157 658,-89 833,-89 833,-157\"/>\n<text text-anchor=\"middle\" x=\"745.5\" y=\"-141.8\" font-family=\"Times,serif\" font-size=\"14.00\" fill=\"#000000\">Outcome_Subtype &lt;= 34.5</text>\n<text text-anchor=\"middle\" x=\"745.5\" y=\"-126.8\" font-family=\"Times,serif\" font-size=\"14.00\" fill=\"#000000\">samples = 17.0%</text>\n<text text-anchor=\"middle\" x=\"745.5\" y=\"-111.8\" font-family=\"Times,serif\" font-size=\"14.00\" fill=\"#000000\">value = [0.725, 0.275]</text>\n<text text-anchor=\"middle\" x=\"745.5\" y=\"-96.8\" font-family=\"Times,serif\" font-size=\"14.00\" fill=\"#000000\">class = True</text>\n</g>\n<!-- 8&#45;&gt;10 -->\n<g id=\"edge10\" class=\"edge\">\n<title>8&#45;&gt;10</title>\n<path fill=\"none\" stroke=\"#000000\" d=\"M640.5802,-192.9465C654.9908,-183.3395 670.7986,-172.8009 685.6728,-162.8848\"/>\n<polygon fill=\"#000000\" stroke=\"#000000\" points=\"687.926,-165.5892 694.305,-157.13 684.043,-159.7649 687.926,-165.5892\"/>\n</g>\n<!-- 11 -->\n<g id=\"node12\" class=\"node\">\n<title>11</title>\n<polygon fill=\"#b6dbf5\" stroke=\"#000000\" points=\"816,-53 669,-53 669,0 816,0 816,-53\"/>\n<text text-anchor=\"middle\" x=\"742.5\" y=\"-37.8\" font-family=\"Times,serif\" font-size=\"14.00\" fill=\"#000000\">samples = 5.3%</text>\n<text text-anchor=\"middle\" x=\"742.5\" y=\"-22.8\" font-family=\"Times,serif\" font-size=\"14.00\" fill=\"#000000\">value = [0.388, 0.612]</text>\n<text text-anchor=\"middle\" x=\"742.5\" y=\"-7.8\" font-family=\"Times,serif\" font-size=\"14.00\" fill=\"#000000\">class = False</text>\n</g>\n<!-- 10&#45;&gt;11 -->\n<g id=\"edge11\" class=\"edge\">\n<title>10&#45;&gt;11</title>\n<path fill=\"none\" stroke=\"#000000\" d=\"M744.4423,-88.9777C744.1861,-80.7364 743.911,-71.887 743.6507,-63.5153\"/>\n<polygon fill=\"#000000\" stroke=\"#000000\" points=\"747.1407,-63.1349 743.3316,-53.2485 740.1441,-63.3524 747.1407,-63.1349\"/>\n</g>\n<!-- 12 -->\n<g id=\"node13\" class=\"node\">\n<title>12</title>\n<polygon fill=\"#e99254\" stroke=\"#000000\" points=\"981,-53 834,-53 834,0 981,0 981,-53\"/>\n<text text-anchor=\"middle\" x=\"907.5\" y=\"-37.8\" font-family=\"Times,serif\" font-size=\"14.00\" fill=\"#000000\">samples = 11.6%</text>\n<text text-anchor=\"middle\" x=\"907.5\" y=\"-22.8\" font-family=\"Times,serif\" font-size=\"14.00\" fill=\"#000000\">value = [0.879, 0.121]</text>\n<text text-anchor=\"middle\" x=\"907.5\" y=\"-7.8\" font-family=\"Times,serif\" font-size=\"14.00\" fill=\"#000000\">class = True</text>\n</g>\n<!-- 10&#45;&gt;12 -->\n<g id=\"edge12\" class=\"edge\">\n<title>10&#45;&gt;12</title>\n<path fill=\"none\" stroke=\"#000000\" d=\"M802.6151,-88.9777C819.2941,-79.0424 837.4569,-68.2232 853.9094,-58.4228\"/>\n<polygon fill=\"#000000\" stroke=\"#000000\" points=\"856.0533,-61.2197 862.8534,-53.095 852.471,-55.2058 856.0533,-61.2197\"/>\n</g>\n</g>\n</svg>\n"
          },
          "metadata": {
            "tags": []
          },
          "execution_count": 50
        }
      ]
    },
    {
      "cell_type": "code",
      "metadata": {
        "id": "eje_WDfdiYCl",
        "colab_type": "code",
        "colab": {
          "base_uri": "https://localhost:8080/",
          "height": 68
        },
        "outputId": "f64dcdb0-08ff-4063-fccd-8ad35bde3481"
      },
      "source": [
        "# distribution of classes\n",
        "y.value_counts(normalize=True)"
      ],
      "execution_count": 51,
      "outputs": [
        {
          "output_type": "execute_result",
          "data": {
            "text/plain": [
              "False    0.679252\n",
              "True     0.320748\n",
              "Name: Adopted, dtype: float64"
            ]
          },
          "metadata": {
            "tags": []
          },
          "execution_count": 51
        }
      ]
    },
    {
      "cell_type": "code",
      "metadata": {
        "id": "ZkFBSPGKiwv4",
        "colab_type": "code",
        "colab": {
          "base_uri": "https://localhost:8080/",
          "height": 34
        },
        "outputId": "54eafcf7-4116-402f-d442-a032e931b5c0"
      },
      "source": [
        "# calculate ROC AUC with sklearn\n",
        "from sklearn.metrics import roc_auc_score\n",
        "\n",
        "# predicted probabilities\n",
        "y_pred_proba = pipeline.predict_proba(X_val)[:, -1]\n",
        "\n",
        "# calculate AUC\n",
        "auc = roc_auc_score(y_val, y_pred_proba)\n",
        "\n",
        "auc"
      ],
      "execution_count": 53,
      "outputs": [
        {
          "output_type": "execute_result",
          "data": {
            "text/plain": [
              "0.9425365753168826"
            ]
          },
          "metadata": {
            "tags": []
          },
          "execution_count": 53
        }
      ]
    },
    {
      "cell_type": "code",
      "metadata": {
        "id": "aNVCFxwOjAB9",
        "colab_type": "code",
        "colab": {
          "base_uri": "https://localhost:8080/",
          "height": 297
        },
        "outputId": "6370facb-c2b0-4b85-a3b4-35f40b9550de"
      },
      "source": [
        "# calculate True Positive Rate (TPR) & False Positive Rate (FPR) at various thresholds\n",
        "from sklearn.metrics import roc_curve\n",
        "\n",
        "fpr, tpr, thresholds = roc_curve(y_val, y_pred_proba)\n",
        "\n",
        "# table results\n",
        "pd.DataFrame({\n",
        "    'False Positive Rate': fpr,\n",
        "    'True Positive Rate': tpr,\n",
        "    'Threshold': thresholds\n",
        "})"
      ],
      "execution_count": 54,
      "outputs": [
        {
          "output_type": "execute_result",
          "data": {
            "text/html": [
              "<div>\n",
              "<style scoped>\n",
              "    .dataframe tbody tr th:only-of-type {\n",
              "        vertical-align: middle;\n",
              "    }\n",
              "\n",
              "    .dataframe tbody tr th {\n",
              "        vertical-align: top;\n",
              "    }\n",
              "\n",
              "    .dataframe thead th {\n",
              "        text-align: right;\n",
              "    }\n",
              "</style>\n",
              "<table border=\"1\" class=\"dataframe\">\n",
              "  <thead>\n",
              "    <tr style=\"text-align: right;\">\n",
              "      <th></th>\n",
              "      <th>False Positive Rate</th>\n",
              "      <th>True Positive Rate</th>\n",
              "      <th>Threshold</th>\n",
              "    </tr>\n",
              "  </thead>\n",
              "  <tbody>\n",
              "    <tr>\n",
              "      <th>0</th>\n",
              "      <td>0.000000</td>\n",
              "      <td>0.000000</td>\n",
              "      <td>1.938416</td>\n",
              "    </tr>\n",
              "    <tr>\n",
              "      <th>1</th>\n",
              "      <td>0.066774</td>\n",
              "      <td>0.812100</td>\n",
              "      <td>0.938416</td>\n",
              "    </tr>\n",
              "    <tr>\n",
              "      <th>2</th>\n",
              "      <td>0.071185</td>\n",
              "      <td>0.842350</td>\n",
              "      <td>0.840708</td>\n",
              "    </tr>\n",
              "    <tr>\n",
              "      <th>3</th>\n",
              "      <td>0.098456</td>\n",
              "      <td>0.912158</td>\n",
              "      <td>0.612069</td>\n",
              "    </tr>\n",
              "    <tr>\n",
              "      <th>4</th>\n",
              "      <td>0.165831</td>\n",
              "      <td>0.959860</td>\n",
              "      <td>0.445255</td>\n",
              "    </tr>\n",
              "    <tr>\n",
              "      <th>5</th>\n",
              "      <td>0.308201</td>\n",
              "      <td>0.962769</td>\n",
              "      <td>0.120894</td>\n",
              "    </tr>\n",
              "    <tr>\n",
              "      <th>6</th>\n",
              "      <td>0.516342</td>\n",
              "      <td>1.000000</td>\n",
              "      <td>0.054871</td>\n",
              "    </tr>\n",
              "    <tr>\n",
              "      <th>7</th>\n",
              "      <td>1.000000</td>\n",
              "      <td>1.000000</td>\n",
              "      <td>0.000000</td>\n",
              "    </tr>\n",
              "  </tbody>\n",
              "</table>\n",
              "</div>"
            ],
            "text/plain": [
              "   False Positive Rate  True Positive Rate  Threshold\n",
              "0             0.000000            0.000000   1.938416\n",
              "1             0.066774            0.812100   0.938416\n",
              "2             0.071185            0.842350   0.840708\n",
              "3             0.098456            0.912158   0.612069\n",
              "4             0.165831            0.959860   0.445255\n",
              "5             0.308201            0.962769   0.120894\n",
              "6             0.516342            1.000000   0.054871\n",
              "7             1.000000            1.000000   0.000000"
            ]
          },
          "metadata": {
            "tags": []
          },
          "execution_count": 54
        }
      ]
    },
    {
      "cell_type": "code",
      "metadata": {
        "id": "n9r2MV0RjmnY",
        "colab_type": "code",
        "colab": {
          "base_uri": "https://localhost:8080/",
          "height": 295
        },
        "outputId": "3d992918-748e-4cbc-c5b9-b5c37e0913db"
      },
      "source": [
        "# plot results (ROC Curve)\n",
        "import matplotlib.pyplot as plt\n",
        "plt.scatter(fpr, tpr)\n",
        "plt.plot(fpr, tpr)\n",
        "plt.title('ROC curve')\n",
        "plt.xlabel('False Positive Rate')\n",
        "plt.ylabel('True Positive Rate');"
      ],
      "execution_count": 55,
      "outputs": [
        {
          "output_type": "display_data",
          "data": {
            "image/png": "[encoded data removed]",
            "text/plain": [
              "<Figure size 432x288 with 1 Axes>"
            ]
          },
          "metadata": {
            "tags": [],
            "needs_background": "light"
          }
        }
      ]
    },
    {
      "cell_type": "code",
      "metadata": {
        "id": "daBu0-qLj5cm",
        "colab_type": "code",
        "colab": {}
      },
      "source": [
        ""
      ],
      "execution_count": null,
      "outputs": []
    }
  ]
}