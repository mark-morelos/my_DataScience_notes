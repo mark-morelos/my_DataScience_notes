{
  "nbformat": 4,
  "nbformat_minor": 0,
  "metadata": {
    "kernelspec": {
      "display_name": "Python 3",
      "language": "python",
      "name": "python3"
    },
    "language_info": {
      "codemirror_mode": {
        "name": "ipython",
        "version": 3
      },
      "file_extension": ".py",
      "mimetype": "text/x-python",
      "name": "python",
      "nbconvert_exporter": "python",
      "pygments_lexer": "ipython3",
      "version": "3.7.3"
    },
    "colab": {
      "name": "LS_DS_231.ipynb",
      "provenance": [],
      "collapsed_sections": []
    }
  },
  "cells": [
    {
      "cell_type": "markdown",
      "metadata": {
        "id": "cie6ycbqqToV"
      },
      "source": [
        "\n",
        "Lambda School Data Science\n",
        "\n",
        "*Unit 2, Sprint 3, Module 1*\n",
        "\n",
        "---\n",
        "\n"
      ]
    },
    {
      "cell_type": "markdown",
      "metadata": {
        "id": "LQIM1V_VqToY"
      },
      "source": [
        "# Define ML problems\n",
        "- Choose a target to predict, and check its distribution\n",
        "- Avoid leakage of information from test to train or from target to features\n",
        "- Choose an appropriate evaluation metric\n"
      ]
    },
    {
      "cell_type": "markdown",
      "metadata": {
        "id": "OCxffUUBqToZ"
      },
      "source": [
        "### Setup\n"
      ]
    },
    {
      "cell_type": "code",
      "metadata": {
        "id": "cLjFN0AvqTod"
      },
      "source": [
        "%%capture\n",
        "import sys\n",
        "\n",
        "# If you're on Colab:\n",
        "if 'google.colab' in sys.modules:\n",
        "    DATA_PATH = 'https://raw.githubusercontent.com/LambdaSchool/DS-Unit-2-Applied-Modeling/master/data/'\n",
        "    !pip install category_encoders==2.*\n",
        "\n",
        "# If you're working locally:\n",
        "else:\n",
        "    DATA_PATH = '../data/'"
      ],
      "execution_count": null,
      "outputs": []
    },
    {
      "cell_type": "markdown",
      "metadata": {
        "id": "yWGwK99zqTon"
      },
      "source": [
        "# Choose a target to predict, and check its distribution"
      ]
    },
    {
      "cell_type": "markdown",
      "metadata": {
        "id": "ee-erdAlqToo"
      },
      "source": [
        "## Overview"
      ]
    },
    {
      "cell_type": "markdown",
      "metadata": {
        "id": "IWXjmRbWqTo1"
      },
      "source": [
        "This is the data science process at a high level:\n",
        "\n",
        "<img src=\"https://image.slidesharecdn.com/becomingadatascientistadvice-pydatadc-shared-161012184823/95/becoming-a-data-scientist-advice-from-my-podcast-guests-55-638.jpg?cb=1476298295\">\n",
        "\n",
        "—Renee Teate, [Becoming a Data Scientist, PyData DC 2016 Talk](https://www.becomingadatascientist.com/2016/10/11/pydata-dc-2016-talk/)"
      ]
    },
    {
      "cell_type": "markdown",
      "metadata": {
        "id": "AmvYwTbpqTo2"
      },
      "source": [
        "We've focused on the 2nd arrow in the diagram, by training predictive models. Now let's zoom out and focus on the 1st arrow: defining problems, by translating business questions into code/data questions."
      ]
    },
    {
      "cell_type": "markdown",
      "metadata": {
        "id": "XL1spVIwqTo3"
      },
      "source": [
        "Last sprint, you did a Kaggle Challenge. It’s a great way to practice model validation and other technical skills. But that's just part of the modeling process. [Kaggle gets critiqued](https://speakerdeck.com/szilard/machine-learning-software-in-practice-quo-vadis-invited-talk-kdd-conference-applied-data-science-track-august-2017-halifax-canada?slide=119) because some things are done for you: Like [**defining the problem!**](https://www.linkedin.com/pulse/data-science-taught-universities-here-why-maciej-wasiak/) In today’s module, you’ll begin to practice this objective, with your dataset you’ve chosen for your personal portfolio project.\n",
        "\n",
        "When defining a supervised machine learning problem, one of the first steps is choosing a target to predict."
      ]
    },
    {
      "cell_type": "markdown",
      "metadata": {
        "id": "gAhAuQJ9qTo4"
      },
      "source": [
        "Which column in your tabular dataset will you predict?\n",
        "\n",
        "Is your problem regression or classification? You have options. Sometimes it’s not straightforward, as we'll see below.\n",
        "\n",
        "- Discrete, ordinal, low cardinality target: Can be regression or multi-class classification.\n",
        "- (In)equality comparison: Converts regression or multi-class classification to binary classification.\n",
        "- Predicted probability: Seems to [blur](https://brohrer.github.io/five_questions_data_science_answers.html) the line between classification and regression."
      ]
    },
    {
      "cell_type": "markdown",
      "metadata": {
        "id": "qWakIDMqqTo4"
      },
      "source": [
        "## Follow Along"
      ]
    },
    {
      "cell_type": "markdown",
      "metadata": {
        "id": "kDaoKKdQqTo5"
      },
      "source": [
        "Let's reuse the [Burrito reviews dataset.](https://nbviewer.jupyter.org/github/LambdaSchool/DS-Unit-2-Linear-Models/blob/master/module4-logistic-regression/LS_DS_214_assignment.ipynb) 🌯\n"
      ]
    },
    {
      "cell_type": "code",
      "metadata": {
        "lines_to_next_cell": 2,
        "id": "dmvtVcX9qTo7"
      },
      "source": [
        "import pandas as pd\n",
        "import numpy as np\n",
        "pd.options.display.max_columns = None\n",
        "df = pd.read_csv(DATA_PATH+'burritos/burritos.csv')"
      ],
      "execution_count": null,
      "outputs": []
    },
    {
      "cell_type": "markdown",
      "metadata": {
        "id": "bF82gkuwqTpD"
      },
      "source": [
        "### Choose your target \n",
        "\n",
        "Which column in your tabular dataset will you predict?\n"
      ]
    },
    {
      "cell_type": "code",
      "metadata": {
        "lines_to_next_cell": 2,
        "id": "wMCrLgfrqTpE"
      },
      "source": [
        "#Our business problem is: We are an burrito startup designing our next gen burrito. \n",
        "#We want to know what makes a burrito good and a bad burrito bad.\n",
        "\n",
        "#What are the columns?\n",
        "df.head()\n",
        "df.columns\n",
        "\n",
        "#Which column should we use for our predictive model?\n",
        "df['overall'].describe()\n",
        "\n",
        "#What is the distribution for this column?\n",
        "\n",
        "#What is the count of each unique value in this column?\n",
        "df['overall'].value_counts()\n",
        "\n",
        "#what is the percent of each unique value in this column?\n",
        "df['overall'].value_counts(normalize = True) \n",
        "\n",
        "#Should we make any modifications to this variable for our predictive model?\n",
        "df = df.dropna(subset=['overall'])\n",
        "\n",
        "df['Great'] = df['overall'] >= 4\n"
      ],
      "execution_count": null,
      "outputs": []
    },
    {
      "cell_type": "markdown",
      "metadata": {
        "id": "j5cymOWcqTpI"
      },
      "source": [
        "### How is your target distributed?\n",
        "\n",
        "For a classification problem, determine: How many classes? Are the classes imbalanced?"
      ]
    },
    {
      "cell_type": "code",
      "metadata": {
        "id": "89UBXHsPqTpI",
        "colab": {
          "base_uri": "https://localhost:8080/",
          "height": 69
        },
        "outputId": "71c21566-5f9f-45e1-d715-079d95d62496"
      },
      "source": [
        "#How many classes do I have? What are the classes named?\n",
        "y = df['Great']\n",
        "\n",
        "y.unique()\n",
        "y.nunique()\n",
        "#What is the frequency of the classes?\n",
        "\n",
        "y.value_counts(normalize = True)"
      ],
      "execution_count": null,
      "outputs": [
        {
          "output_type": "execute_result",
          "data": {
            "text/plain": [
              "False    0.567696\n",
              "True     0.432304\n",
              "Name: Great, dtype: float64"
            ]
          },
          "metadata": {
            "tags": []
          },
          "execution_count": 62
        }
      ]
    },
    {
      "cell_type": "markdown",
      "metadata": {
        "id": "EZZUyuiAqTpL"
      },
      "source": [
        "# Avoid leakage of information from test to train or from target to features"
      ]
    },
    {
      "cell_type": "markdown",
      "metadata": {
        "id": "rogepdv-qTpM"
      },
      "source": [
        "## Overview"
      ]
    },
    {
      "cell_type": "markdown",
      "metadata": {
        "id": "7Ck9pjD_qTpO"
      },
      "source": [
        "Overfitting is our enemy in applied machine learning, and leakage is often the cause.\n",
        "\n",
        "> Make sure your training features do not contain data from the “future” (aka time traveling). While this might be easy and obvious in some cases, it can get tricky. … If your test metric becomes really good all of the sudden, ask yourself what you might be doing wrong. Chances are you are time travelling or overfitting in some way. — [Xavier Amatriain](https://www.quora.com/What-are-some-best-practices-for-training-machine-learning-models/answer/Xavier-Amatriain)\n",
        "\n",
        "Choose train, validate, and test sets. Are some observations outliers? Will you exclude them? Will you do a random split or a time-based split? You can (re)read [How (and why) to create a good validation set](https://www.fast.ai/2017/11/13/validation-sets/)."
      ]
    },
    {
      "cell_type": "markdown",
      "metadata": {
        "id": "V_cPVoVyqTpP"
      },
      "source": [
        "## Follow Along"
      ]
    },
    {
      "cell_type": "markdown",
      "metadata": {
        "id": "5IevvAoXqTpP"
      },
      "source": [
        "First, begin to **explore and clean your data.**"
      ]
    },
    {
      "cell_type": "code",
      "metadata": {
        "id": "I64SDFZdqTpQ",
        "colab": {
          "base_uri": "https://localhost:8080/",
          "height": 35
        },
        "outputId": "76216fba-a8a0-4d39-8939-8f2775d2e176"
      },
      "source": [
        "#How many kinds of burritos do we have?\n",
        "df['Burrito'].nunique()\n",
        "\n"
      ],
      "execution_count": null,
      "outputs": [
        {
          "output_type": "execute_result",
          "data": {
            "text/plain": [
              "132"
            ]
          },
          "metadata": {
            "tags": []
          },
          "execution_count": 63
        }
      ]
    },
    {
      "cell_type": "code",
      "metadata": {
        "id": "pkT_FQUJ39Hg",
        "colab": {
          "base_uri": "https://localhost:8080/",
          "height": 692
        },
        "outputId": "8060f877-700a-4444-9fb1-0b0ede3d1507"
      },
      "source": [
        "#What are the names of these burritos?\n",
        "df['Burrito'].unique()"
      ],
      "execution_count": null,
      "outputs": [
        {
          "output_type": "execute_result",
          "data": {
            "text/plain": [
              "array(['California ', 'Carnitas', 'Carne asada', 'California',\n",
              "       'combo chicken', 'Monster California', 'Carne Asada',\n",
              "       'Surf & Turf', 'Chile verde pork', 'battered fish ',\n",
              "       'Surf and turf ', 'Adobada ', 'Barbacoa', '2 in 1', 'Adobado',\n",
              "       'Shredded beef', 'Hawaiian', 'Bandido', 'Campeon', 'carne asada',\n",
              "       'California chicken', 'Azteca', 'Lobster', 'Al pastor', 'Custom',\n",
              "       'Machaca', 'Quesaburro', 'Philly ', 'Quesa', 'Surf and turf',\n",
              "       'Mahi', 'Addiction', 'Oaxacalifornia', \"Deborah's special\",\n",
              "       'Chicken nopalito', 'Adobada', 'Chicken', 'California Everything',\n",
              "       'Chile relleno and carnitas', 'California (only cheese)', 'Fish',\n",
              "       'Chimichanga beef', 'Pastor', 'El Hawaiiano ', 'Shrimp',\n",
              "       'El Rusio', 'Bacon breakfast', 'Chile Relleno', 'Bomb', 'Arizona',\n",
              "       'California Burrito', '619 Burrito Original', 'Chicken asada',\n",
              "       'Carne adobada ', 'Bean and cheese', 'Pokirrito classic ',\n",
              "       'Mauna Lani', 'Especial ', 'Ranchero steak', 'Vegetarian',\n",
              "       'Colimas burrito', 'Bean and rice grande size', 'Surf and Turf',\n",
              "       'Bean and Cheese', 'Pollo california', 'California breakfast',\n",
              "       'Baja monster', 'Local', 'Fusion', 'California Surf', 'Super',\n",
              "       'Mixed', 'Carne asada everything', 'Pollo asado', 'Tilapia one',\n",
              "       'Surfin California', 'Nutty', 'Veg Out', 'Veggie',\n",
              "       'California - Steak', 'California - Pork Adobada',\n",
              "       'California - Chicken', 'Holy Moly', 'Barbacoa ',\n",
              "       'California + Guac + sour cream', 'Al Pastor', 'Pollo adobado',\n",
              "       'Asada', 'California Chipotle', \"Dave's California\",\n",
              "       'Chicken and rice', 'Breakfast', 'Fajitas ', 'Tejano',\n",
              "       'Shrimp with guac', 'Bean & cheese', 'Al pastor ',\n",
              "       'Carne asada supreme', 'Cali Diablo', 'Pork california',\n",
              "       'Bitchin California', 'Tijuana', 'Combo chicken',\n",
              "       'Chicken avocado', 'Cabeza', 'Chicken Shawarma', 'Hot cheetos',\n",
              "       'Spicy a la Diabla', 'California everything',\n",
              "       'California everything mini', 'TGunz', 'Al pastor tradicional ',\n",
              "       'Grilled fish salmon', 'Cheese steak', 'California Surf and Turf',\n",
              "       'Shrimp california', 'carne asada ', 'fried fish',\n",
              "       'Steak everything ', 'Golden State', 'Steak fajitas', 'Hashbrown',\n",
              "       'Steak with guacamole', 'Chile Verde (pork)', 'Supreme chicken',\n",
              "       'Carnitas ', 'Alambre california', 'Surfin california',\n",
              "       'Ado-haba california', 'Ala tingada california', 'La Paz',\n",
              "       'Pollo Asado'], dtype=object)"
            ]
          },
          "metadata": {
            "tags": []
          },
          "execution_count": 64
        }
      ]
    },
    {
      "cell_type": "code",
      "metadata": {
        "id": "WHoSyd7W39_h",
        "colab": {
          "base_uri": "https://localhost:8080/",
          "height": 124
        },
        "outputId": "7823f0ab-4411-4a90-d5a4-649cc031f079"
      },
      "source": [
        "#Combine burrito categories\n",
        "\n",
        "#Make all the burrito names lowercase\n",
        "df['Burrito'] = df['Burrito'].str.lower()\n",
        "\n",
        "\n",
        "#Create logical vectors of whether or not the observation is a certain burrito\n",
        "#type (e.g. California, Asada, Surf & Turf, Carnitas, and other)\n",
        "california = df['Burrito'].str.contains('california')\n",
        "asada = df['Burrito'].str.contains('asada')\n",
        "surf = df['Burrito'].str.contains('surf')\n",
        "carnitas = df['Burrito'].str.contains('carnitas')\n",
        "\n",
        "#Rename values to simpler versions of the burrito types\n",
        "df.loc[california, 'Burrito'] = 'California'\n",
        "df.loc[asada, 'Burrito'] = 'Asada'\n",
        "df.loc[surf, 'Burrito'] = 'Surf & Turf'\n",
        "df.loc[carnitas, 'Burrito'] = 'Carnitas'\n",
        "df.loc[~california & ~asada & ~surf & ~carnitas, 'Burrito'] = 'Other'\n",
        "\n",
        "df['Burrito'].value_counts()"
      ],
      "execution_count": null,
      "outputs": [
        {
          "output_type": "execute_result",
          "data": {
            "text/plain": [
              "California     169\n",
              "Other          156\n",
              "Asada           43\n",
              "Surf & Turf     28\n",
              "Carnitas        25\n",
              "Name: Burrito, dtype: int64"
            ]
          },
          "metadata": {
            "tags": []
          },
          "execution_count": 70
        }
      ]
    },
    {
      "cell_type": "code",
      "metadata": {
        "id": "gfK-gQW671yi"
      },
      "source": [
        "#Drop some of the high cardinality features\n",
        "df = df.drop(columns=['Notes', 'Location', 'Reviewer', 'Address', 'URL', 'Neighborhood'])\n"
      ],
      "execution_count": null,
      "outputs": []
    },
    {
      "cell_type": "code",
      "metadata": {
        "id": "wPcG_SAc_Wxu",
        "colab": {
          "base_uri": "https://localhost:8080/",
          "height": 230
        },
        "outputId": "ebd33aa5-7787-43b3-abd7-853b0885f176"
      },
      "source": [
        "#Count the missing values\n",
        "df.isna().sum().sort_values()"
      ],
      "execution_count": null,
      "outputs": [
        {
          "output_type": "execute_result",
          "data": {
            "text/plain": [
              "Burrito       0\n",
              "overall       0\n",
              "Tortilla      0\n",
              "Great         0\n",
              "Date          0\n",
              "           ... \n",
              "Ham         419\n",
              "Lobster     420\n",
              "Zucchini    420\n",
              "Carrots     420\n",
              "Queso       421\n",
              "Length: 61, dtype: int64"
            ]
          },
          "metadata": {
            "tags": []
          },
          "execution_count": 72
        }
      ]
    },
    {
      "cell_type": "code",
      "metadata": {
        "id": "SMLhA-Ac_1jZ"
      },
      "source": [
        "#Fill in the missing values with the value \"Missing\"\n",
        "df = df.fillna('Missing')"
      ],
      "execution_count": null,
      "outputs": []
    },
    {
      "cell_type": "markdown",
      "metadata": {
        "id": "zSM5mG6lqTpU"
      },
      "source": [
        "Next, do a **time-based split:**\n",
        "\n",
        "- Train on reviews from 2016 & earlier. \n",
        "- Validate on 2017. \n",
        "- Test on 2018 & later."
      ]
    },
    {
      "cell_type": "code",
      "metadata": {
        "id": "Cr0sRUs-qTpU"
      },
      "source": [
        "#Convert 'Date' column to a datetime variable type\n",
        "df['Date'] = pd.to_datetime(df['Date'])"
      ],
      "execution_count": null,
      "outputs": []
    },
    {
      "cell_type": "code",
      "metadata": {
        "id": "EE3S7PmZAfFn"
      },
      "source": [
        "#Set training set equal to values from 2016 and earlier\n",
        "train = df[df['Date'].dt.year <= 2016]\n",
        "\n",
        "#Set validation set equal to year 2017\n",
        "val = df[df['Date'].dt.year == 2017]\n",
        "\n",
        "#Set test set equal to values from after 2018\n",
        "test = df[df['Date'].dt.year >= 2018]\n"
      ],
      "execution_count": null,
      "outputs": []
    },
    {
      "cell_type": "code",
      "metadata": {
        "id": "QUFbHzaXAzRU",
        "colab": {
          "base_uri": "https://localhost:8080/",
          "height": 35
        },
        "outputId": "3df5566e-94b4-4679-ce57-769a68829dd0"
      },
      "source": [
        "#What is the shape of each of these dataframes?\n",
        "train.shape"
      ],
      "execution_count": null,
      "outputs": [
        {
          "output_type": "execute_result",
          "data": {
            "text/plain": [
              "(298, 61)"
            ]
          },
          "metadata": {
            "tags": []
          },
          "execution_count": 78
        }
      ]
    },
    {
      "cell_type": "markdown",
      "metadata": {
        "id": "hAsHR3vgqTpY"
      },
      "source": [
        "Begin to choose which features, if any, to exclude. **Would some features “leak” future information?**\n",
        "\n",
        "What happens if we _DON’T_ drop features with leakage?"
      ]
    },
    {
      "cell_type": "code",
      "metadata": {
        "id": "LcV95YqPqTpZ",
        "colab": {
          "base_uri": "https://localhost:8080/",
          "height": 35
        },
        "outputId": "af27be60-a777-40fe-d22b-18bf28702b27"
      },
      "source": [
        "import category_encoders as ce\n",
        "from sklearn.pipeline import make_pipeline\n",
        "from sklearn.tree import DecisionTreeClassifier\n",
        "\n",
        "#Set target\n",
        "target = 'Great'\n",
        "\n",
        "#Set features\n",
        "features = train.columns.drop([target, 'Date'])\n",
        "\n",
        "#define x_train, y_train, x_val, and y_val\n",
        "X_train = train[features]\n",
        "y_train = train[target]\n",
        "X_val = val[features]\n",
        "y_val = val[target]\n",
        "\n",
        "\n",
        "#Define pipeline\n",
        "pipeline = make_pipeline(\n",
        "    ce.OrdinalEncoder(),\n",
        "    DecisionTreeClassifier(max_depth = 3)\n",
        ")\n",
        "\n",
        "#Run pipeline on training\n",
        "pipeline.fit(X_train, y_train)\n",
        "\n",
        "#Print validation accuracy\n",
        "print('Accuracy', pipeline.score(X_val, y_val))\n"
      ],
      "execution_count": null,
      "outputs": [
        {
          "output_type": "stream",
          "text": [
            "Accuracy 1.0\n"
          ],
          "name": "stdout"
        }
      ]
    },
    {
      "cell_type": "code",
      "metadata": {
        "id": "REcnEukCB7m-",
        "colab": {
          "base_uri": "https://localhost:8080/",
          "height": 241
        },
        "outputId": "560b2768-dcb4-4ff1-d558-aaf5ba23ce91"
      },
      "source": [
        "# This score is too good to be true.\n",
        "# Visualize the decision tree, to see what the model \"learned\"\n",
        "import graphviz\n",
        "from sklearn.tree import export_graphviz\n",
        "\n",
        "\n",
        "tree = pipeline.named_steps['decisiontreeclassifier']\n",
        "\n",
        "\n",
        "dot_data = export_graphviz(\n",
        "    tree, \n",
        "    out_file=None, \n",
        "    feature_names=X_train.columns, \n",
        "    class_names=y_train.unique().astype(str), \n",
        "    filled=True, \n",
        "    impurity=False,\n",
        "    proportion=True\n",
        ")\n",
        "\n",
        "graphviz.Source(dot_data)\n",
        "\n"
      ],
      "execution_count": null,
      "outputs": [
        {
          "output_type": "execute_result",
          "data": {
            "text/plain": [
              "<graphviz.files.Source at 0x7f93bb08f780>"
            ],
            "image/svg+xml": "<?xml version=\"1.0\" encoding=\"UTF-8\" standalone=\"no\"?>\n<!DOCTYPE svg PUBLIC \"-//W3C//DTD SVG 1.1//EN\"\n \"http://www.w3.org/Graphics/SVG/1.1/DTD/svg11.dtd\">\n<!-- Generated by graphviz version 2.40.1 (20161225.0304)\n -->\n<!-- Title: Tree Pages: 1 -->\n<svg width=\"260pt\" height=\"165pt\"\n viewBox=\"0.00 0.00 260.00 165.00\" xmlns=\"http://www.w3.org/2000/svg\" xmlns:xlink=\"http://www.w3.org/1999/xlink\">\n<g id=\"graph0\" class=\"graph\" transform=\"scale(1 1) rotate(0) translate(4 161)\">\n<title>Tree</title>\n<polygon fill=\"#ffffff\" stroke=\"transparent\" points=\"-4,4 -4,-161 256,-161 256,4 -4,4\"/>\n<!-- 0 -->\n<g id=\"node1\" class=\"node\">\n<title>0</title>\n<polygon fill=\"#f7d8c2\" stroke=\"#000000\" points=\"199,-157 52,-157 52,-89 199,-89 199,-157\"/>\n<text text-anchor=\"middle\" x=\"125.5\" y=\"-141.8\" font-family=\"Times,serif\" font-size=\"14.00\" fill=\"#000000\">overall &lt;= 3.95</text>\n<text text-anchor=\"middle\" x=\"125.5\" y=\"-126.8\" font-family=\"Times,serif\" font-size=\"14.00\" fill=\"#000000\">samples = 100.0%</text>\n<text text-anchor=\"middle\" x=\"125.5\" y=\"-111.8\" font-family=\"Times,serif\" font-size=\"14.00\" fill=\"#000000\">value = [0.591, 0.409]</text>\n<text text-anchor=\"middle\" x=\"125.5\" y=\"-96.8\" font-family=\"Times,serif\" font-size=\"14.00\" fill=\"#000000\">class = False</text>\n</g>\n<!-- 1 -->\n<g id=\"node2\" class=\"node\">\n<title>1</title>\n<polygon fill=\"#e58139\" stroke=\"#000000\" points=\"117,-53 0,-53 0,0 117,0 117,-53\"/>\n<text text-anchor=\"middle\" x=\"58.5\" y=\"-37.8\" font-family=\"Times,serif\" font-size=\"14.00\" fill=\"#000000\">samples = 59.1%</text>\n<text text-anchor=\"middle\" x=\"58.5\" y=\"-22.8\" font-family=\"Times,serif\" font-size=\"14.00\" fill=\"#000000\">value = [1.0, 0.0]</text>\n<text text-anchor=\"middle\" x=\"58.5\" y=\"-7.8\" font-family=\"Times,serif\" font-size=\"14.00\" fill=\"#000000\">class = False</text>\n</g>\n<!-- 0&#45;&gt;1 -->\n<g id=\"edge1\" class=\"edge\">\n<title>0&#45;&gt;1</title>\n<path fill=\"none\" stroke=\"#000000\" d=\"M101.8783,-88.9777C95.7113,-80.0954 89.0539,-70.5067 82.8499,-61.5711\"/>\n<polygon fill=\"#000000\" stroke=\"#000000\" points=\"85.6497,-59.4666 77.0715,-53.2485 79.8997,-63.4589 85.6497,-59.4666\"/>\n<text text-anchor=\"middle\" x=\"72.6325\" y=\"-74.1512\" font-family=\"Times,serif\" font-size=\"14.00\" fill=\"#000000\">True</text>\n</g>\n<!-- 2 -->\n<g id=\"node3\" class=\"node\">\n<title>2</title>\n<polygon fill=\"#399de5\" stroke=\"#000000\" points=\"252,-53 135,-53 135,0 252,0 252,-53\"/>\n<text text-anchor=\"middle\" x=\"193.5\" y=\"-37.8\" font-family=\"Times,serif\" font-size=\"14.00\" fill=\"#000000\">samples = 40.9%</text>\n<text text-anchor=\"middle\" x=\"193.5\" y=\"-22.8\" font-family=\"Times,serif\" font-size=\"14.00\" fill=\"#000000\">value = [0.0, 1.0]</text>\n<text text-anchor=\"middle\" x=\"193.5\" y=\"-7.8\" font-family=\"Times,serif\" font-size=\"14.00\" fill=\"#000000\">class = True</text>\n</g>\n<!-- 0&#45;&gt;2 -->\n<g id=\"edge2\" class=\"edge\">\n<title>0&#45;&gt;2</title>\n<path fill=\"none\" stroke=\"#000000\" d=\"M149.4743,-88.9777C155.7333,-80.0954 162.4901,-70.5067 168.7867,-61.5711\"/>\n<polygon fill=\"#000000\" stroke=\"#000000\" points=\"171.7521,-63.4389 174.6513,-53.2485 166.0301,-59.4068 171.7521,-63.4389\"/>\n<text text-anchor=\"middle\" x=\"178.9191\" y=\"-74.1815\" font-family=\"Times,serif\" font-size=\"14.00\" fill=\"#000000\">False</text>\n</g>\n</g>\n</svg>\n"
          },
          "metadata": {
            "tags": []
          },
          "execution_count": 83
        }
      ]
    },
    {
      "cell_type": "markdown",
      "metadata": {
        "id": "Odhu6u0dqTpc"
      },
      "source": [
        "Drop the column with “leakage”."
      ]
    },
    {
      "cell_type": "code",
      "metadata": {
        "id": "yB-_ZporqTpd",
        "colab": {
          "base_uri": "https://localhost:8080/",
          "height": 555
        },
        "outputId": "e6e196d7-1fee-4001-e450-4fa262ac112d"
      },
      "source": [
        "#Drop column with leakage\n",
        "features = train.columns.drop([target, 'Date', 'overall'])\n",
        "\n",
        "#redefine x_train and x_val\n",
        "X_train = train[features]\n",
        "X_val = val[features]\n",
        "\n",
        "\n",
        "#Define pipeline\n",
        "pipeline = make_pipeline(\n",
        "    ce.OrdinalEncoder(),\n",
        "    DecisionTreeClassifier(max_depth = 3)\n",
        ")\n",
        "\n",
        "#Run pipeline on training\n",
        "pipeline.fit(X_train, y_train)\n",
        "\n",
        "#Print validation accuracy\n",
        "print('Accuracy', pipeline.score(X_val, y_val))\n",
        "\n",
        "\n",
        "tree = pipeline.named_steps['decisiontreeclassifier']\n",
        "\n",
        "dot_data = export_graphviz(\n",
        "    tree, \n",
        "    out_file=None, \n",
        "    feature_names=X_train.columns, \n",
        "    class_names=y_train.unique().astype(str), \n",
        "    filled=True, \n",
        "    impurity=False,\n",
        "    proportion=True\n",
        ")\n",
        "\n",
        "graphviz.Source(dot_data)\n"
      ],
      "execution_count": null,
      "outputs": [
        {
          "output_type": "stream",
          "text": [
            "Accuracy 0.8\n"
          ],
          "name": "stdout"
        },
        {
          "output_type": "execute_result",
          "data": {
            "text/plain": [
              "<graphviz.files.Source at 0x7f93bb08f9e8>"
            ],
            "image/svg+xml": "<?xml version=\"1.0\" encoding=\"UTF-8\" standalone=\"no\"?>\n<!DOCTYPE svg PUBLIC \"-//W3C//DTD SVG 1.1//EN\"\n \"http://www.w3.org/Graphics/SVG/1.1/DTD/svg11.dtd\">\n<!-- Generated by graphviz version 2.40.1 (20161225.0304)\n -->\n<!-- Title: Tree Pages: 1 -->\n<svg width=\"1265pt\" height=\"373pt\"\n viewBox=\"0.00 0.00 1264.50 373.00\" xmlns=\"http://www.w3.org/2000/svg\" xmlns:xlink=\"http://www.w3.org/1999/xlink\">\n<g id=\"graph0\" class=\"graph\" transform=\"scale(1 1) rotate(0) translate(4 369)\">\n<title>Tree</title>\n<polygon fill=\"#ffffff\" stroke=\"transparent\" points=\"-4,4 -4,-369 1260.5,-369 1260.5,4 -4,4\"/>\n<!-- 0 -->\n<g id=\"node1\" class=\"node\">\n<title>0</title>\n<polygon fill=\"#f7d8c2\" stroke=\"#000000\" points=\"680,-365 533,-365 533,-297 680,-297 680,-365\"/>\n<text text-anchor=\"middle\" x=\"606.5\" y=\"-349.8\" font-family=\"Times,serif\" font-size=\"14.00\" fill=\"#000000\">Fillings &lt;= 4.5</text>\n<text text-anchor=\"middle\" x=\"606.5\" y=\"-334.8\" font-family=\"Times,serif\" font-size=\"14.00\" fill=\"#000000\">samples = 100.0%</text>\n<text text-anchor=\"middle\" x=\"606.5\" y=\"-319.8\" font-family=\"Times,serif\" font-size=\"14.00\" fill=\"#000000\">value = [0.591, 0.409]</text>\n<text text-anchor=\"middle\" x=\"606.5\" y=\"-304.8\" font-family=\"Times,serif\" font-size=\"14.00\" fill=\"#000000\">class = False</text>\n</g>\n<!-- 1 -->\n<g id=\"node2\" class=\"node\">\n<title>1</title>\n<polygon fill=\"#ea9a61\" stroke=\"#000000\" points=\"537,-261 390,-261 390,-193 537,-193 537,-261\"/>\n<text text-anchor=\"middle\" x=\"463.5\" y=\"-245.8\" font-family=\"Times,serif\" font-size=\"14.00\" fill=\"#000000\">Synergy &lt;= 1.5</text>\n<text text-anchor=\"middle\" x=\"463.5\" y=\"-230.8\" font-family=\"Times,serif\" font-size=\"14.00\" fill=\"#000000\">samples = 50.0%</text>\n<text text-anchor=\"middle\" x=\"463.5\" y=\"-215.8\" font-family=\"Times,serif\" font-size=\"14.00\" fill=\"#000000\">value = [0.832, 0.168]</text>\n<text text-anchor=\"middle\" x=\"463.5\" y=\"-200.8\" font-family=\"Times,serif\" font-size=\"14.00\" fill=\"#000000\">class = False</text>\n</g>\n<!-- 0&#45;&gt;1 -->\n<g id=\"edge1\" class=\"edge\">\n<title>0&#45;&gt;1</title>\n<path fill=\"none\" stroke=\"#000000\" d=\"M559.6765,-296.9465C546.5902,-287.4293 532.247,-276.9978 518.7241,-267.163\"/>\n<polygon fill=\"#000000\" stroke=\"#000000\" points=\"520.5747,-264.1812 510.4287,-261.13 516.4575,-269.8423 520.5747,-264.1812\"/>\n<text text-anchor=\"middle\" x=\"514.3278\" y=\"-282.1241\" font-family=\"Times,serif\" font-size=\"14.00\" fill=\"#000000\">True</text>\n</g>\n<!-- 8 -->\n<g id=\"node9\" class=\"node\">\n<title>8</title>\n<polygon fill=\"#a3d2f3\" stroke=\"#000000\" points=\"845,-261 698,-261 698,-193 845,-193 845,-261\"/>\n<text text-anchor=\"middle\" x=\"771.5\" y=\"-245.8\" font-family=\"Times,serif\" font-size=\"14.00\" fill=\"#000000\">Meat &lt;= 3.5</text>\n<text text-anchor=\"middle\" x=\"771.5\" y=\"-230.8\" font-family=\"Times,serif\" font-size=\"14.00\" fill=\"#000000\">samples = 50.0%</text>\n<text text-anchor=\"middle\" x=\"771.5\" y=\"-215.8\" font-family=\"Times,serif\" font-size=\"14.00\" fill=\"#000000\">value = [0.349, 0.651]</text>\n<text text-anchor=\"middle\" x=\"771.5\" y=\"-200.8\" font-family=\"Times,serif\" font-size=\"14.00\" fill=\"#000000\">class = True</text>\n</g>\n<!-- 0&#45;&gt;8 -->\n<g id=\"edge8\" class=\"edge\">\n<title>0&#45;&gt;8</title>\n<path fill=\"none\" stroke=\"#000000\" d=\"M660.5272,-296.9465C675.9115,-287.2497 692.8016,-276.6039 708.6621,-266.6069\"/>\n<polygon fill=\"#000000\" stroke=\"#000000\" points=\"710.758,-269.4232 717.3514,-261.13 707.0254,-263.5013 710.758,-269.4232\"/>\n<text text-anchor=\"middle\" x=\"711.8227\" y=\"-281.811\" font-family=\"Times,serif\" font-size=\"14.00\" fill=\"#000000\">False</text>\n</g>\n<!-- 2 -->\n<g id=\"node3\" class=\"node\">\n<title>2</title>\n<polygon fill=\"#fcf0e8\" stroke=\"#000000\" points=\"312,-157 165,-157 165,-89 312,-89 312,-157\"/>\n<text text-anchor=\"middle\" x=\"238.5\" y=\"-141.8\" font-family=\"Times,serif\" font-size=\"14.00\" fill=\"#000000\">Tortilla &lt;= 3.9</text>\n<text text-anchor=\"middle\" x=\"238.5\" y=\"-126.8\" font-family=\"Times,serif\" font-size=\"14.00\" fill=\"#000000\">samples = 10.7%</text>\n<text text-anchor=\"middle\" x=\"238.5\" y=\"-111.8\" font-family=\"Times,serif\" font-size=\"14.00\" fill=\"#000000\">value = [0.531, 0.469]</text>\n<text text-anchor=\"middle\" x=\"238.5\" y=\"-96.8\" font-family=\"Times,serif\" font-size=\"14.00\" fill=\"#000000\">class = False</text>\n</g>\n<!-- 1&#45;&gt;2 -->\n<g id=\"edge2\" class=\"edge\">\n<title>1&#45;&gt;2</title>\n<path fill=\"none\" stroke=\"#000000\" d=\"M389.8266,-192.9465C367.9738,-182.8457 343.8932,-171.7151 321.4922,-161.3608\"/>\n<polygon fill=\"#000000\" stroke=\"#000000\" points=\"322.8847,-158.1487 312.3389,-157.13 319.9477,-164.5028 322.8847,-158.1487\"/>\n</g>\n<!-- 5 -->\n<g id=\"node6\" class=\"node\">\n<title>5</title>\n<polygon fill=\"#e78d4c\" stroke=\"#000000\" points=\"537,-157 390,-157 390,-89 537,-89 537,-157\"/>\n<text text-anchor=\"middle\" x=\"463.5\" y=\"-141.8\" font-family=\"Times,serif\" font-size=\"14.00\" fill=\"#000000\">Temp &lt;= 14.5</text>\n<text text-anchor=\"middle\" x=\"463.5\" y=\"-126.8\" font-family=\"Times,serif\" font-size=\"14.00\" fill=\"#000000\">samples = 39.3%</text>\n<text text-anchor=\"middle\" x=\"463.5\" y=\"-111.8\" font-family=\"Times,serif\" font-size=\"14.00\" fill=\"#000000\">value = [0.915, 0.085]</text>\n<text text-anchor=\"middle\" x=\"463.5\" y=\"-96.8\" font-family=\"Times,serif\" font-size=\"14.00\" fill=\"#000000\">class = False</text>\n</g>\n<!-- 1&#45;&gt;5 -->\n<g id=\"edge5\" class=\"edge\">\n<title>1&#45;&gt;5</title>\n<path fill=\"none\" stroke=\"#000000\" d=\"M463.5,-192.9465C463.5,-184.776 463.5,-175.9318 463.5,-167.3697\"/>\n<polygon fill=\"#000000\" stroke=\"#000000\" points=\"467.0001,-167.13 463.5,-157.13 460.0001,-167.13 467.0001,-167.13\"/>\n</g>\n<!-- 3 -->\n<g id=\"node4\" class=\"node\">\n<title>3</title>\n<polygon fill=\"#efb185\" stroke=\"#000000\" points=\"147,-53 0,-53 0,0 147,0 147,-53\"/>\n<text text-anchor=\"middle\" x=\"73.5\" y=\"-37.8\" font-family=\"Times,serif\" font-size=\"14.00\" fill=\"#000000\">samples = 6.0%</text>\n<text text-anchor=\"middle\" x=\"73.5\" y=\"-22.8\" font-family=\"Times,serif\" font-size=\"14.00\" fill=\"#000000\">value = [0.722, 0.278]</text>\n<text text-anchor=\"middle\" x=\"73.5\" y=\"-7.8\" font-family=\"Times,serif\" font-size=\"14.00\" fill=\"#000000\">class = False</text>\n</g>\n<!-- 2&#45;&gt;3 -->\n<g id=\"edge3\" class=\"edge\">\n<title>2&#45;&gt;3</title>\n<path fill=\"none\" stroke=\"#000000\" d=\"M180.3272,-88.9777C163.182,-78.9504 144.4975,-68.0228 127.618,-58.1508\"/>\n<polygon fill=\"#000000\" stroke=\"#000000\" points=\"129.3724,-55.1223 118.9734,-53.095 125.8385,-61.1648 129.3724,-55.1223\"/>\n</g>\n<!-- 4 -->\n<g id=\"node5\" class=\"node\">\n<title>4</title>\n<polygon fill=\"#88c4ef\" stroke=\"#000000\" points=\"312,-53 165,-53 165,0 312,0 312,-53\"/>\n<text text-anchor=\"middle\" x=\"238.5\" y=\"-37.8\" font-family=\"Times,serif\" font-size=\"14.00\" fill=\"#000000\">samples = 4.7%</text>\n<text text-anchor=\"middle\" x=\"238.5\" y=\"-22.8\" font-family=\"Times,serif\" font-size=\"14.00\" fill=\"#000000\">value = [0.286, 0.714]</text>\n<text text-anchor=\"middle\" x=\"238.5\" y=\"-7.8\" font-family=\"Times,serif\" font-size=\"14.00\" fill=\"#000000\">class = True</text>\n</g>\n<!-- 2&#45;&gt;4 -->\n<g id=\"edge4\" class=\"edge\">\n<title>2&#45;&gt;4</title>\n<path fill=\"none\" stroke=\"#000000\" d=\"M238.5,-88.9777C238.5,-80.7364 238.5,-71.887 238.5,-63.5153\"/>\n<polygon fill=\"#000000\" stroke=\"#000000\" points=\"242.0001,-63.2484 238.5,-53.2485 235.0001,-63.2485 242.0001,-63.2484\"/>\n</g>\n<!-- 6 -->\n<g id=\"node7\" class=\"node\">\n<title>6</title>\n<polygon fill=\"#e78a48\" stroke=\"#000000\" points=\"462.5,-53 330.5,-53 330.5,0 462.5,0 462.5,-53\"/>\n<text text-anchor=\"middle\" x=\"396.5\" y=\"-37.8\" font-family=\"Times,serif\" font-size=\"14.00\" fill=\"#000000\">samples = 38.6%</text>\n<text text-anchor=\"middle\" x=\"396.5\" y=\"-22.8\" font-family=\"Times,serif\" font-size=\"14.00\" fill=\"#000000\">value = [0.93, 0.07]</text>\n<text text-anchor=\"middle\" x=\"396.5\" y=\"-7.8\" font-family=\"Times,serif\" font-size=\"14.00\" fill=\"#000000\">class = False</text>\n</g>\n<!-- 5&#45;&gt;6 -->\n<g id=\"edge6\" class=\"edge\">\n<title>5&#45;&gt;6</title>\n<path fill=\"none\" stroke=\"#000000\" d=\"M439.8783,-88.9777C433.7113,-80.0954 427.0539,-70.5067 420.8499,-61.5711\"/>\n<polygon fill=\"#000000\" stroke=\"#000000\" points=\"423.6497,-59.4666 415.0715,-53.2485 417.8997,-63.4589 423.6497,-59.4666\"/>\n</g>\n<!-- 7 -->\n<g id=\"node8\" class=\"node\">\n<title>7</title>\n<polygon fill=\"#399de5\" stroke=\"#000000\" points=\"598,-53 481,-53 481,0 598,0 598,-53\"/>\n<text text-anchor=\"middle\" x=\"539.5\" y=\"-37.8\" font-family=\"Times,serif\" font-size=\"14.00\" fill=\"#000000\">samples = 0.7%</text>\n<text text-anchor=\"middle\" x=\"539.5\" y=\"-22.8\" font-family=\"Times,serif\" font-size=\"14.00\" fill=\"#000000\">value = [0.0, 1.0]</text>\n<text text-anchor=\"middle\" x=\"539.5\" y=\"-7.8\" font-family=\"Times,serif\" font-size=\"14.00\" fill=\"#000000\">class = True</text>\n</g>\n<!-- 5&#45;&gt;7 -->\n<g id=\"edge7\" class=\"edge\">\n<title>5&#45;&gt;7</title>\n<path fill=\"none\" stroke=\"#000000\" d=\"M490.2948,-88.9777C497.3622,-80.0039 504.9976,-70.3089 512.0967,-61.295\"/>\n<polygon fill=\"#000000\" stroke=\"#000000\" points=\"514.9963,-63.2701 518.4338,-53.2485 509.497,-58.9391 514.9963,-63.2701\"/>\n</g>\n<!-- 9 -->\n<g id=\"node10\" class=\"node\">\n<title>9</title>\n<polygon fill=\"#f0b68c\" stroke=\"#000000\" points=\"845,-157 698,-157 698,-89 845,-89 845,-157\"/>\n<text text-anchor=\"middle\" x=\"771.5\" y=\"-141.8\" font-family=\"Times,serif\" font-size=\"14.00\" fill=\"#000000\">Tortilla &lt;= 3.75</text>\n<text text-anchor=\"middle\" x=\"771.5\" y=\"-126.8\" font-family=\"Times,serif\" font-size=\"14.00\" fill=\"#000000\">samples = 14.8%</text>\n<text text-anchor=\"middle\" x=\"771.5\" y=\"-111.8\" font-family=\"Times,serif\" font-size=\"14.00\" fill=\"#000000\">value = [0.705, 0.295]</text>\n<text text-anchor=\"middle\" x=\"771.5\" y=\"-96.8\" font-family=\"Times,serif\" font-size=\"14.00\" fill=\"#000000\">class = False</text>\n</g>\n<!-- 8&#45;&gt;9 -->\n<g id=\"edge9\" class=\"edge\">\n<title>8&#45;&gt;9</title>\n<path fill=\"none\" stroke=\"#000000\" d=\"M771.5,-192.9465C771.5,-184.776 771.5,-175.9318 771.5,-167.3697\"/>\n<polygon fill=\"#000000\" stroke=\"#000000\" points=\"775.0001,-167.13 771.5,-157.13 768.0001,-167.13 775.0001,-167.13\"/>\n</g>\n<!-- 12 -->\n<g id=\"node13\" class=\"node\">\n<title>12</title>\n<polygon fill=\"#6ab6ec\" stroke=\"#000000\" points=\"1078,-157 961,-157 961,-89 1078,-89 1078,-157\"/>\n<text text-anchor=\"middle\" x=\"1019.5\" y=\"-141.8\" font-family=\"Times,serif\" font-size=\"14.00\" fill=\"#000000\">Meat &lt;= 7.5</text>\n<text text-anchor=\"middle\" x=\"1019.5\" y=\"-126.8\" font-family=\"Times,serif\" font-size=\"14.00\" fill=\"#000000\">samples = 35.2%</text>\n<text text-anchor=\"middle\" x=\"1019.5\" y=\"-111.8\" font-family=\"Times,serif\" font-size=\"14.00\" fill=\"#000000\">value = [0.2, 0.8]</text>\n<text text-anchor=\"middle\" x=\"1019.5\" y=\"-96.8\" font-family=\"Times,serif\" font-size=\"14.00\" fill=\"#000000\">class = True</text>\n</g>\n<!-- 8&#45;&gt;12 -->\n<g id=\"edge12\" class=\"edge\">\n<title>8&#45;&gt;12</title>\n<path fill=\"none\" stroke=\"#000000\" d=\"M845.2367,-196.0782C878.8944,-181.9636 918.4994,-165.3551 951.4406,-151.541\"/>\n<polygon fill=\"#000000\" stroke=\"#000000\" points=\"953.1204,-154.632 960.9888,-147.537 950.4133,-148.1766 953.1204,-154.632\"/>\n</g>\n<!-- 10 -->\n<g id=\"node11\" class=\"node\">\n<title>10</title>\n<polygon fill=\"#e89153\" stroke=\"#000000\" points=\"762.5,-53 616.5,-53 616.5,0 762.5,0 762.5,-53\"/>\n<text text-anchor=\"middle\" x=\"689.5\" y=\"-37.8\" font-family=\"Times,serif\" font-size=\"14.00\" fill=\"#000000\">samples = 8.7%</text>\n<text text-anchor=\"middle\" x=\"689.5\" y=\"-22.8\" font-family=\"Times,serif\" font-size=\"14.00\" fill=\"#000000\">value = [0.885, 0.115]</text>\n<text text-anchor=\"middle\" x=\"689.5\" y=\"-7.8\" font-family=\"Times,serif\" font-size=\"14.00\" fill=\"#000000\">class = False</text>\n</g>\n<!-- 9&#45;&gt;10 -->\n<g id=\"edge10\" class=\"edge\">\n<title>9&#45;&gt;10</title>\n<path fill=\"none\" stroke=\"#000000\" d=\"M742.5899,-88.9777C734.8866,-79.9123 726.5581,-70.111 718.8324,-61.0192\"/>\n<polygon fill=\"#000000\" stroke=\"#000000\" points=\"721.3718,-58.6025 712.2293,-53.2485 716.0375,-63.1352 721.3718,-58.6025\"/>\n</g>\n<!-- 11 -->\n<g id=\"node12\" class=\"node\">\n<title>11</title>\n<polygon fill=\"#d7ebfa\" stroke=\"#000000\" points=\"928,-53 781,-53 781,0 928,0 928,-53\"/>\n<text text-anchor=\"middle\" x=\"854.5\" y=\"-37.8\" font-family=\"Times,serif\" font-size=\"14.00\" fill=\"#000000\">samples = 6.0%</text>\n<text text-anchor=\"middle\" x=\"854.5\" y=\"-22.8\" font-family=\"Times,serif\" font-size=\"14.00\" fill=\"#000000\">value = [0.444, 0.556]</text>\n<text text-anchor=\"middle\" x=\"854.5\" y=\"-7.8\" font-family=\"Times,serif\" font-size=\"14.00\" fill=\"#000000\">class = True</text>\n</g>\n<!-- 9&#45;&gt;11 -->\n<g id=\"edge11\" class=\"edge\">\n<title>9&#45;&gt;11</title>\n<path fill=\"none\" stroke=\"#000000\" d=\"M800.7627,-88.9777C808.5599,-79.9123 816.99,-70.111 824.8099,-61.0192\"/>\n<polygon fill=\"#000000\" stroke=\"#000000\" points=\"827.6262,-63.1123 831.4935,-53.2485 822.3191,-58.5477 827.6262,-63.1123\"/>\n</g>\n<!-- 13 -->\n<g id=\"node14\" class=\"node\">\n<title>13</title>\n<polygon fill=\"#53aae8\" stroke=\"#000000\" points=\"1092.5,-53 946.5,-53 946.5,0 1092.5,0 1092.5,-53\"/>\n<text text-anchor=\"middle\" x=\"1019.5\" y=\"-37.8\" font-family=\"Times,serif\" font-size=\"14.00\" fill=\"#000000\">samples = 29.2%</text>\n<text text-anchor=\"middle\" x=\"1019.5\" y=\"-22.8\" font-family=\"Times,serif\" font-size=\"14.00\" fill=\"#000000\">value = [0.115, 0.885]</text>\n<text text-anchor=\"middle\" x=\"1019.5\" y=\"-7.8\" font-family=\"Times,serif\" font-size=\"14.00\" fill=\"#000000\">class = True</text>\n</g>\n<!-- 12&#45;&gt;13 -->\n<g id=\"edge13\" class=\"edge\">\n<title>12&#45;&gt;13</title>\n<path fill=\"none\" stroke=\"#000000\" d=\"M1019.5,-88.9777C1019.5,-80.7364 1019.5,-71.887 1019.5,-63.5153\"/>\n<polygon fill=\"#000000\" stroke=\"#000000\" points=\"1023.0001,-63.2484 1019.5,-53.2485 1016.0001,-63.2485 1023.0001,-63.2484\"/>\n</g>\n<!-- 14 -->\n<g id=\"node15\" class=\"node\">\n<title>14</title>\n<polygon fill=\"#f6d1b7\" stroke=\"#000000\" points=\"1256.5,-53 1110.5,-53 1110.5,0 1256.5,0 1256.5,-53\"/>\n<text text-anchor=\"middle\" x=\"1183.5\" y=\"-37.8\" font-family=\"Times,serif\" font-size=\"14.00\" fill=\"#000000\">samples = 6.0%</text>\n<text text-anchor=\"middle\" x=\"1183.5\" y=\"-22.8\" font-family=\"Times,serif\" font-size=\"14.00\" fill=\"#000000\">value = [0.611, 0.389]</text>\n<text text-anchor=\"middle\" x=\"1183.5\" y=\"-7.8\" font-family=\"Times,serif\" font-size=\"14.00\" fill=\"#000000\">class = False</text>\n</g>\n<!-- 12&#45;&gt;14 -->\n<g id=\"edge14\" class=\"edge\">\n<title>12&#45;&gt;14</title>\n<path fill=\"none\" stroke=\"#000000\" d=\"M1077.3203,-88.9777C1094.2052,-79.0424 1112.5922,-68.2232 1129.2478,-58.4228\"/>\n<polygon fill=\"#000000\" stroke=\"#000000\" points=\"1131.4585,-61.183 1138.3022,-53.095 1127.9086,-55.1499 1131.4585,-61.183\"/>\n</g>\n</g>\n</svg>\n"
          },
          "metadata": {
            "tags": []
          },
          "execution_count": 87
        }
      ]
    },
    {
      "cell_type": "markdown",
      "metadata": {
        "id": "a9qsLFvYqTpj"
      },
      "source": [
        "\n",
        "\n",
        "# Choose an appropriate evaluation metric"
      ]
    },
    {
      "cell_type": "markdown",
      "metadata": {
        "id": "zb8gY1tYqTpj"
      },
      "source": [
        "## Overview"
      ]
    },
    {
      "cell_type": "markdown",
      "metadata": {
        "id": "-s9x1LJbqTpk"
      },
      "source": [
        "How will you evaluate success for your predictive model? You must choose an appropriate evaluation metric, depending on the context and constraints of your problem.\n",
        "\n",
        "**Classification & regression metrics are different!**\n",
        "\n",
        "- Don’t use _regression_ metrics to evaluate _classification_ tasks.\n",
        "- Don’t use _classification_ metrics to evaluate _regression_ tasks.\n",
        "\n",
        "[Scikit-learn has lists of popular metrics.](https://scikit-learn.org/stable/modules/model_evaluation.html#common-cases-predefined-values)"
      ]
    },
    {
      "cell_type": "markdown",
      "metadata": {
        "id": "1xpOUAzyqTpk"
      },
      "source": [
        "## Follow Along"
      ]
    },
    {
      "cell_type": "markdown",
      "metadata": {
        "id": "pXy1rAbpqTpl"
      },
      "source": [
        "For classification problems: \n",
        "\n",
        "As a rough rule of thumb, if your majority class frequency is >= 50% and < 70% then you can just use accuracy if you want. Outside that range, accuracy could be misleading — so what evaluation metric will you choose, in addition to or instead of accuracy? For example:\n",
        "\n",
        "- Precision?\n",
        "- Recall?\n",
        "- ROC AUC?\n"
      ]
    },
    {
      "cell_type": "code",
      "metadata": {
        "id": "mBzRocuHqTpl",
        "colab": {
          "base_uri": "https://localhost:8080/",
          "height": 67
        },
        "outputId": "a6cf8d74-1f3e-420f-d1cc-7bd98ffa35ec"
      },
      "source": [
        "#calculate the distribution of classes\n",
        "y.value_counts(normalize= True)"
      ],
      "execution_count": null,
      "outputs": [
        {
          "output_type": "execute_result",
          "data": {
            "text/plain": [
              "False    0.567696\n",
              "True     0.432304\n",
              "Name: Great, dtype: float64"
            ]
          },
          "metadata": {
            "tags": []
          },
          "execution_count": 88
        }
      ]
    },
    {
      "cell_type": "markdown",
      "metadata": {
        "id": "7GD67f5zqTpo"
      },
      "source": [
        "### Precision & Recall\n",
        "\n",
        "Let's review Precision & Recall. What do these metrics mean, in scenarios like these?\n",
        "\n",
        "- Predict great burritos\n",
        "- Predict fraudulent transactions\n",
        "- Recommend Spotify songs\n",
        "\n",
        "[Are false positives or false negatives more costly? Can you optimize for dollars?](https://alexgude.com/blog/machine-learning-metrics-interview/)"
      ]
    },
    {
      "cell_type": "markdown",
      "metadata": {
        "id": "ahE5oWBBqTpp"
      },
      "source": [
        "### ROC AUC \n",
        "\n",
        "Let's also review ROC AUC (Receiver Operating Characteristic, Area Under the Curve).\n",
        "\n",
        "[Wikipedia explains,](https://en.wikipedia.org/wiki/Receiver_operating_characteristic) \"A receiver operating characteristic curve, or ROC curve, is a graphical plot that illustrates the diagnostic ability of a binary classifier system as its discrimination threshold is varied. **The ROC curve is created by plotting the true positive rate (TPR) against the false positive rate (FPR) at various threshold settings.**\"\n",
        "\n",
        "ROC AUC is the area under the ROC curve. [It can be interpreted](https://stats.stackexchange.com/questions/132777/what-does-auc-stand-for-and-what-is-it) as \"the expectation that a uniformly drawn random positive is ranked before a uniformly drawn random negative.\" \n",
        "\n",
        "ROC AUC measures **how well a classifier ranks predicted probabilities.** So, when you get your classifier’s ROC AUC score, you need to **use predicted probabilities, not discrete predictions.**\n",
        "\n",
        "ROC AUC ranges **from 0 to 1.** Higher is better. A naive majority class **baseline** will have an ROC AUC score of **0.5**, regardless of class (im)balance.\n",
        "\n",
        "#### Scikit-Learn docs\n",
        "- [User Guide: Receiver operating characteristic (ROC)](https://scikit-learn.org/stable/modules/model_evaluation.html#receiver-operating-characteristic-roc)\n",
        "- [sklearn.metrics.roc_curve](https://scikit-learn.org/stable/modules/generated/sklearn.metrics.roc_curve.html)\n",
        "- [sklearn.metrics.roc_auc_score](https://scikit-learn.org/stable/modules/generated/sklearn.metrics.roc_auc_score.html)\n",
        "\n",
        "#### More links\n",
        "- [StatQuest video](https://youtu.be/4jRBRDbJemM)\n",
        "- [Data School article / video](https://www.dataschool.io/roc-curves-and-auc-explained/)\n",
        "- [The philosophical argument for using ROC curves](https://lukeoakdenrayner.wordpress.com/2018/01/07/the-philosophical-argument-for-using-roc-curves/)\n"
      ]
    },
    {
      "cell_type": "code",
      "metadata": {
        "id": "d3HgzyCmqTpp",
        "colab": {
          "base_uri": "https://localhost:8080/",
          "height": 33
        },
        "outputId": "a1b7a0ff-b4d4-49a7-8eb0-b8c716d69475"
      },
      "source": [
        "# Use sklearn to calculate ROC AUC \n",
        "# (You'll need to be able to do this on the Sprint Challenge)\n",
        "from sklearn.metrics import roc_auc_score\n",
        "\n",
        "\n",
        "# Get predicted probabilities\n",
        "y_pred_proba = pipeline.predict_proba(X_val)[:, -1]\n",
        "\n",
        "#calculate AUC\n",
        "auc = roc_auc_score(y_val, y_pred_proba)\n",
        "\n",
        "auc"
      ],
      "execution_count": null,
      "outputs": [
        {
          "output_type": "execute_result",
          "data": {
            "text/plain": [
              "0.8549832026875699"
            ]
          },
          "metadata": {
            "tags": []
          },
          "execution_count": 92
        }
      ]
    },
    {
      "cell_type": "code",
      "metadata": {
        "id": "1LVj9BI_LRZv"
      },
      "source": [
        "# Use sklearn to calculate TPR & FPR at various thresholds\n",
        "from sklearn.metrics import roc_curve\n",
        "\n",
        "fpr, tpr, thresholds = roc_curve(y_val, y_pred_proba)"
      ],
      "execution_count": null,
      "outputs": []
    },
    {
      "cell_type": "code",
      "metadata": {
        "id": "kdPf_QcRMFZI",
        "colab": {
          "base_uri": "https://localhost:8080/",
          "height": 287
        },
        "outputId": "bb30bbbd-24ee-4fa2-83e0-ca497aa77d2c"
      },
      "source": [
        "#See the results in a table\n",
        "pd.DataFrame({\n",
        "    'False Positive Rate': fpr, \n",
        "    'True Positive Rate': tpr, \n",
        "    'Threshold': thresholds\n",
        "})"
      ],
      "execution_count": null,
      "outputs": [
        {
          "output_type": "execute_result",
          "data": {
            "text/html": [
              "<div>\n",
              "<style scoped>\n",
              "    .dataframe tbody tr th:only-of-type {\n",
              "        vertical-align: middle;\n",
              "    }\n",
              "\n",
              "    .dataframe tbody tr th {\n",
              "        vertical-align: top;\n",
              "    }\n",
              "\n",
              "    .dataframe thead th {\n",
              "        text-align: right;\n",
              "    }\n",
              "</style>\n",
              "<table border=\"1\" class=\"dataframe\">\n",
              "  <thead>\n",
              "    <tr style=\"text-align: right;\">\n",
              "      <th></th>\n",
              "      <th>False Positive Rate</th>\n",
              "      <th>True Positive Rate</th>\n",
              "      <th>Threshold</th>\n",
              "    </tr>\n",
              "  </thead>\n",
              "  <tbody>\n",
              "    <tr>\n",
              "      <th>0</th>\n",
              "      <td>0.000000</td>\n",
              "      <td>0.000000</td>\n",
              "      <td>1.885057</td>\n",
              "    </tr>\n",
              "    <tr>\n",
              "      <th>1</th>\n",
              "      <td>0.021277</td>\n",
              "      <td>0.605263</td>\n",
              "      <td>0.885057</td>\n",
              "    </tr>\n",
              "    <tr>\n",
              "      <th>2</th>\n",
              "      <td>0.106383</td>\n",
              "      <td>0.657895</td>\n",
              "      <td>0.714286</td>\n",
              "    </tr>\n",
              "    <tr>\n",
              "      <th>3</th>\n",
              "      <td>0.127660</td>\n",
              "      <td>0.710526</td>\n",
              "      <td>0.555556</td>\n",
              "    </tr>\n",
              "    <tr>\n",
              "      <th>4</th>\n",
              "      <td>0.148936</td>\n",
              "      <td>0.736842</td>\n",
              "      <td>0.388889</td>\n",
              "    </tr>\n",
              "    <tr>\n",
              "      <th>5</th>\n",
              "      <td>0.255319</td>\n",
              "      <td>0.789474</td>\n",
              "      <td>0.277778</td>\n",
              "    </tr>\n",
              "    <tr>\n",
              "      <th>6</th>\n",
              "      <td>0.276596</td>\n",
              "      <td>0.842105</td>\n",
              "      <td>0.115385</td>\n",
              "    </tr>\n",
              "    <tr>\n",
              "      <th>7</th>\n",
              "      <td>1.000000</td>\n",
              "      <td>1.000000</td>\n",
              "      <td>0.069565</td>\n",
              "    </tr>\n",
              "  </tbody>\n",
              "</table>\n",
              "</div>"
            ],
            "text/plain": [
              "   False Positive Rate  True Positive Rate  Threshold\n",
              "0             0.000000            0.000000   1.885057\n",
              "1             0.021277            0.605263   0.885057\n",
              "2             0.106383            0.657895   0.714286\n",
              "3             0.127660            0.710526   0.555556\n",
              "4             0.148936            0.736842   0.388889\n",
              "5             0.255319            0.789474   0.277778\n",
              "6             0.276596            0.842105   0.115385\n",
              "7             1.000000            1.000000   0.069565"
            ]
          },
          "metadata": {
            "tags": []
          },
          "execution_count": 96
        }
      ]
    },
    {
      "cell_type": "code",
      "metadata": {
        "id": "rH_s8zCbMJP0",
        "colab": {
          "base_uri": "https://localhost:8080/",
          "height": 295
        },
        "outputId": "efed0959-146f-4509-eedf-48cdee43f46e"
      },
      "source": [
        "%matplotlib inline\n",
        "#See the results in plot (ROC Curve)\n",
        "import matplotlib.pyplot as plt\n",
        "plt.scatter(fpr, tpr)\n",
        "plt.plot(fpr, tpr)\n",
        "plt.title('ROC curve')\n",
        "plt.xlabel('False Positive Rate')\n",
        "plt.ylabel('True Positive Rate');\n"
      ],
      "execution_count": null,
      "outputs": [
        {
          "output_type": "display_data",
          "data": {
            "image/png": "[encoded data removed]",
            "text/plain": [
              "<Figure size 432x288 with 1 Axes>"
            ]
          },
          "metadata": {
            "tags": [],
            "needs_background": "light"
          }
        }
      ]
    },
    {
      "cell_type": "markdown",
      "metadata": {
        "id": "TZi13pT3qTps"
      },
      "source": [
        "### Imbalanced classes\n",
        "\n",
        "Do you have highly imbalanced classes?\n",
        "\n",
        "If so, you can try ideas from [Learning from Imbalanced Classes](https://www.svds.com/tbt-learning-imbalanced-classes/):\n",
        "\n",
        "- “Adjust the class weight (misclassification costs)” — most scikit-learn classifiers have a `class_balance` parameter.\n",
        "- “Adjust the decision threshold” — we did this last module. Read [Visualizing Machine Learning Thresholds to Make Better Business Decisions](https://blog.insightdatascience.com/visualizing-machine-learning-thresholds-to-make-better-business-decisions-4ab07f823415).\n",
        "- “Oversample the minority class, undersample the majority class, or synthesize new minority classes” — try the the [imbalanced-learn](https://github.com/scikit-learn-contrib/imbalanced-learn) library as a stretch goal."
      ]
    },
    {
      "cell_type": "markdown",
      "metadata": {
        "id": "DnBzsBLYqTpt"
      },
      "source": [
        "# BONUS: Regression example 🏘️\n"
      ]
    },
    {
      "cell_type": "code",
      "metadata": {
        "lines_to_next_cell": 2,
        "id": "V1tdkpYWqTpt"
      },
      "source": [
        "# Read our NYC apartment rental listing dataset\n",
        "df = pd.read_csv(DATA_PATH+'apartments/renthop-nyc.csv')"
      ],
      "execution_count": null,
      "outputs": []
    },
    {
      "cell_type": "markdown",
      "metadata": {
        "id": "uBeRv80BqTpx"
      },
      "source": [
        "### Choose your target\n",
        "\n",
        "Which column in your tabular dataset will you predict?\n"
      ]
    },
    {
      "cell_type": "code",
      "metadata": {
        "lines_to_next_cell": 2,
        "id": "asamf9E6qTpy"
      },
      "source": [
        "y = df['price']"
      ],
      "execution_count": null,
      "outputs": []
    },
    {
      "cell_type": "markdown",
      "metadata": {
        "id": "8HPZVMGiqTp2"
      },
      "source": [
        "### How is your target distributed?\n",
        "\n",
        "For a regression problem, determine: Is the target right-skewed?\n"
      ]
    },
    {
      "cell_type": "code",
      "metadata": {
        "lines_to_next_cell": 2,
        "id": "NjezLZKuqTp3"
      },
      "source": [
        "# Yes, the target is right-skewed\n",
        "import seaborn as sns\n",
        "sns.distplot(y);"
      ],
      "execution_count": null,
      "outputs": []
    },
    {
      "cell_type": "code",
      "metadata": {
        "id": "gOH1tlpXqTp6"
      },
      "source": [
        "y.describe()"
      ],
      "execution_count": null,
      "outputs": []
    },
    {
      "cell_type": "markdown",
      "metadata": {
        "id": "JsRJCJfHqTp8"
      },
      "source": [
        "### Are some observations outliers? \n",
        "\n",
        "Will you exclude\n",
        "them?\n"
      ]
    },
    {
      "cell_type": "code",
      "metadata": {
        "lines_to_next_cell": 2,
        "id": "8jSz6LcWqTp9"
      },
      "source": [
        "# Yes! There are outliers\n",
        "# Some prices are so high or low it doesn't really make sense.\n",
        "# Some locations aren't even in New York City\n",
        "\n",
        "# Remove the most extreme 1% prices, \n",
        "# the most extreme .1% latitudes, &\n",
        "# the most extreme .1% longitudes\n",
        "import numpy as np\n",
        "df = df[(df['price'] >= np.percentile(df['price'], 0.5)) & \n",
        "        (df['price'] <= np.percentile(df['price'], 99.5)) & \n",
        "        (df['latitude'] >= np.percentile(df['latitude'], 0.05)) & \n",
        "        (df['latitude'] < np.percentile(df['latitude'], 99.95)) &\n",
        "        (df['longitude'] >= np.percentile(df['longitude'], 0.05)) & \n",
        "        (df['longitude'] <= np.percentile(df['longitude'], 99.95))]"
      ],
      "execution_count": null,
      "outputs": []
    },
    {
      "cell_type": "code",
      "metadata": {
        "id": "ArVf8jRGqTp_"
      },
      "source": [
        "# The distribution has improved, but is still right-skewed\n",
        "y = df['price']\n",
        "sns.distplot(y);"
      ],
      "execution_count": null,
      "outputs": []
    },
    {
      "cell_type": "code",
      "metadata": {
        "id": "GJ1-h5wGqTqD"
      },
      "source": [
        "y.describe()"
      ],
      "execution_count": null,
      "outputs": []
    },
    {
      "cell_type": "markdown",
      "metadata": {
        "id": "MkCLcjNRqTqG"
      },
      "source": [
        "### Log-Transform\n",
        "\n",
        "If the target is right-skewed, you may want to “log transform” the target.\n",
        "\n",
        "\n",
        "> Transforming the target variable (using the mathematical log function) into a tighter, more uniform space makes life easier for any [regression] model.\n",
        ">\n",
        "> The only problem is that, while easy to execute, understanding why taking the log of the target variable works and how it affects the training/testing process is intellectually challenging. You can skip this section for now, if you like, but just remember that this technique exists and check back here if needed in the future.\n",
        ">\n",
        "> Optimally, the distribution of prices would be a narrow “bell curve” distribution without a tail. This would make predictions based upon average prices more accurate. We need a mathematical operation that transforms the widely-distributed target prices into a new space. The “price in dollars space” has a long right tail because of outliers and we want to squeeze that space into a new space that is normally distributed. More specifically, we need to shrink large values a lot and smaller values a little. That magic operation is called the logarithm or log for short. \n",
        ">\n",
        "> To make actual predictions, we have to take the exp of model predictions to get prices in dollars instead of log dollars. \n",
        ">\n",
        ">— Terence Parr & Jeremy Howard, [The Mechanics of Machine Learning, Chapter 5.5](https://mlbook.explained.ai/prep.html#logtarget)\n",
        "\n",
        "[Numpy has exponents and logarithms](https://docs.scipy.org/doc/numpy/reference/routines.math.html#exponents-and-logarithms). Your Python code could look like this:\n",
        "\n",
        "```python\n",
        "import numpy as np\n",
        "y_train_log = np.log1p(y_train)\n",
        "model.fit(X_train, y_train_log)\n",
        "y_pred_log = model.predict(X_val)\n",
        "y_pred = np.expm1(y_pred_log)\n",
        "print(mean_absolute_error(y_val, y_pred))\n",
        "```"
      ]
    },
    {
      "cell_type": "code",
      "metadata": {
        "id": "b_kqGfZrqTqG"
      },
      "source": [
        "sns.distplot(y)\n",
        "plt.title('Original target, in the unit of US dollars');"
      ],
      "execution_count": null,
      "outputs": []
    },
    {
      "cell_type": "code",
      "metadata": {
        "id": "YCtPV5pdqTqJ"
      },
      "source": [
        "y_log = np.log1p(y)\n",
        "sns.distplot(y_log)\n",
        "plt.title('Log-transformed target, in log-dollars');"
      ],
      "execution_count": null,
      "outputs": []
    },
    {
      "cell_type": "code",
      "metadata": {
        "id": "bLY1GGRvqTqN"
      },
      "source": [
        "y_untransformed = np.expm1(y_log)\n",
        "sns.distplot(y_untransformed)\n",
        "plt.title('Back to the original units');"
      ],
      "execution_count": null,
      "outputs": []
    },
    {
      "cell_type": "markdown",
      "metadata": {
        "id": "qxoMiSfHqTqR"
      },
      "source": [
        "## Challenge\n",
        "\n",
        "You will use your portfolio project dataset for all assignments this sprint. (If you haven't found a dataset yet, do that today. [Review requirements for your portfolio project](https://lambdaschool.github.io/ds/unit2) and choose your dataset.)\n",
        "\n",
        "Complete these tasks for your project, and document your decisions.\n",
        "\n",
        "- Choose your target. Which column in your tabular dataset will you predict?\n",
        "- Is your problem regression or classification?\n",
        "- How is your target distributed?\n",
        "    - Classification: How many classes? Are the classes imbalanced?\n",
        "    - Regression: Is the target right-skewed? If so, you may want to log transform the target.\n",
        "- Choose your evaluation metric(s).\n",
        "    - Classification: Is your majority class frequency >= 50% and < 70% ? If so, you can just use accuracy if you want. Outside that range, accuracy could be misleading. What evaluation metric will you choose, in addition to or instead of accuracy?\n",
        "    - Regression: Will you use mean absolute error, root mean squared error, R^2, or other regression metrics?\n",
        "- Choose which observations you will use to train, validate, and test your model.\n",
        "    - Are some observations outliers? Will you exclude them?\n",
        "    - Will you do a random split or a time-based split?\n",
        "- Begin to clean and explore your data.\n",
        "- Begin to choose which features, if any, to exclude. Would some features \"leak\" future information?\n",
        "\n",
        "Some students worry, ***what if my model isn't “good”?*** Then, [produce a detailed tribute to your wrongness. That is science!](https://twitter.com/nathanwpyle/status/1176860147223867393)"
      ]
    }
  ]
}