{
  "nbformat": 4,
  "nbformat_minor": 0,
  "metadata": {
    "jupytext": {
      "cell_metadata_filter": "-all",
      "main_language": "python",
      "notebook_metadata_filter": "-all"
    },
    "kernelspec": {
      "display_name": "Python 3",
      "language": "python",
      "name": "python3"
    },
    "language_info": {
      "codemirror_mode": {
        "name": "ipython",
        "version": 3
      },
      "file_extension": ".py",
      "mimetype": "text/x-python",
      "name": "python",
      "nbconvert_exporter": "python",
      "pygments_lexer": "ipython3",
      "version": "3.7.3"
    },
    "colab": {
      "name": "Copy of LS_DS_232_assignment.ipynb",
      "provenance": [],
      "include_colab_link": true
    }
  },
  "cells": [
    {
      "cell_type": "markdown",
      "metadata": {
        "id": "view-in-github",
        "colab_type": "text"
      },
      "source": [
        "<a href=\"https://colab.research.google.com/github/mark-morelos/DS-Unit-2-Applied-Modeling/blob/master/Copy_of_LS_DS_232_assignment.ipynb\" target=\"_parent\"><img src=\"https://colab.research.google.com/assets/colab-badge.svg\" alt=\"Open In Colab\"/></a>"
      ]
    },
    {
      "cell_type": "markdown",
      "metadata": {
        "id": "yzvOxJHisBxk",
        "colab_type": "text"
      },
      "source": [
        "Lambda School Data Science\n",
        "\n",
        "*Unit 2, Sprint 3, Module 2*\n",
        "\n",
        "---\n",
        "\n",
        "\n",
        "# Wrangle ML datasets\n",
        "\n",
        "- [ ] Continue to clean and explore your data. \n",
        "- [ ] For the evaluation metric you chose, what score would you get just by guessing?\n",
        "- [ ] Can you make a fast, first model that beats guessing?\n",
        "\n",
        "**We recommend that you use your portfolio project dataset for all assignments this sprint.**\n",
        "\n",
        "**But if you aren't ready yet, or you want more practice, then use the New York City property sales dataset for today's assignment.** Follow the instructions below, to just keep a subset for the Tribeca neighborhood, and remove outliers or dirty data. [Here's a video walkthrough](https://youtu.be/pPWFw8UtBVg?t=584) you can refer to if you get stuck or want hints!\n",
        "\n",
        "- Data Source: [NYC OpenData: NYC Citywide Rolling Calendar Sales](https://data.cityofnewyork.us/dataset/NYC-Citywide-Rolling-Calendar-Sales/usep-8jbt)\n",
        "- Glossary: [NYC Department of Finance: Rolling Sales Data](https://www1.nyc.gov/site/finance/taxes/property-rolling-sales-data.page)"
      ]
    },
    {
      "cell_type": "code",
      "metadata": {
        "id": "3KNSoVKdsBxl",
        "colab_type": "code",
        "colab": {}
      },
      "source": [
        "%%capture\n",
        "import sys\n",
        "\n",
        "# If you're on Colab:\n",
        "if 'google.colab' in sys.modules:\n",
        "    DATA_PATH = 'https://raw.githubusercontent.com/LambdaSchool/DS-Unit-2-Applied-Modeling/master/data/'\n",
        "    !pip install category_encoders==2.*\n",
        "    !pip install pandas-profiling==2.*\n",
        "\n",
        "# If you're working locally:\n",
        "else:\n",
        "    DATA_PATH = '../data/'"
      ],
      "execution_count": null,
      "outputs": []
    },
    {
      "cell_type": "code",
      "metadata": {
        "id": "0Usn9N9ZsBxy",
        "colab_type": "code",
        "colab": {}
      },
      "source": [
        "# Read New York City property sales data\n",
        "import pandas as pd\n",
        "df = pd.read_csv(DATA_PATH+'condos/NYC_Citywide_Rolling_Calendar_Sales.csv')"
      ],
      "execution_count": null,
      "outputs": []
    },
    {
      "cell_type": "code",
      "metadata": {
        "id": "NKVCUK09sN13",
        "colab_type": "code",
        "colab": {
          "base_uri": "https://localhost:8080/",
          "height": 411
        },
        "outputId": "460a02ed-c2b0-43aa-d88e-d61972d0d1c2"
      },
      "source": [
        "# using my project dataset\n",
        "import pandas as pd\n",
        "import numpy as np\n",
        "\n",
        "shelter_outcome = pd.read_csv('sample_data/Animal_Shelter_Intake_and_Outcome.csv')\n",
        "shelter_outcome.head()"
      ],
      "execution_count": 2,
      "outputs": [
        {
          "output_type": "execute_result",
          "data": {
            "text/html": [
              "<div>\n",
              "<style scoped>\n",
              "    .dataframe tbody tr th:only-of-type {\n",
              "        vertical-align: middle;\n",
              "    }\n",
              "\n",
              "    .dataframe tbody tr th {\n",
              "        vertical-align: top;\n",
              "    }\n",
              "\n",
              "    .dataframe thead th {\n",
              "        text-align: right;\n",
              "    }\n",
              "</style>\n",
              "<table border=\"1\" class=\"dataframe\">\n",
              "  <thead>\n",
              "    <tr style=\"text-align: right;\">\n",
              "      <th></th>\n",
              "      <th>Name</th>\n",
              "      <th>Type</th>\n",
              "      <th>Breed</th>\n",
              "      <th>Color</th>\n",
              "      <th>Sex</th>\n",
              "      <th>Size</th>\n",
              "      <th>Date Of Birth</th>\n",
              "      <th>Impound Number</th>\n",
              "      <th>Kennel Number</th>\n",
              "      <th>Animal ID</th>\n",
              "      <th>Intake Date</th>\n",
              "      <th>Outcome Date</th>\n",
              "      <th>Days in Shelter</th>\n",
              "      <th>Intake Type</th>\n",
              "      <th>Intake Subtype</th>\n",
              "      <th>Outcome Type</th>\n",
              "      <th>Outcome Subtype</th>\n",
              "      <th>Intake Condition</th>\n",
              "      <th>Outcome Condition</th>\n",
              "      <th>Intake Jurisdiction</th>\n",
              "      <th>Outcome Jurisdiction</th>\n",
              "      <th>Outcome Zip Code</th>\n",
              "      <th>Location</th>\n",
              "      <th>Count</th>\n",
              "    </tr>\n",
              "  </thead>\n",
              "  <tbody>\n",
              "    <tr>\n",
              "      <th>0</th>\n",
              "      <td>SKY</td>\n",
              "      <td>DOG</td>\n",
              "      <td>GERM SHEPHERD</td>\n",
              "      <td>BLACK/TAN</td>\n",
              "      <td>Female</td>\n",
              "      <td>MED</td>\n",
              "      <td>NaN</td>\n",
              "      <td>K20-035118</td>\n",
              "      <td>DS69</td>\n",
              "      <td>A395686</td>\n",
              "      <td>1/19/20</td>\n",
              "      <td>1/23/20</td>\n",
              "      <td>4</td>\n",
              "      <td>STRAY</td>\n",
              "      <td>FIELD</td>\n",
              "      <td>RETURN TO OWNER</td>\n",
              "      <td>OVER THE COUNTER_CALL</td>\n",
              "      <td>HEALTHY</td>\n",
              "      <td>HEALTHY</td>\n",
              "      <td>COUNTY</td>\n",
              "      <td>COUNTY</td>\n",
              "      <td>95404.0</td>\n",
              "      <td>95404(38.458384, -122.675588)</td>\n",
              "      <td>1</td>\n",
              "    </tr>\n",
              "    <tr>\n",
              "      <th>1</th>\n",
              "      <td>COCO</td>\n",
              "      <td>DOG</td>\n",
              "      <td>BEAGLE</td>\n",
              "      <td>TRICOLOR</td>\n",
              "      <td>Neutered</td>\n",
              "      <td>SMALL</td>\n",
              "      <td>4/6/15</td>\n",
              "      <td>K17-025093</td>\n",
              "      <td>DS83</td>\n",
              "      <td>A379968</td>\n",
              "      <td>8/30/17</td>\n",
              "      <td>10/4/17</td>\n",
              "      <td>35</td>\n",
              "      <td>STRAY</td>\n",
              "      <td>FIELD</td>\n",
              "      <td>TRANSFER</td>\n",
              "      <td>NC AN FRND</td>\n",
              "      <td>UNKNOWN</td>\n",
              "      <td>HEALTHY</td>\n",
              "      <td>SANTA ROSA</td>\n",
              "      <td>OUT OF COUNTY</td>\n",
              "      <td>95758.0</td>\n",
              "      <td>95758(38.424655, -121.438065)</td>\n",
              "      <td>1</td>\n",
              "    </tr>\n",
              "    <tr>\n",
              "      <th>2</th>\n",
              "      <td>BRATT</td>\n",
              "      <td>CAT</td>\n",
              "      <td>DOMESTIC SH</td>\n",
              "      <td>BRN TABBY</td>\n",
              "      <td>Spayed</td>\n",
              "      <td>SMALL</td>\n",
              "      <td>9/1/10</td>\n",
              "      <td>K18-028633</td>\n",
              "      <td>MAC</td>\n",
              "      <td>A374010</td>\n",
              "      <td>6/13/18</td>\n",
              "      <td>8/11/18</td>\n",
              "      <td>59</td>\n",
              "      <td>OWNER SURRENDER</td>\n",
              "      <td>OVER THE COUNTER</td>\n",
              "      <td>ADOPTION</td>\n",
              "      <td>MOB EVENT</td>\n",
              "      <td>TREATABLE/MANAGEABLE</td>\n",
              "      <td>HEALTHY</td>\n",
              "      <td>COUNTY</td>\n",
              "      <td>SANTA ROSA</td>\n",
              "      <td>95405.0</td>\n",
              "      <td>95405(38.439152, -122.672541)</td>\n",
              "      <td>1</td>\n",
              "    </tr>\n",
              "    <tr>\n",
              "      <th>3</th>\n",
              "      <td>DOONA</td>\n",
              "      <td>DOG</td>\n",
              "      <td>PIT BULL</td>\n",
              "      <td>TAN/WHITE</td>\n",
              "      <td>Male</td>\n",
              "      <td>LARGE</td>\n",
              "      <td>7/6/16</td>\n",
              "      <td>K20-035573</td>\n",
              "      <td>DS67</td>\n",
              "      <td>A389249</td>\n",
              "      <td>3/11/20</td>\n",
              "      <td>3/13/20</td>\n",
              "      <td>2</td>\n",
              "      <td>STRAY</td>\n",
              "      <td>FIELD</td>\n",
              "      <td>RETURN TO OWNER</td>\n",
              "      <td>OVER THE COUNTER_NOTICE</td>\n",
              "      <td>HEALTHY</td>\n",
              "      <td>HEALTHY</td>\n",
              "      <td>SANTA ROSA</td>\n",
              "      <td>SANTA ROSA</td>\n",
              "      <td>95409.0</td>\n",
              "      <td>95409(38.458965, -122.630156)</td>\n",
              "      <td>0</td>\n",
              "    </tr>\n",
              "    <tr>\n",
              "      <th>4</th>\n",
              "      <td>SUZIE</td>\n",
              "      <td>DOG</td>\n",
              "      <td>LABRADOR RETR/MIX</td>\n",
              "      <td>BLACK</td>\n",
              "      <td>Spayed</td>\n",
              "      <td>LARGE</td>\n",
              "      <td>1/23/11</td>\n",
              "      <td>K15-012348</td>\n",
              "      <td>DA34</td>\n",
              "      <td>A315553</td>\n",
              "      <td>1/7/15</td>\n",
              "      <td>1/24/15</td>\n",
              "      <td>17</td>\n",
              "      <td>STRAY</td>\n",
              "      <td>OVER THE COUNTER</td>\n",
              "      <td>ADOPTION</td>\n",
              "      <td>INTERNET</td>\n",
              "      <td>HEALTHY</td>\n",
              "      <td>HEALTHY</td>\n",
              "      <td>SANTA ROSA</td>\n",
              "      <td>SANTA ROSA</td>\n",
              "      <td>95404.0</td>\n",
              "      <td>95404(38.458384, -122.675588)</td>\n",
              "      <td>1</td>\n",
              "    </tr>\n",
              "  </tbody>\n",
              "</table>\n",
              "</div>"
            ],
            "text/plain": [
              "    Name Type  ...                       Location Count\n",
              "0    SKY  DOG  ...  95404(38.458384, -122.675588)     1\n",
              "1   COCO  DOG  ...  95758(38.424655, -121.438065)     1\n",
              "2  BRATT  CAT  ...  95405(38.439152, -122.672541)     1\n",
              "3  DOONA  DOG  ...  95409(38.458965, -122.630156)     0\n",
              "4  SUZIE  DOG  ...  95404(38.458384, -122.675588)     1\n",
              "\n",
              "[5 rows x 24 columns]"
            ]
          },
          "metadata": {
            "tags": []
          },
          "execution_count": 2
        }
      ]
    },
    {
      "cell_type": "code",
      "metadata": {
        "id": "hrUGVxqDDuLG",
        "colab_type": "code",
        "colab": {
          "base_uri": "https://localhost:8080/",
          "height": 583
        },
        "outputId": "23bface5-4b0c-4c3b-dd57-5113d9024137"
      },
      "source": [
        "# dropping rows of returned to owners as these are unnecessary info for the data\n",
        "\n",
        "returned = shelter_outcome[shelter_outcome['Outcome Type']=='RETURN TO OWNER'].index\n",
        "shelter_outcome.drop(returned, inplace=True)\n",
        "shelter_outcome.head(10)"
      ],
      "execution_count": 4,
      "outputs": [
        {
          "output_type": "execute_result",
          "data": {
            "text/html": [
              "<div>\n",
              "<style scoped>\n",
              "    .dataframe tbody tr th:only-of-type {\n",
              "        vertical-align: middle;\n",
              "    }\n",
              "\n",
              "    .dataframe tbody tr th {\n",
              "        vertical-align: top;\n",
              "    }\n",
              "\n",
              "    .dataframe thead th {\n",
              "        text-align: right;\n",
              "    }\n",
              "</style>\n",
              "<table border=\"1\" class=\"dataframe\">\n",
              "  <thead>\n",
              "    <tr style=\"text-align: right;\">\n",
              "      <th></th>\n",
              "      <th>Name</th>\n",
              "      <th>Type</th>\n",
              "      <th>Breed</th>\n",
              "      <th>Color</th>\n",
              "      <th>Sex</th>\n",
              "      <th>Size</th>\n",
              "      <th>Date Of Birth</th>\n",
              "      <th>Impound Number</th>\n",
              "      <th>Kennel Number</th>\n",
              "      <th>Animal ID</th>\n",
              "      <th>Intake Date</th>\n",
              "      <th>Outcome Date</th>\n",
              "      <th>Days in Shelter</th>\n",
              "      <th>Intake Type</th>\n",
              "      <th>Intake Subtype</th>\n",
              "      <th>Outcome Type</th>\n",
              "      <th>Outcome Subtype</th>\n",
              "      <th>Intake Condition</th>\n",
              "      <th>Outcome Condition</th>\n",
              "      <th>Intake Jurisdiction</th>\n",
              "      <th>Outcome Jurisdiction</th>\n",
              "      <th>Outcome Zip Code</th>\n",
              "      <th>Location</th>\n",
              "      <th>Count</th>\n",
              "    </tr>\n",
              "  </thead>\n",
              "  <tbody>\n",
              "    <tr>\n",
              "      <th>1</th>\n",
              "      <td>COCO</td>\n",
              "      <td>DOG</td>\n",
              "      <td>BEAGLE</td>\n",
              "      <td>TRICOLOR</td>\n",
              "      <td>Neutered</td>\n",
              "      <td>SMALL</td>\n",
              "      <td>4/6/15</td>\n",
              "      <td>K17-025093</td>\n",
              "      <td>DS83</td>\n",
              "      <td>A379968</td>\n",
              "      <td>8/30/17</td>\n",
              "      <td>10/4/17</td>\n",
              "      <td>35</td>\n",
              "      <td>STRAY</td>\n",
              "      <td>FIELD</td>\n",
              "      <td>TRANSFER</td>\n",
              "      <td>NC AN FRND</td>\n",
              "      <td>UNKNOWN</td>\n",
              "      <td>HEALTHY</td>\n",
              "      <td>SANTA ROSA</td>\n",
              "      <td>OUT OF COUNTY</td>\n",
              "      <td>95758.0</td>\n",
              "      <td>95758(38.424655, -121.438065)</td>\n",
              "      <td>1</td>\n",
              "    </tr>\n",
              "    <tr>\n",
              "      <th>2</th>\n",
              "      <td>BRATT</td>\n",
              "      <td>CAT</td>\n",
              "      <td>DOMESTIC SH</td>\n",
              "      <td>BRN TABBY</td>\n",
              "      <td>Spayed</td>\n",
              "      <td>SMALL</td>\n",
              "      <td>9/1/10</td>\n",
              "      <td>K18-028633</td>\n",
              "      <td>MAC</td>\n",
              "      <td>A374010</td>\n",
              "      <td>6/13/18</td>\n",
              "      <td>8/11/18</td>\n",
              "      <td>59</td>\n",
              "      <td>OWNER SURRENDER</td>\n",
              "      <td>OVER THE COUNTER</td>\n",
              "      <td>ADOPTION</td>\n",
              "      <td>MOB EVENT</td>\n",
              "      <td>TREATABLE/MANAGEABLE</td>\n",
              "      <td>HEALTHY</td>\n",
              "      <td>COUNTY</td>\n",
              "      <td>SANTA ROSA</td>\n",
              "      <td>95405.0</td>\n",
              "      <td>95405(38.439152, -122.672541)</td>\n",
              "      <td>1</td>\n",
              "    </tr>\n",
              "    <tr>\n",
              "      <th>4</th>\n",
              "      <td>SUZIE</td>\n",
              "      <td>DOG</td>\n",
              "      <td>LABRADOR RETR/MIX</td>\n",
              "      <td>BLACK</td>\n",
              "      <td>Spayed</td>\n",
              "      <td>LARGE</td>\n",
              "      <td>1/23/11</td>\n",
              "      <td>K15-012348</td>\n",
              "      <td>DA34</td>\n",
              "      <td>A315553</td>\n",
              "      <td>1/7/15</td>\n",
              "      <td>1/24/15</td>\n",
              "      <td>17</td>\n",
              "      <td>STRAY</td>\n",
              "      <td>OVER THE COUNTER</td>\n",
              "      <td>ADOPTION</td>\n",
              "      <td>INTERNET</td>\n",
              "      <td>HEALTHY</td>\n",
              "      <td>HEALTHY</td>\n",
              "      <td>SANTA ROSA</td>\n",
              "      <td>SANTA ROSA</td>\n",
              "      <td>95404.0</td>\n",
              "      <td>95404(38.458384, -122.675588)</td>\n",
              "      <td>1</td>\n",
              "    </tr>\n",
              "    <tr>\n",
              "      <th>5</th>\n",
              "      <td>*DERRICK</td>\n",
              "      <td>CAT</td>\n",
              "      <td>DOMESTIC LH</td>\n",
              "      <td>WHITE</td>\n",
              "      <td>Neutered</td>\n",
              "      <td>MED</td>\n",
              "      <td>3/11/17</td>\n",
              "      <td>K20-035492</td>\n",
              "      <td>CA02</td>\n",
              "      <td>A396503</td>\n",
              "      <td>3/2/20</td>\n",
              "      <td>NaN</td>\n",
              "      <td>0</td>\n",
              "      <td>STRAY</td>\n",
              "      <td>FIELD</td>\n",
              "      <td>NaN</td>\n",
              "      <td>NaN</td>\n",
              "      <td>HEALTHY</td>\n",
              "      <td>NaN</td>\n",
              "      <td>SANTA ROSA</td>\n",
              "      <td>NaN</td>\n",
              "      <td>NaN</td>\n",
              "      <td>NaN</td>\n",
              "      <td>1</td>\n",
              "    </tr>\n",
              "    <tr>\n",
              "      <th>6</th>\n",
              "      <td>*FINN</td>\n",
              "      <td>DOG</td>\n",
              "      <td>GOLDEN RETR</td>\n",
              "      <td>YELLOW</td>\n",
              "      <td>Neutered</td>\n",
              "      <td>LARGE</td>\n",
              "      <td>2/11/12</td>\n",
              "      <td>K18-027243</td>\n",
              "      <td>DA41</td>\n",
              "      <td>A368064</td>\n",
              "      <td>2/10/18</td>\n",
              "      <td>3/13/20</td>\n",
              "      <td>762</td>\n",
              "      <td>CONFISCATE</td>\n",
              "      <td>FLD_CRUEL</td>\n",
              "      <td>ADOPTION</td>\n",
              "      <td>SCAS WEB</td>\n",
              "      <td>UNKNOWN</td>\n",
              "      <td>PENDING</td>\n",
              "      <td>COUNTY</td>\n",
              "      <td>COUNTY</td>\n",
              "      <td>95401.0</td>\n",
              "      <td>95401(38.446019, -122.766748)</td>\n",
              "      <td>1</td>\n",
              "    </tr>\n",
              "    <tr>\n",
              "      <th>8</th>\n",
              "      <td>*BONNIE</td>\n",
              "      <td>CAT</td>\n",
              "      <td>DOMESTIC SH</td>\n",
              "      <td>CALICO</td>\n",
              "      <td>Spayed</td>\n",
              "      <td>SMALL</td>\n",
              "      <td>7/13/18</td>\n",
              "      <td>K20-036097</td>\n",
              "      <td>CS05</td>\n",
              "      <td>A398364</td>\n",
              "      <td>7/1/20</td>\n",
              "      <td>NaN</td>\n",
              "      <td>0</td>\n",
              "      <td>STRAY</td>\n",
              "      <td>PHONE</td>\n",
              "      <td>NaN</td>\n",
              "      <td>NaN</td>\n",
              "      <td>UNKNOWN</td>\n",
              "      <td>NaN</td>\n",
              "      <td>COUNTY</td>\n",
              "      <td>NaN</td>\n",
              "      <td>NaN</td>\n",
              "      <td>NaN</td>\n",
              "      <td>1</td>\n",
              "    </tr>\n",
              "    <tr>\n",
              "      <th>9</th>\n",
              "      <td>ANNE</td>\n",
              "      <td>CAT</td>\n",
              "      <td>DOMESTIC SH</td>\n",
              "      <td>WHITE/BLACK</td>\n",
              "      <td>Spayed</td>\n",
              "      <td>SMALL</td>\n",
              "      <td>5/29/14</td>\n",
              "      <td>K20-035869</td>\n",
              "      <td>CA02</td>\n",
              "      <td>A397666</td>\n",
              "      <td>5/29/20</td>\n",
              "      <td>NaN</td>\n",
              "      <td>0</td>\n",
              "      <td>OWNER SURRENDER</td>\n",
              "      <td>OVER THE COUNTER</td>\n",
              "      <td>NaN</td>\n",
              "      <td>NaN</td>\n",
              "      <td>TREATABLE/MANAGEABLE</td>\n",
              "      <td>NaN</td>\n",
              "      <td>SANTA ROSA</td>\n",
              "      <td>NaN</td>\n",
              "      <td>NaN</td>\n",
              "      <td>NaN</td>\n",
              "      <td>1</td>\n",
              "    </tr>\n",
              "    <tr>\n",
              "      <th>10</th>\n",
              "      <td>SHADOW</td>\n",
              "      <td>CAT</td>\n",
              "      <td>DOMESTIC MH</td>\n",
              "      <td>BLACK/WHITE</td>\n",
              "      <td>Neutered</td>\n",
              "      <td>SMALL</td>\n",
              "      <td>6/16/12</td>\n",
              "      <td>K20-036002</td>\n",
              "      <td>CA02</td>\n",
              "      <td>A397962</td>\n",
              "      <td>6/16/20</td>\n",
              "      <td>NaN</td>\n",
              "      <td>0</td>\n",
              "      <td>OWNER SURRENDER</td>\n",
              "      <td>OVER THE COUNTER</td>\n",
              "      <td>NaN</td>\n",
              "      <td>NaN</td>\n",
              "      <td>HEALTHY</td>\n",
              "      <td>NaN</td>\n",
              "      <td>SANTA ROSA</td>\n",
              "      <td>NaN</td>\n",
              "      <td>NaN</td>\n",
              "      <td>NaN</td>\n",
              "      <td>1</td>\n",
              "    </tr>\n",
              "    <tr>\n",
              "      <th>11</th>\n",
              "      <td>*CANDY</td>\n",
              "      <td>CAT</td>\n",
              "      <td>DOMESTIC SH</td>\n",
              "      <td>CALICO</td>\n",
              "      <td>Spayed</td>\n",
              "      <td>SMALL</td>\n",
              "      <td>7/13/18</td>\n",
              "      <td>K20-036108</td>\n",
              "      <td>CS05</td>\n",
              "      <td>A398401</td>\n",
              "      <td>7/2/20</td>\n",
              "      <td>NaN</td>\n",
              "      <td>0</td>\n",
              "      <td>OWNER SURRENDER</td>\n",
              "      <td>OVER THE COUNTER</td>\n",
              "      <td>NaN</td>\n",
              "      <td>NaN</td>\n",
              "      <td>UNKNOWN</td>\n",
              "      <td>NaN</td>\n",
              "      <td>SANTA ROSA</td>\n",
              "      <td>NaN</td>\n",
              "      <td>NaN</td>\n",
              "      <td>NaN</td>\n",
              "      <td>1</td>\n",
              "    </tr>\n",
              "    <tr>\n",
              "      <th>12</th>\n",
              "      <td>NaN</td>\n",
              "      <td>OTHER</td>\n",
              "      <td>POTBELLY PIG</td>\n",
              "      <td>PINK</td>\n",
              "      <td>Female</td>\n",
              "      <td>MED</td>\n",
              "      <td>NaN</td>\n",
              "      <td>K19-034153</td>\n",
              "      <td>LS02</td>\n",
              "      <td>A392287</td>\n",
              "      <td>10/16/19</td>\n",
              "      <td>10/31/19</td>\n",
              "      <td>15</td>\n",
              "      <td>STRAY</td>\n",
              "      <td>FIELD</td>\n",
              "      <td>TRANSFER</td>\n",
              "      <td>SCCAS</td>\n",
              "      <td>UNKNOWN</td>\n",
              "      <td>HEALTHY</td>\n",
              "      <td>COUNTY</td>\n",
              "      <td>OUT OF COUNTY</td>\n",
              "      <td>95046.0</td>\n",
              "      <td>95046(37.088258, -121.602016)</td>\n",
              "      <td>1</td>\n",
              "    </tr>\n",
              "  </tbody>\n",
              "</table>\n",
              "</div>"
            ],
            "text/plain": [
              "        Name   Type  ...                       Location Count\n",
              "1       COCO    DOG  ...  95758(38.424655, -121.438065)     1\n",
              "2      BRATT    CAT  ...  95405(38.439152, -122.672541)     1\n",
              "4      SUZIE    DOG  ...  95404(38.458384, -122.675588)     1\n",
              "5   *DERRICK    CAT  ...                            NaN     1\n",
              "6      *FINN    DOG  ...  95401(38.446019, -122.766748)     1\n",
              "8    *BONNIE    CAT  ...                            NaN     1\n",
              "9       ANNE    CAT  ...                            NaN     1\n",
              "10    SHADOW    CAT  ...                            NaN     1\n",
              "11    *CANDY    CAT  ...                            NaN     1\n",
              "12       NaN  OTHER  ...  95046(37.088258, -121.602016)     1\n",
              "\n",
              "[10 rows x 24 columns]"
            ]
          },
          "metadata": {
            "tags": []
          },
          "execution_count": 4
        }
      ]
    },
    {
      "cell_type": "markdown",
      "metadata": {
        "id": "VnTJyiJIsBx1",
        "colab_type": "text"
      },
      "source": [
        "Your code starts here:"
      ]
    },
    {
      "cell_type": "code",
      "metadata": {
        "id": "qiX2jxyFsBx1",
        "colab_type": "code",
        "colab": {
          "base_uri": "https://localhost:8080/",
          "height": 213
        },
        "outputId": "f728b482-cc44-4a3a-fb82-042c23092abd"
      },
      "source": [
        "# Change column names: replace spaces with underscores\n",
        "shelter_outcome.columns = shelter_outcome.columns.str.replace(' ','_')\n",
        "shelter_outcome.head(3)"
      ],
      "execution_count": 5,
      "outputs": [
        {
          "output_type": "execute_result",
          "data": {
            "text/html": [
              "<div>\n",
              "<style scoped>\n",
              "    .dataframe tbody tr th:only-of-type {\n",
              "        vertical-align: middle;\n",
              "    }\n",
              "\n",
              "    .dataframe tbody tr th {\n",
              "        vertical-align: top;\n",
              "    }\n",
              "\n",
              "    .dataframe thead th {\n",
              "        text-align: right;\n",
              "    }\n",
              "</style>\n",
              "<table border=\"1\" class=\"dataframe\">\n",
              "  <thead>\n",
              "    <tr style=\"text-align: right;\">\n",
              "      <th></th>\n",
              "      <th>Name</th>\n",
              "      <th>Type</th>\n",
              "      <th>Breed</th>\n",
              "      <th>Color</th>\n",
              "      <th>Sex</th>\n",
              "      <th>Size</th>\n",
              "      <th>Date_Of_Birth</th>\n",
              "      <th>Impound_Number</th>\n",
              "      <th>Kennel_Number</th>\n",
              "      <th>Animal_ID</th>\n",
              "      <th>Intake_Date</th>\n",
              "      <th>Outcome_Date</th>\n",
              "      <th>Days_in_Shelter</th>\n",
              "      <th>Intake_Type</th>\n",
              "      <th>Intake_Subtype</th>\n",
              "      <th>Outcome_Type</th>\n",
              "      <th>Outcome_Subtype</th>\n",
              "      <th>Intake_Condition</th>\n",
              "      <th>Outcome_Condition</th>\n",
              "      <th>Intake_Jurisdiction</th>\n",
              "      <th>Outcome_Jurisdiction</th>\n",
              "      <th>Outcome_Zip_Code</th>\n",
              "      <th>Location</th>\n",
              "      <th>Count</th>\n",
              "    </tr>\n",
              "  </thead>\n",
              "  <tbody>\n",
              "    <tr>\n",
              "      <th>1</th>\n",
              "      <td>COCO</td>\n",
              "      <td>DOG</td>\n",
              "      <td>BEAGLE</td>\n",
              "      <td>TRICOLOR</td>\n",
              "      <td>Neutered</td>\n",
              "      <td>SMALL</td>\n",
              "      <td>4/6/15</td>\n",
              "      <td>K17-025093</td>\n",
              "      <td>DS83</td>\n",
              "      <td>A379968</td>\n",
              "      <td>8/30/17</td>\n",
              "      <td>10/4/17</td>\n",
              "      <td>35</td>\n",
              "      <td>STRAY</td>\n",
              "      <td>FIELD</td>\n",
              "      <td>TRANSFER</td>\n",
              "      <td>NC AN FRND</td>\n",
              "      <td>UNKNOWN</td>\n",
              "      <td>HEALTHY</td>\n",
              "      <td>SANTA ROSA</td>\n",
              "      <td>OUT OF COUNTY</td>\n",
              "      <td>95758.0</td>\n",
              "      <td>95758(38.424655, -121.438065)</td>\n",
              "      <td>1</td>\n",
              "    </tr>\n",
              "    <tr>\n",
              "      <th>2</th>\n",
              "      <td>BRATT</td>\n",
              "      <td>CAT</td>\n",
              "      <td>DOMESTIC SH</td>\n",
              "      <td>BRN TABBY</td>\n",
              "      <td>Spayed</td>\n",
              "      <td>SMALL</td>\n",
              "      <td>9/1/10</td>\n",
              "      <td>K18-028633</td>\n",
              "      <td>MAC</td>\n",
              "      <td>A374010</td>\n",
              "      <td>6/13/18</td>\n",
              "      <td>8/11/18</td>\n",
              "      <td>59</td>\n",
              "      <td>OWNER SURRENDER</td>\n",
              "      <td>OVER THE COUNTER</td>\n",
              "      <td>ADOPTION</td>\n",
              "      <td>MOB EVENT</td>\n",
              "      <td>TREATABLE/MANAGEABLE</td>\n",
              "      <td>HEALTHY</td>\n",
              "      <td>COUNTY</td>\n",
              "      <td>SANTA ROSA</td>\n",
              "      <td>95405.0</td>\n",
              "      <td>95405(38.439152, -122.672541)</td>\n",
              "      <td>1</td>\n",
              "    </tr>\n",
              "    <tr>\n",
              "      <th>4</th>\n",
              "      <td>SUZIE</td>\n",
              "      <td>DOG</td>\n",
              "      <td>LABRADOR RETR/MIX</td>\n",
              "      <td>BLACK</td>\n",
              "      <td>Spayed</td>\n",
              "      <td>LARGE</td>\n",
              "      <td>1/23/11</td>\n",
              "      <td>K15-012348</td>\n",
              "      <td>DA34</td>\n",
              "      <td>A315553</td>\n",
              "      <td>1/7/15</td>\n",
              "      <td>1/24/15</td>\n",
              "      <td>17</td>\n",
              "      <td>STRAY</td>\n",
              "      <td>OVER THE COUNTER</td>\n",
              "      <td>ADOPTION</td>\n",
              "      <td>INTERNET</td>\n",
              "      <td>HEALTHY</td>\n",
              "      <td>HEALTHY</td>\n",
              "      <td>SANTA ROSA</td>\n",
              "      <td>SANTA ROSA</td>\n",
              "      <td>95404.0</td>\n",
              "      <td>95404(38.458384, -122.675588)</td>\n",
              "      <td>1</td>\n",
              "    </tr>\n",
              "  </tbody>\n",
              "</table>\n",
              "</div>"
            ],
            "text/plain": [
              "    Name Type  ...                       Location Count\n",
              "1   COCO  DOG  ...  95758(38.424655, -121.438065)     1\n",
              "2  BRATT  CAT  ...  95405(38.439152, -122.672541)     1\n",
              "4  SUZIE  DOG  ...  95404(38.458384, -122.675588)     1\n",
              "\n",
              "[3 rows x 24 columns]"
            ]
          },
          "metadata": {
            "tags": []
          },
          "execution_count": 5
        }
      ]
    },
    {
      "cell_type": "code",
      "metadata": {
        "id": "JVNW5mZUtYg6",
        "colab_type": "code",
        "colab": {
          "base_uri": "https://localhost:8080/",
          "height": 34
        },
        "outputId": "e90f5d64-1807-4f79-94f5-89aa5091fbed"
      },
      "source": [
        "# column to be used for predictive model\n",
        "shelter_outcome['Outcome_Type'].describe()\n",
        "shelter_outcome['Outcome_Type'].value_counts(normalize=True)\n",
        "shelter_outcome = shelter_outcome.dropna(subset=['Outcome_Type'])\n",
        "shelter_outcome['Outcome_Type'].isnull().sum()\n",
        "\n",
        "# add a boolean column for True if ADOPTION and False if not for 'Outcome_Type'\n",
        "shelter_outcome['Adopted'] = shelter_outcome['Outcome_Type'] == 'ADOPTION'\n",
        "shelter_outcome['Adopted'].head(5)\n",
        "\n",
        "# target distribution\n",
        "y = shelter_outcome['Adopted']\n",
        "y.value_counts(normalize=True)\n",
        "\n",
        "# data exploration on Intake Type\n",
        "shelter_outcome['Intake_Type'].unique()\n",
        "\n",
        "# high cardinality features\n",
        "shelter_outcome = shelter_outcome.drop(columns=['Name', 'Impound_Number', 'Kennel_Number',\n",
        "                                                'Animal_ID', 'Color', 'Location'])\n",
        "\n",
        "# fill missing values\n",
        "shelter_outcome = shelter_outcome.fillna('No Data')\n",
        "\n",
        "# time-based split using 'Intake_Date'\n",
        "# convert to datetime\n",
        "\n",
        "shelter_outcome['Intake_Date'] = pd.to_datetime(shelter_outcome['Intake_Date'])\n",
        "\n",
        "# create 'Intake_Year' column\n",
        "shelter_outcome['Intake_Year'] = shelter_outcome['Intake_Date'].dt.year \n",
        "\n",
        "# split to training: 2013-2015, val: 2016-2018, test: 2019-2020\n",
        "train = shelter_outcome[shelter_outcome['Intake_Year'] <= 2015]\n",
        "val = shelter_outcome[(shelter_outcome['Intake_Year'] >= 2016) & (shelter_outcome['Intake_Year'] >= 2018)]\n",
        "test = shelter_outcome[shelter_outcome['Intake_Year'] >=2019]\n",
        "\n",
        "# shape of dataframes\n",
        "train.shape, val.shape, test.shape"
      ],
      "execution_count": 6,
      "outputs": [
        {
          "output_type": "execute_result",
          "data": {
            "text/plain": [
              "((4358, 20), (4436, 20), (2296, 20))"
            ]
          },
          "metadata": {
            "tags": []
          },
          "execution_count": 6
        }
      ]
    },
    {
      "cell_type": "code",
      "metadata": {
        "id": "5xRyNKDXv0SV",
        "colab_type": "code",
        "colab": {
          "base_uri": "https://localhost:8080/",
          "height": 292
        },
        "outputId": "677487db-227b-4099-ff58-c7ef9dc1da4b"
      },
      "source": [
        "%pip install --upgrade category_encoders"
      ],
      "execution_count": 8,
      "outputs": [
        {
          "output_type": "stream",
          "text": [
            "Collecting category_encoders\n",
            "\u001b[?25l  Downloading https://files.pythonhosted.org/packages/44/57/fcef41c248701ee62e8325026b90c432adea35555cbc870aff9cfba23727/category_encoders-2.2.2-py2.py3-none-any.whl (80kB)\n",
            "\r\u001b[K     |████                            | 10kB 18.4MB/s eta 0:00:01\r\u001b[K     |████████▏                       | 20kB 4.8MB/s eta 0:00:01\r\u001b[K     |████████████▏                   | 30kB 6.1MB/s eta 0:00:01\r\u001b[K     |████████████████▎               | 40kB 6.8MB/s eta 0:00:01\r\u001b[K     |████████████████████▎           | 51kB 6.6MB/s eta 0:00:01\r\u001b[K     |████████████████████████▍       | 61kB 7.4MB/s eta 0:00:01\r\u001b[K     |████████████████████████████▍   | 71kB 7.5MB/s eta 0:00:01\r\u001b[K     |████████████████████████████████| 81kB 4.0MB/s \n",
            "\u001b[?25hRequirement already satisfied, skipping upgrade: numpy>=1.14.0 in /usr/local/lib/python3.6/dist-packages (from category_encoders) (1.18.5)\n",
            "Requirement already satisfied, skipping upgrade: scikit-learn>=0.20.0 in /usr/local/lib/python3.6/dist-packages (from category_encoders) (0.22.2.post1)\n",
            "Requirement already satisfied, skipping upgrade: pandas>=0.21.1 in /usr/local/lib/python3.6/dist-packages (from category_encoders) (1.0.5)\n",
            "Requirement already satisfied, skipping upgrade: patsy>=0.5.1 in /usr/local/lib/python3.6/dist-packages (from category_encoders) (0.5.1)\n",
            "Requirement already satisfied, skipping upgrade: scipy>=1.0.0 in /usr/local/lib/python3.6/dist-packages (from category_encoders) (1.4.1)\n",
            "Requirement already satisfied, skipping upgrade: statsmodels>=0.9.0 in /usr/local/lib/python3.6/dist-packages (from category_encoders) (0.10.2)\n",
            "Requirement already satisfied, skipping upgrade: joblib>=0.11 in /usr/local/lib/python3.6/dist-packages (from scikit-learn>=0.20.0->category_encoders) (0.16.0)\n",
            "Requirement already satisfied, skipping upgrade: pytz>=2017.2 in /usr/local/lib/python3.6/dist-packages (from pandas>=0.21.1->category_encoders) (2018.9)\n",
            "Requirement already satisfied, skipping upgrade: python-dateutil>=2.6.1 in /usr/local/lib/python3.6/dist-packages (from pandas>=0.21.1->category_encoders) (2.8.1)\n",
            "Requirement already satisfied, skipping upgrade: six in /usr/local/lib/python3.6/dist-packages (from patsy>=0.5.1->category_encoders) (1.15.0)\n",
            "Installing collected packages: category-encoders\n",
            "Successfully installed category-encoders-2.2.2\n"
          ],
          "name": "stdout"
        }
      ]
    },
    {
      "cell_type": "code",
      "metadata": {
        "id": "2nZC4jszv4a3",
        "colab_type": "code",
        "colab": {
          "base_uri": "https://localhost:8080/",
          "height": 88
        },
        "outputId": "26a4a7f7-aca4-40ec-a613-27189e6893ed"
      },
      "source": [
        "# evaluation metric = accuracy\n",
        "\n",
        "import category_encoders as ce\n",
        "from sklearn.pipeline import make_pipeline\n",
        "from sklearn.tree import DecisionTreeClassifier\n",
        "\n",
        "# target\n",
        "target = 'Adopted'\n",
        "\n",
        "# set features\n",
        "features = train.columns.drop([target, 'Intake_Date', 'Intake_Year', 'Outcome_Type'])\n",
        "\n",
        "# define X_train, y_train, X_val, and y_val\n",
        "X_train = train[features]\n",
        "y_train = train[target]\n",
        "X_val = val[features]\n",
        "y_val = val[target]\n",
        "\n",
        "# define pipeline\n",
        "pipeline = make_pipeline(\n",
        "    ce.OrdinalEncoder(),\n",
        "    DecisionTreeClassifier(max_depth=3)\n",
        ")\n",
        "\n",
        "# run pipeline on training\n",
        "pipeline.fit(X_train, y_train)\n",
        "\n",
        "# print validation accuracy\n",
        "print('Accuracy', pipeline.score(X_val, y_val))"
      ],
      "execution_count": 9,
      "outputs": [
        {
          "output_type": "stream",
          "text": [
            "/usr/local/lib/python3.6/dist-packages/statsmodels/tools/_testing.py:19: FutureWarning: pandas.util.testing is deprecated. Use the functions in the public API at pandas.testing instead.\n",
            "  import pandas.util.testing as tm\n"
          ],
          "name": "stderr"
        },
        {
          "output_type": "stream",
          "text": [
            "Accuracy 0.8239404869251578\n"
          ],
          "name": "stdout"
        }
      ]
    },
    {
      "cell_type": "code",
      "metadata": {
        "id": "UFPJOAYIv4mV",
        "colab_type": "code",
        "colab": {
          "base_uri": "https://localhost:8080/",
          "height": 518
        },
        "outputId": "d77c077a-ef5c-4fe2-b6f8-20186b18502f"
      },
      "source": [
        "# visualize decision tree\n",
        "import graphviz\n",
        "from sklearn.tree import export_graphviz\n",
        "\n",
        "tree = pipeline.named_steps['decisiontreeclassifier']\n",
        "\n",
        "dot_data = export_graphviz(\n",
        "    tree,\n",
        "    out_file=None,\n",
        "    feature_names=X_train.columns,\n",
        "    class_names=y_train.unique().astype(str),\n",
        "    filled=True,\n",
        "    impurity=False,\n",
        "    proportion=True\n",
        ")\n",
        "\n",
        "graphviz.Source(dot_data)"
      ],
      "execution_count": 10,
      "outputs": [
        {
          "output_type": "execute_result",
          "data": {
            "text/plain": [
              "<graphviz.files.Source at 0x7f24d025aef0>"
            ],
            "image/svg+xml": "<?xml version=\"1.0\" encoding=\"UTF-8\" standalone=\"no\"?>\n<!DOCTYPE svg PUBLIC \"-//W3C//DTD SVG 1.1//EN\"\n \"http://www.w3.org/Graphics/SVG/1.1/DTD/svg11.dtd\">\n<!-- Generated by graphviz version 2.40.1 (20161225.0304)\n -->\n<!-- Title: Tree Pages: 1 -->\n<svg width=\"468pt\" height=\"373pt\"\n viewBox=\"0.00 0.00 468.00 373.00\" xmlns=\"http://www.w3.org/2000/svg\" xmlns:xlink=\"http://www.w3.org/1999/xlink\">\n<g id=\"graph0\" class=\"graph\" transform=\"scale(1 1) rotate(0) translate(4 369)\">\n<title>Tree</title>\n<polygon fill=\"#ffffff\" stroke=\"transparent\" points=\"-4,4 -4,-369 464,-369 464,4 -4,4\"/>\n<!-- 0 -->\n<g id=\"node1\" class=\"node\">\n<title>0</title>\n<polygon fill=\"#d6ebfa\" stroke=\"#000000\" points=\"224,-365 57,-365 57,-297 224,-297 224,-365\"/>\n<text text-anchor=\"middle\" x=\"140.5\" y=\"-349.8\" font-family=\"Times,serif\" font-size=\"14.00\" fill=\"#000000\">Outcome_Subtype &lt;= 5.5</text>\n<text text-anchor=\"middle\" x=\"140.5\" y=\"-334.8\" font-family=\"Times,serif\" font-size=\"14.00\" fill=\"#000000\">samples = 100.0%</text>\n<text text-anchor=\"middle\" x=\"140.5\" y=\"-319.8\" font-family=\"Times,serif\" font-size=\"14.00\" fill=\"#000000\">value = [0.442, 0.558]</text>\n<text text-anchor=\"middle\" x=\"140.5\" y=\"-304.8\" font-family=\"Times,serif\" font-size=\"14.00\" fill=\"#000000\">class = False</text>\n</g>\n<!-- 1 -->\n<g id=\"node2\" class=\"node\">\n<title>1</title>\n<polygon fill=\"#399de5\" stroke=\"#000000\" points=\"117,-253.5 0,-253.5 0,-200.5 117,-200.5 117,-253.5\"/>\n<text text-anchor=\"middle\" x=\"58.5\" y=\"-238.3\" font-family=\"Times,serif\" font-size=\"14.00\" fill=\"#000000\">samples = 48.8%</text>\n<text text-anchor=\"middle\" x=\"58.5\" y=\"-223.3\" font-family=\"Times,serif\" font-size=\"14.00\" fill=\"#000000\">value = [0.0, 1.0]</text>\n<text text-anchor=\"middle\" x=\"58.5\" y=\"-208.3\" font-family=\"Times,serif\" font-size=\"14.00\" fill=\"#000000\">class = False</text>\n</g>\n<!-- 0&#45;&gt;1 -->\n<g id=\"edge1\" class=\"edge\">\n<title>0&#45;&gt;1</title>\n<path fill=\"none\" stroke=\"#000000\" d=\"M113.6501,-296.9465C104.7048,-285.6012 94.7351,-272.9567 85.759,-261.5724\"/>\n<polygon fill=\"#000000\" stroke=\"#000000\" points=\"88.3675,-259.2278 79.4275,-253.5422 82.8706,-263.5619 88.3675,-259.2278\"/>\n<text text-anchor=\"middle\" x=\"76.491\" y=\"-274.6691\" font-family=\"Times,serif\" font-size=\"14.00\" fill=\"#000000\">True</text>\n</g>\n<!-- 2 -->\n<g id=\"node3\" class=\"node\">\n<title>2</title>\n<polygon fill=\"#e99558\" stroke=\"#000000\" points=\"310,-261 135,-261 135,-193 310,-193 310,-261\"/>\n<text text-anchor=\"middle\" x=\"222.5\" y=\"-245.8\" font-family=\"Times,serif\" font-size=\"14.00\" fill=\"#000000\">Outcome_Subtype &lt;= 17.5</text>\n<text text-anchor=\"middle\" x=\"222.5\" y=\"-230.8\" font-family=\"Times,serif\" font-size=\"14.00\" fill=\"#000000\">samples = 51.2%</text>\n<text text-anchor=\"middle\" x=\"222.5\" y=\"-215.8\" font-family=\"Times,serif\" font-size=\"14.00\" fill=\"#000000\">value = [0.863, 0.137]</text>\n<text text-anchor=\"middle\" x=\"222.5\" y=\"-200.8\" font-family=\"Times,serif\" font-size=\"14.00\" fill=\"#000000\">class = True</text>\n</g>\n<!-- 0&#45;&gt;2 -->\n<g id=\"edge2\" class=\"edge\">\n<title>0&#45;&gt;2</title>\n<path fill=\"none\" stroke=\"#000000\" d=\"M167.3499,-296.9465C174.3583,-288.0578 181.9955,-278.3716 189.291,-269.1188\"/>\n<polygon fill=\"#000000\" stroke=\"#000000\" points=\"192.1467,-271.1498 195.5898,-261.13 186.6498,-266.8157 192.1467,-271.1498\"/>\n<text text-anchor=\"middle\" x=\"198.5263\" y=\"-282.2569\" font-family=\"Times,serif\" font-size=\"14.00\" fill=\"#000000\">False</text>\n</g>\n<!-- 3 -->\n<g id=\"node4\" class=\"node\">\n<title>3</title>\n<polygon fill=\"#e58139\" stroke=\"#000000\" points=\"199,-149.5 82,-149.5 82,-96.5 199,-96.5 199,-149.5\"/>\n<text text-anchor=\"middle\" x=\"140.5\" y=\"-134.3\" font-family=\"Times,serif\" font-size=\"14.00\" fill=\"#000000\">samples = 31.1%</text>\n<text text-anchor=\"middle\" x=\"140.5\" y=\"-119.3\" font-family=\"Times,serif\" font-size=\"14.00\" fill=\"#000000\">value = [1.0, 0.0]</text>\n<text text-anchor=\"middle\" x=\"140.5\" y=\"-104.3\" font-family=\"Times,serif\" font-size=\"14.00\" fill=\"#000000\">class = True</text>\n</g>\n<!-- 2&#45;&gt;3 -->\n<g id=\"edge3\" class=\"edge\">\n<title>2&#45;&gt;3</title>\n<path fill=\"none\" stroke=\"#000000\" d=\"M195.6501,-192.9465C186.7048,-181.6012 176.7351,-168.9567 167.759,-157.5724\"/>\n<polygon fill=\"#000000\" stroke=\"#000000\" points=\"170.3675,-155.2278 161.4275,-149.5422 164.8706,-159.5619 170.3675,-155.2278\"/>\n</g>\n<!-- 4 -->\n<g id=\"node5\" class=\"node\">\n<title>4</title>\n<polygon fill=\"#f3c4a3\" stroke=\"#000000\" points=\"392,-157 217,-157 217,-89 392,-89 392,-157\"/>\n<text text-anchor=\"middle\" x=\"304.5\" y=\"-141.8\" font-family=\"Times,serif\" font-size=\"14.00\" fill=\"#000000\">Outcome_Subtype &lt;= 31.5</text>\n<text text-anchor=\"middle\" x=\"304.5\" y=\"-126.8\" font-family=\"Times,serif\" font-size=\"14.00\" fill=\"#000000\">samples = 20.1%</text>\n<text text-anchor=\"middle\" x=\"304.5\" y=\"-111.8\" font-family=\"Times,serif\" font-size=\"14.00\" fill=\"#000000\">value = [0.652, 0.348]</text>\n<text text-anchor=\"middle\" x=\"304.5\" y=\"-96.8\" font-family=\"Times,serif\" font-size=\"14.00\" fill=\"#000000\">class = True</text>\n</g>\n<!-- 2&#45;&gt;4 -->\n<g id=\"edge4\" class=\"edge\">\n<title>2&#45;&gt;4</title>\n<path fill=\"none\" stroke=\"#000000\" d=\"M249.3499,-192.9465C256.3583,-184.0578 263.9955,-174.3716 271.291,-165.1188\"/>\n<polygon fill=\"#000000\" stroke=\"#000000\" points=\"274.1467,-167.1498 277.5898,-157.13 268.6498,-162.8157 274.1467,-167.1498\"/>\n</g>\n<!-- 5 -->\n<g id=\"node6\" class=\"node\">\n<title>5</title>\n<polygon fill=\"#cde6f8\" stroke=\"#000000\" points=\"295,-53 148,-53 148,0 295,0 295,-53\"/>\n<text text-anchor=\"middle\" x=\"221.5\" y=\"-37.8\" font-family=\"Times,serif\" font-size=\"14.00\" fill=\"#000000\">samples = 11.9%</text>\n<text text-anchor=\"middle\" x=\"221.5\" y=\"-22.8\" font-family=\"Times,serif\" font-size=\"14.00\" fill=\"#000000\">value = [0.427, 0.573]</text>\n<text text-anchor=\"middle\" x=\"221.5\" y=\"-7.8\" font-family=\"Times,serif\" font-size=\"14.00\" fill=\"#000000\">class = False</text>\n</g>\n<!-- 4&#45;&gt;5 -->\n<g id=\"edge5\" class=\"edge\">\n<title>4&#45;&gt;5</title>\n<path fill=\"none\" stroke=\"#000000\" d=\"M275.2373,-88.9777C267.4401,-79.9123 259.01,-70.111 251.1901,-61.0192\"/>\n<polygon fill=\"#000000\" stroke=\"#000000\" points=\"253.6809,-58.5477 244.5065,-53.2485 248.3738,-63.1123 253.6809,-58.5477\"/>\n</g>\n<!-- 6 -->\n<g id=\"node7\" class=\"node\">\n<title>6</title>\n<polygon fill=\"#e6843e\" stroke=\"#000000\" points=\"460,-53 313,-53 313,0 460,0 460,-53\"/>\n<text text-anchor=\"middle\" x=\"386.5\" y=\"-37.8\" font-family=\"Times,serif\" font-size=\"14.00\" fill=\"#000000\">samples = 8.2%</text>\n<text text-anchor=\"middle\" x=\"386.5\" y=\"-22.8\" font-family=\"Times,serif\" font-size=\"14.00\" fill=\"#000000\">value = [0.975, 0.025]</text>\n<text text-anchor=\"middle\" x=\"386.5\" y=\"-7.8\" font-family=\"Times,serif\" font-size=\"14.00\" fill=\"#000000\">class = True</text>\n</g>\n<!-- 4&#45;&gt;6 -->\n<g id=\"edge6\" class=\"edge\">\n<title>4&#45;&gt;6</title>\n<path fill=\"none\" stroke=\"#000000\" d=\"M333.4101,-88.9777C341.1134,-79.9123 349.4419,-70.111 357.1676,-61.0192\"/>\n<polygon fill=\"#000000\" stroke=\"#000000\" points=\"359.9625,-63.1352 363.7707,-53.2485 354.6282,-58.6025 359.9625,-63.1352\"/>\n</g>\n</g>\n</svg>\n"
          },
          "metadata": {
            "tags": []
          },
          "execution_count": 10
        }
      ]
    },
    {
      "cell_type": "code",
      "metadata": {
        "id": "GxBPdMg6v4uD",
        "colab_type": "code",
        "colab": {
          "base_uri": "https://localhost:8080/",
          "height": 68
        },
        "outputId": "bc17c622-df7c-4995-cb37-982745c22976"
      },
      "source": [
        "# distribution of classes\n",
        "y.value_counts(normalize=True)"
      ],
      "execution_count": 11,
      "outputs": [
        {
          "output_type": "execute_result",
          "data": {
            "text/plain": [
              "False    0.516179\n",
              "True     0.483821\n",
              "Name: Adopted, dtype: float64"
            ]
          },
          "metadata": {
            "tags": []
          },
          "execution_count": 11
        }
      ]
    },
    {
      "cell_type": "code",
      "metadata": {
        "id": "jLiscsJTv41K",
        "colab_type": "code",
        "colab": {
          "base_uri": "https://localhost:8080/",
          "height": 34
        },
        "outputId": "9443049d-8e3d-42ad-fa5a-64f4b278a25c"
      },
      "source": [
        "# calculate ROC AUC with sklearn\n",
        "from sklearn.metrics import roc_auc_score\n",
        "\n",
        "# predicted probabilities\n",
        "y_pred_proba = pipeline.predict_proba(X_val)[:, -1]\n",
        "\n",
        "# calculate AUC\n",
        "auc = roc_auc_score(y_val, y_pred_proba)\n",
        "\n",
        "auc"
      ],
      "execution_count": 12,
      "outputs": [
        {
          "output_type": "execute_result",
          "data": {
            "text/plain": [
              "0.8907707980455293"
            ]
          },
          "metadata": {
            "tags": []
          },
          "execution_count": 12
        }
      ]
    },
    {
      "cell_type": "code",
      "metadata": {
        "id": "cPMbKPGvv46c",
        "colab_type": "code",
        "colab": {
          "base_uri": "https://localhost:8080/",
          "height": 204
        },
        "outputId": "1a2949cc-9af0-4277-cfbc-02533f231239"
      },
      "source": [
        "# calculate True Positive Rate (TPR) & False Positive Rate (FPR) at various thresholds\n",
        "from sklearn.metrics import roc_curve\n",
        "\n",
        "fpr, tpr, thresholds = roc_curve(y_val, y_pred_proba)\n",
        "\n",
        "# table results\n",
        "pd.DataFrame({\n",
        "    'False Positive Rate': fpr,\n",
        "    'True Positive Rate': tpr,\n",
        "    'Threshold': thresholds\n",
        "})"
      ],
      "execution_count": 13,
      "outputs": [
        {
          "output_type": "execute_result",
          "data": {
            "text/html": [
              "<div>\n",
              "<style scoped>\n",
              "    .dataframe tbody tr th:only-of-type {\n",
              "        vertical-align: middle;\n",
              "    }\n",
              "\n",
              "    .dataframe tbody tr th {\n",
              "        vertical-align: top;\n",
              "    }\n",
              "\n",
              "    .dataframe thead th {\n",
              "        text-align: right;\n",
              "    }\n",
              "</style>\n",
              "<table border=\"1\" class=\"dataframe\">\n",
              "  <thead>\n",
              "    <tr style=\"text-align: right;\">\n",
              "      <th></th>\n",
              "      <th>False Positive Rate</th>\n",
              "      <th>True Positive Rate</th>\n",
              "      <th>Threshold</th>\n",
              "    </tr>\n",
              "  </thead>\n",
              "  <tbody>\n",
              "    <tr>\n",
              "      <th>0</th>\n",
              "      <td>0.000000</td>\n",
              "      <td>0.000000</td>\n",
              "      <td>2.000000</td>\n",
              "    </tr>\n",
              "    <tr>\n",
              "      <th>1</th>\n",
              "      <td>0.196908</td>\n",
              "      <td>0.927283</td>\n",
              "      <td>1.000000</td>\n",
              "    </tr>\n",
              "    <tr>\n",
              "      <th>2</th>\n",
              "      <td>0.285609</td>\n",
              "      <td>0.997091</td>\n",
              "      <td>0.572534</td>\n",
              "    </tr>\n",
              "    <tr>\n",
              "      <th>3</th>\n",
              "      <td>0.465587</td>\n",
              "      <td>1.000000</td>\n",
              "      <td>0.025070</td>\n",
              "    </tr>\n",
              "    <tr>\n",
              "      <th>4</th>\n",
              "      <td>1.000000</td>\n",
              "      <td>1.000000</td>\n",
              "      <td>0.000000</td>\n",
              "    </tr>\n",
              "  </tbody>\n",
              "</table>\n",
              "</div>"
            ],
            "text/plain": [
              "   False Positive Rate  True Positive Rate  Threshold\n",
              "0             0.000000            0.000000   2.000000\n",
              "1             0.196908            0.927283   1.000000\n",
              "2             0.285609            0.997091   0.572534\n",
              "3             0.465587            1.000000   0.025070\n",
              "4             1.000000            1.000000   0.000000"
            ]
          },
          "metadata": {
            "tags": []
          },
          "execution_count": 13
        }
      ]
    },
    {
      "cell_type": "code",
      "metadata": {
        "id": "lRDdYT452RzK",
        "colab_type": "code",
        "colab": {
          "base_uri": "https://localhost:8080/",
          "height": 295
        },
        "outputId": "a0c71641-c2b6-43e1-f475-df7163665e73"
      },
      "source": [
        "# plot results (ROC Curve)\n",
        "import matplotlib.pyplot as plt\n",
        "plt.scatter(fpr, tpr)\n",
        "plt.plot(fpr, tpr)\n",
        "plt.title('ROC curve')\n",
        "plt.xlabel('False Positive Rate')\n",
        "plt.ylabel('True Positive Rate');"
      ],
      "execution_count": 14,
      "outputs": [
        {
          "output_type": "display_data",
          "data": {
            "image/png": "[encoded data removed]",
            "text/plain": [
              "<Figure size 432x288 with 1 Axes>"
            ]
          },
          "metadata": {
            "tags": [],
            "needs_background": "light"
          }
        }
      ]
    },
    {
      "cell_type": "code",
      "metadata": {
        "id": "Sczmy9v7sBx6",
        "colab_type": "code",
        "colab": {}
      },
      "source": [
        "# Keep just the subset of data for the Tribeca neighborhood\n",
        "# Check how many rows you have now. (Should go down from > 20k rows to 146)\n"
      ],
      "execution_count": null,
      "outputs": []
    },
    {
      "cell_type": "code",
      "metadata": {
        "id": "9_DgiQ4isByC",
        "colab_type": "code",
        "colab": {}
      },
      "source": [
        "# Q. What's the date range of these property sales in Tribeca?\n"
      ],
      "execution_count": null,
      "outputs": []
    },
    {
      "cell_type": "code",
      "metadata": {
        "id": "ivOL5_4dsByF",
        "colab_type": "code",
        "colab": {}
      },
      "source": [
        "# The Pandas Profiling Report showed that SALE_PRICE was read as strings\n",
        "# Convert it to integers\n"
      ],
      "execution_count": null,
      "outputs": []
    },
    {
      "cell_type": "code",
      "metadata": {
        "id": "1KUmN4IRsByI",
        "colab_type": "code",
        "colab": {}
      },
      "source": [
        "# Q. What is the maximum SALE_PRICE in this dataset?\n"
      ],
      "execution_count": null,
      "outputs": []
    },
    {
      "cell_type": "code",
      "metadata": {
        "id": "MP3mMi9AsByK",
        "colab_type": "code",
        "colab": {}
      },
      "source": [
        "# Look at the row with the max SALE_PRICE\n"
      ],
      "execution_count": null,
      "outputs": []
    },
    {
      "cell_type": "code",
      "metadata": {
        "id": "U4E0Wk6nsByN",
        "colab_type": "code",
        "colab": {}
      },
      "source": [
        "# Get value counts of TOTAL_UNITS\n",
        "# Q. How many property sales were for multiple units?\n"
      ],
      "execution_count": null,
      "outputs": []
    },
    {
      "cell_type": "code",
      "metadata": {
        "id": "nfyQO7VssByP",
        "colab_type": "code",
        "colab": {}
      },
      "source": [
        "# Keep only the single units\n"
      ],
      "execution_count": null,
      "outputs": []
    },
    {
      "cell_type": "code",
      "metadata": {
        "id": "4qy6R38ssByc",
        "colab_type": "code",
        "colab": {}
      },
      "source": [
        "# Q. Now what is the max sales price? How many square feet does it have?\n"
      ],
      "execution_count": null,
      "outputs": []
    },
    {
      "cell_type": "code",
      "metadata": {
        "id": "yBh2-0F_sByn",
        "colab_type": "code",
        "colab": {}
      },
      "source": [
        "# Q. How often did $0 sales occur in this subset of the data?\n",
        "\n",
        "# There's a glossary here: \n",
        "# https://www1.nyc.gov/site/finance/taxes/property-rolling-sales-data.page\n",
        "\n",
        "# It says:\n",
        "# A $0 sale indicates that there was a transfer of ownership without a \n",
        "# cash consideration. There can be a number of reasons for a $0 sale including \n",
        "# transfers of ownership from parents to children. \n",
        "\n"
      ],
      "execution_count": null,
      "outputs": []
    },
    {
      "cell_type": "code",
      "metadata": {
        "id": "jVqBXUlXsByr",
        "colab_type": "code",
        "colab": {}
      },
      "source": [
        "# Look at property sales for > 5,000 square feet\n",
        "# Q. What is the highest square footage you see?\n"
      ],
      "execution_count": null,
      "outputs": []
    },
    {
      "cell_type": "code",
      "metadata": {
        "id": "4kYTPG4TsByt",
        "colab_type": "code",
        "colab": {}
      },
      "source": [
        "# What are the building class categories?\n",
        "# How frequently does each occur?\n"
      ],
      "execution_count": null,
      "outputs": []
    },
    {
      "cell_type": "code",
      "metadata": {
        "id": "E1aZt7EosByy",
        "colab_type": "code",
        "colab": {}
      },
      "source": [
        "# Keep subset of rows:\n",
        "# Sale price more than $0, \n",
        "# Building class category = Condos - Elevator Apartments\n",
        "\n",
        "# Check how many rows you have now. (Should be 106 rows.)\n"
      ],
      "execution_count": null,
      "outputs": []
    },
    {
      "cell_type": "code",
      "metadata": {
        "id": "7nl37_uesBy1",
        "colab_type": "code",
        "colab": {}
      },
      "source": [
        "# Make a Plotly Express scatter plot of GROSS_SQUARE_FEET vs SALE_PRICE\n"
      ],
      "execution_count": null,
      "outputs": []
    },
    {
      "cell_type": "code",
      "metadata": {
        "id": "XOStHMCusBy3",
        "colab_type": "code",
        "colab": {}
      },
      "source": [
        "# Add an OLS (Ordinary Least Squares) trendline,\n",
        "# to see how the outliers influence the \"line of best fit\"\n"
      ],
      "execution_count": null,
      "outputs": []
    },
    {
      "cell_type": "code",
      "metadata": {
        "id": "yf4ev85EsBy6",
        "colab_type": "code",
        "colab": {}
      },
      "source": [
        "# Look at sales for more than $35 million\n",
        "\n",
        "# All are at 70 Vestry Street\n",
        "# All but one have the same SALE_PRICE & SALE_DATE\n",
        "# Was the SALE_PRICE for each? Or in total?\n",
        "# Is this dirty data?\n"
      ],
      "execution_count": null,
      "outputs": []
    },
    {
      "cell_type": "code",
      "metadata": {
        "id": "WnS8QOOpsBy-",
        "colab_type": "code",
        "colab": {}
      },
      "source": [
        "# Make a judgment call:\n",
        "# Keep rows where sale price was < $35 million\n",
        "\n",
        "# Check how many rows you have now. (Should be down to 90 rows.)\n"
      ],
      "execution_count": null,
      "outputs": []
    },
    {
      "cell_type": "code",
      "metadata": {
        "id": "BtyAZx0_sBzH",
        "colab_type": "code",
        "colab": {}
      },
      "source": [
        "# Now that you've removed outliers,\n",
        "# Look again at a scatter plot with OLS (Ordinary Least Squares) trendline\n"
      ],
      "execution_count": null,
      "outputs": []
    },
    {
      "cell_type": "code",
      "metadata": {
        "id": "WjcPDja1sBzJ",
        "colab_type": "code",
        "colab": {}
      },
      "source": [
        "# Select these columns, then write to a csv file named tribeca.csv. Don't include the index.\n"
      ],
      "execution_count": null,
      "outputs": []
    }
  ]
}