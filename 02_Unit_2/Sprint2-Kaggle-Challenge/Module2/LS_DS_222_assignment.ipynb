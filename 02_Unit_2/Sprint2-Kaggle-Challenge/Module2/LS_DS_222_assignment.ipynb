{
  "nbformat": 4,
  "nbformat_minor": 0,
  "metadata": {
    "kernelspec": {
      "display_name": "Python 3",
      "language": "python",
      "name": "python3"
    },
    "language_info": {
      "codemirror_mode": {
        "name": "ipython",
        "version": 3
      },
      "file_extension": ".py",
      "mimetype": "text/x-python",
      "name": "python",
      "nbconvert_exporter": "python",
      "pygments_lexer": "ipython3",
      "version": "3.7.3"
    },
    "colab": {
      "name": "Copy of LS_DS_222_assignment.ipynb",
      "provenance": [],
      "include_colab_link": true
    }
  },
  "cells": [
    {
      "cell_type": "markdown",
      "metadata": {
        "id": "view-in-github",
        "colab_type": "text"
      },
      "source": [
        "<a href=\"https://colab.research.google.com/github/mark-morelos/DS-Unit-2-Kaggle-Challenge/blob/master/Copy_of_LS_DS_222_assignment.ipynb\" target=\"_parent\"><img src=\"https://colab.research.google.com/assets/colab-badge.svg\" alt=\"Open In Colab\"/></a>"
      ]
    },
    {
      "cell_type": "markdown",
      "metadata": {
        "id": "1gJkD1PEkwDG",
        "colab_type": "text"
      },
      "source": [
        "Lambda School Data Science\n",
        "\n",
        "*Unit 2, Sprint 2, Module 2*\n",
        "\n",
        "---"
      ]
    },
    {
      "cell_type": "markdown",
      "metadata": {
        "colab_type": "text",
        "id": "7IXUfiQ2UKj6"
      },
      "source": [
        "# Random Forests\n",
        "\n",
        "## Assignment\n",
        "- [ ] Read [“Adopting a Hypothesis-Driven Workflow”](http://archive.is/Nu3EI), a blog post by a Lambda DS student about the Tanzania Waterpumps challenge.\n",
        "- [ ] Continue to participate in our Kaggle challenge.\n",
        "- [ ] Define a function to wrangle train, validate, and test sets in the same way. Clean outliers and engineer features.\n",
        "- [ ] Try Ordinal Encoding.\n",
        "- [ ] Try a Random Forest Classifier.\n",
        "- [ ] Submit your predictions to our Kaggle competition. (Go to our Kaggle InClass competition webpage. Use the blue **Submit Predictions** button to upload your CSV file. Or you can use the Kaggle API to submit your predictions.)\n",
        "- [ ] Commit your notebook to your fork of the GitHub repo.\n",
        "\n",
        "## Stretch Goals\n",
        "\n",
        "### Doing\n",
        "- [ ] Add your own stretch goal(s) !\n",
        "- [ ] Do more exploratory data analysis, data cleaning, feature engineering, and feature selection.\n",
        "- [ ] Try other [categorical encodings](https://contrib.scikit-learn.org/category_encoders/).\n",
        "- [ ] Get and plot your feature importances.\n",
        "- [ ] Make visualizations and share on Slack.\n",
        "\n",
        "### Reading\n",
        "\n",
        "Top recommendations in _**bold italic:**_\n",
        "\n",
        "#### Decision Trees\n",
        "- A Visual Introduction to Machine Learning, [Part 1: A Decision Tree](http://www.r2d3.us/visual-intro-to-machine-learning-part-1/),  and _**[Part 2: Bias and Variance](http://www.r2d3.us/visual-intro-to-machine-learning-part-2/)**_\n",
        "- [Decision Trees: Advantages & Disadvantages](https://christophm.github.io/interpretable-ml-book/tree.html#advantages-2)\n",
        "- [How a Russian mathematician constructed a decision tree — by hand — to solve a medical problem](http://fastml.com/how-a-russian-mathematician-constructed-a-decision-tree-by-hand-to-solve-a-medical-problem/)\n",
        "- [How decision trees work](https://brohrer.github.io/how_decision_trees_work.html)\n",
        "- [Let’s Write a Decision Tree Classifier from Scratch](https://www.youtube.com/watch?v=LDRbO9a6XPU)\n",
        "\n",
        "#### Random Forests\n",
        "- [_An Introduction to Statistical Learning_](http://www-bcf.usc.edu/~gareth/ISL/), Chapter 8: Tree-Based Methods\n",
        "- [Coloring with Random Forests](http://structuringtheunstructured.blogspot.com/2017/11/coloring-with-random-forests.html)\n",
        "- _**[Random Forests for Complete Beginners: The definitive guide to Random Forests and Decision Trees](https://victorzhou.com/blog/intro-to-random-forests/)**_\n",
        "\n",
        "#### Categorical encoding for trees\n",
        "- [Are categorical variables getting lost in your random forests?](https://roamanalytics.com/2016/10/28/are-categorical-variables-getting-lost-in-your-random-forests/)\n",
        "- [Beyond One-Hot: An Exploration of Categorical Variables](http://www.willmcginnis.com/2015/11/29/beyond-one-hot-an-exploration-of-categorical-variables/)\n",
        "- _**[Categorical Features and Encoding in Decision Trees](https://medium.com/data-design/visiting-categorical-features-and-encoding-in-decision-trees-53400fa65931)**_\n",
        "- _**[Coursera — How to Win a Data Science Competition: Learn from Top Kagglers — Concept of mean encoding](https://www.coursera.org/lecture/competitive-data-science/concept-of-mean-encoding-b5Gxv)**_\n",
        "- [Mean (likelihood) encodings: a comprehensive study](https://www.kaggle.com/vprokopev/mean-likelihood-encodings-a-comprehensive-study)\n",
        "- [The Mechanics of Machine Learning, Chapter 6: Categorically Speaking](https://mlbook.explained.ai/catvars.html)\n",
        "\n",
        "#### Imposter Syndrome\n",
        "- [Effort Shock and Reward Shock (How The Karate Kid Ruined The Modern World)](http://www.tempobook.com/2014/07/09/effort-shock-and-reward-shock/)\n",
        "- [How to manage impostor syndrome in data science](https://towardsdatascience.com/how-to-manage-impostor-syndrome-in-data-science-ad814809f068)\n",
        "- [\"I am not a real data scientist\"](https://brohrer.github.io/imposter_syndrome.html)\n",
        "- _**[Imposter Syndrome in Data Science](https://caitlinhudon.com/2018/01/19/imposter-syndrome-in-data-science/)**_\n",
        "\n",
        "\n",
        "### More Categorical Encodings\n",
        "\n",
        "**1.** The article **[Categorical Features and Encoding in Decision Trees](https://medium.com/data-design/visiting-categorical-features-and-encoding-in-decision-trees-53400fa65931)** mentions 4 encodings:\n",
        "\n",
        "- **\"Categorical Encoding\":** This means using the raw categorical values as-is, not encoded. Scikit-learn doesn't support this, but some tree algorithm implementations do. For example, [Catboost](https://catboost.ai/), or R's [rpart](https://cran.r-project.org/web/packages/rpart/index.html) package.\n",
        "- **Numeric Encoding:** Synonymous with Label Encoding, or \"Ordinal\" Encoding with random order. We can use [category_encoders.OrdinalEncoder](https://contrib.scikit-learn.org/category_encoders/ordinal.html).\n",
        "- **One-Hot Encoding:** We can use [category_encoders.OneHotEncoder](https://contrib.scikit-learn.org/category_encoders/onehot.html).\n",
        "- **Binary Encoding:** We can use [category_encoders.BinaryEncoder](https://contrib.scikit-learn.org/category_encoders/binary.html).\n",
        "\n",
        "\n",
        "**2.** The short video \n",
        "**[Coursera — How to Win a Data Science Competition: Learn from Top Kagglers — Concept of mean encoding](https://www.coursera.org/lecture/competitive-data-science/concept-of-mean-encoding-b5Gxv)** introduces an interesting idea: use both X _and_ y to encode categoricals.\n",
        "\n",
        "Category Encoders has multiple implementations of this general concept:\n",
        "\n",
        "- [CatBoost Encoder](https://contrib.scikit-learn.org/category_encoders/catboost.html)\n",
        "- [Generalized Linear Mixed Model Encoder](https://contrib.scikit-learn.org/category_encoders/glmm.html)\n",
        "- [James-Stein Encoder](https://contrib.scikit-learn.org/category_encoders/jamesstein.html)\n",
        "- [Leave One Out](https://contrib.scikit-learn.org/category_encoders/leaveoneout.html)\n",
        "- [M-estimate](https://contrib.scikit-learn.org/category_encoders/mestimate.html)\n",
        "- [Target Encoder](https://contrib.scikit-learn.org/category_encoders/targetencoder.html)\n",
        "- [Weight of Evidence](https://contrib.scikit-learn.org/category_encoders/woe.html)\n",
        "\n",
        "Category Encoder's mean encoding implementations work for regression problems or binary classification problems. \n",
        "\n",
        "For multi-class classification problems, you will need to temporarily reformulate it as binary classification. For example:\n",
        "\n",
        "```python\n",
        "encoder = ce.TargetEncoder(min_samples_leaf=..., smoothing=...) # Both parameters > 1 to avoid overfitting\n",
        "X_train_encoded = encoder.fit_transform(X_train, y_train=='functional')\n",
        "X_val_encoded = encoder.transform(X_train, y_val=='functional')\n",
        "```\n",
        "\n",
        "For this reason, mean encoding won't work well within pipelines for multi-class classification problems.\n",
        "\n",
        "**3.** The **[dirty_cat](https://dirty-cat.github.io/stable/)** library has a Target Encoder implementation that works with multi-class classification.\n",
        "\n",
        "```python\n",
        " dirty_cat.TargetEncoder(clf_type='multiclass-clf')\n",
        "```\n",
        "It also implements an interesting idea called [\"Similarity Encoder\" for dirty categories](https://www.slideshare.net/GaelVaroquaux/machine-learning-on-non-curated-data-154905090).\n",
        "\n",
        "However, it seems like dirty_cat doesn't handle missing values or unknown categories as well as category_encoders does. And you may need to use it with one column at a time, instead of with your whole dataframe.\n",
        "\n",
        "**4. [Embeddings](https://www.kaggle.com/colinmorris/embedding-layers)** can work well with sparse / high cardinality categoricals.\n",
        "\n",
        "_**I hope it’s not too frustrating or confusing that there’s not one “canonical” way to encode categoricals. It’s an active area of research and experimentation — maybe you can make your own contributions!**_"
      ]
    },
    {
      "cell_type": "markdown",
      "metadata": {
        "id": "EWkqFuUIkwDI",
        "colab_type": "text"
      },
      "source": [
        "### Setup\n",
        "\n",
        "You can work locally (follow the [local setup instructions](https://lambdaschool.github.io/ds/unit2/local/)) or on Colab (run the code cell below)."
      ]
    },
    {
      "cell_type": "code",
      "metadata": {
        "colab_type": "code",
        "id": "o9eSnDYhUGD7",
        "colab": {}
      },
      "source": [
        "%%capture\n",
        "import sys\n",
        "\n",
        "# If you're on Colab:\n",
        "if 'google.colab' in sys.modules:\n",
        "    DATA_PATH = 'https://raw.githubusercontent.com/LambdaSchool/DS-Unit-2-Kaggle-Challenge/master/data/'\n",
        "    !pip install category_encoders==2.*\n",
        "\n",
        "# If you're working locally:\n",
        "else:\n",
        "    DATA_PATH = '../data/'"
      ],
      "execution_count": 1,
      "outputs": []
    },
    {
      "cell_type": "code",
      "metadata": {
        "colab_type": "code",
        "id": "QJBD4ruICm1m",
        "colab": {
          "base_uri": "https://localhost:8080/",
          "height": 34
        },
        "outputId": "b249ae35-52d4-4591-df58-4a2558fff5ab"
      },
      "source": [
        "import pandas as pd\n",
        "from sklearn.model_selection import train_test_split\n",
        "\n",
        "train = pd.merge(pd.read_csv(DATA_PATH+'waterpumps/train_features.csv'), \n",
        "                 pd.read_csv(DATA_PATH+'waterpumps/train_labels.csv'))\n",
        "test = pd.read_csv(DATA_PATH+'waterpumps/test_features.csv')\n",
        "sample_submission = pd.read_csv(DATA_PATH+'waterpumps/sample_submission.csv')\n",
        "\n",
        "train.shape, test.shape"
      ],
      "execution_count": 2,
      "outputs": [
        {
          "output_type": "execute_result",
          "data": {
            "text/plain": [
              "((59400, 41), (14358, 40))"
            ]
          },
          "metadata": {
            "tags": []
          },
          "execution_count": 2
        }
      ]
    },
    {
      "cell_type": "code",
      "metadata": {
        "id": "e7AFKTENkwDT",
        "colab_type": "code",
        "colab": {}
      },
      "source": [
        "import numpy as np\n",
        "\n",
        "# split train into train and val\n",
        "train, val = train_test_split(train, train_size=0.80, test_size=0.20,\n",
        "                              stratify=train['status_group'], random_state=42)\n",
        "\n",
        "# define function to wrangle train, validate, and test sets in the same way\n",
        "# clean outliers and engineer features\n",
        "def wrangle(X):\n",
        "  \"\"\"Wrangle train, validate, and test sets in the same way\"\"\"\n",
        "\n",
        "  # prevent SettingWithCopyWarning\n",
        "  X = X.copy()\n",
        "\n",
        "  # latitude values near 0 = 0\n",
        "  # remove null island\n",
        "  X['latitude'] = X['latitude'].replace(-2e-08, 0)\n",
        "\n",
        "  # consider 0s at columns that do not belong as null, replace with 0 with null\n",
        "  # impute missing values; crate column for 'missing indicator'\n",
        "  cols_with_zeros = ['longitude', 'latitude', 'construction_year',\n",
        "                     'gps_height', 'population']\n",
        "  for col in cols_with_zeros:\n",
        "    X[col] = X[col].replace(0, np.nan)\n",
        "    X[col + '_MISSING'] =X[col].isnull()\n",
        "  \n",
        "  # drop duplicate columns\n",
        "  duplicates = ['quantity_group', 'payment_type']\n",
        "  X = X.drop(columns=duplicates)\n",
        "\n",
        "  # drop recorded_by (never varies) and id (always varies, random)\n",
        "  unusable_variance = ['recorded_by', 'id']\n",
        "  X = X.drop(columns=unusable_variance)\n",
        "\n",
        "  # convert date_recorded to datetime\n",
        "  X['date_recorded'] = pd.to_datetime(X['date_recorded'], infer_datetime_format=True)\n",
        "\n",
        "  # extract year/month/date from date_recorded, drop date_recorded\n",
        "  X['year_recorded'] = X['date_recorded'].dt.year\n",
        "  X['month_recorded'] = X['date_recorded'].dt.month\n",
        "  X['day_recorded'] = X['date_recorded'].dt.day\n",
        "  X = X.drop(columns='date_recorded')\n",
        "\n",
        "  # engineer feature: difference of construction_year to year_recorded\n",
        "  X['years'] = X['year_recorded'] - X['construction_year']\n",
        "  X['years_MISSING'] = X['years'].isnull()\n",
        "\n",
        "  return X\n",
        "\n",
        "train = wrangle(train)\n",
        "val = wrangle(val)\n",
        "test = wrangle(test)\n"
      ],
      "execution_count": 9,
      "outputs": []
    },
    {
      "cell_type": "code",
      "metadata": {
        "id": "opBJS-Y_oFt8",
        "colab_type": "code",
        "colab": {
          "base_uri": "https://localhost:8080/",
          "height": 343
        },
        "outputId": "60b09ca1-48d8-4118-cd6e-69e6b93b65e7"
      },
      "source": [
        "# check data\n",
        "train.head()"
      ],
      "execution_count": 10,
      "outputs": [
        {
          "output_type": "execute_result",
          "data": {
            "text/html": [
              "<div>\n",
              "<style scoped>\n",
              "    .dataframe tbody tr th:only-of-type {\n",
              "        vertical-align: middle;\n",
              "    }\n",
              "\n",
              "    .dataframe tbody tr th {\n",
              "        vertical-align: top;\n",
              "    }\n",
              "\n",
              "    .dataframe thead th {\n",
              "        text-align: right;\n",
              "    }\n",
              "</style>\n",
              "<table border=\"1\" class=\"dataframe\">\n",
              "  <thead>\n",
              "    <tr style=\"text-align: right;\">\n",
              "      <th></th>\n",
              "      <th>amount_tsh</th>\n",
              "      <th>funder</th>\n",
              "      <th>gps_height</th>\n",
              "      <th>installer</th>\n",
              "      <th>longitude</th>\n",
              "      <th>latitude</th>\n",
              "      <th>wpt_name</th>\n",
              "      <th>num_private</th>\n",
              "      <th>basin</th>\n",
              "      <th>subvillage</th>\n",
              "      <th>region</th>\n",
              "      <th>region_code</th>\n",
              "      <th>district_code</th>\n",
              "      <th>lga</th>\n",
              "      <th>ward</th>\n",
              "      <th>population</th>\n",
              "      <th>public_meeting</th>\n",
              "      <th>scheme_management</th>\n",
              "      <th>scheme_name</th>\n",
              "      <th>permit</th>\n",
              "      <th>construction_year</th>\n",
              "      <th>extraction_type</th>\n",
              "      <th>extraction_type_group</th>\n",
              "      <th>extraction_type_class</th>\n",
              "      <th>management</th>\n",
              "      <th>management_group</th>\n",
              "      <th>payment</th>\n",
              "      <th>water_quality</th>\n",
              "      <th>quality_group</th>\n",
              "      <th>quantity</th>\n",
              "      <th>source</th>\n",
              "      <th>source_type</th>\n",
              "      <th>source_class</th>\n",
              "      <th>waterpoint_type</th>\n",
              "      <th>waterpoint_type_group</th>\n",
              "      <th>status_group</th>\n",
              "      <th>longitude_MISSING</th>\n",
              "      <th>latitude_MISSING</th>\n",
              "      <th>construction_year_MISSING</th>\n",
              "      <th>gps_height_MISSING</th>\n",
              "      <th>population_MISSING</th>\n",
              "      <th>year_recorded</th>\n",
              "      <th>month_recorded</th>\n",
              "      <th>day_recorded</th>\n",
              "      <th>years</th>\n",
              "      <th>years_MISSING</th>\n",
              "    </tr>\n",
              "  </thead>\n",
              "  <tbody>\n",
              "    <tr>\n",
              "      <th>4057</th>\n",
              "      <td>0.0</td>\n",
              "      <td>Government Of Tanzania</td>\n",
              "      <td>44.0</td>\n",
              "      <td>DWE</td>\n",
              "      <td>39.055884</td>\n",
              "      <td>-5.022311</td>\n",
              "      <td>Kwa Kombo</td>\n",
              "      <td>0</td>\n",
              "      <td>Pangani</td>\n",
              "      <td>Maguzoni</td>\n",
              "      <td>Tanga</td>\n",
              "      <td>4</td>\n",
              "      <td>4</td>\n",
              "      <td>Tanga</td>\n",
              "      <td>Mabokweni</td>\n",
              "      <td>1.0</td>\n",
              "      <td>True</td>\n",
              "      <td>VWC</td>\n",
              "      <td>Shallow well</td>\n",
              "      <td>True</td>\n",
              "      <td>1985.0</td>\n",
              "      <td>other</td>\n",
              "      <td>other</td>\n",
              "      <td>other</td>\n",
              "      <td>vwc</td>\n",
              "      <td>user-group</td>\n",
              "      <td>never pay</td>\n",
              "      <td>soft</td>\n",
              "      <td>good</td>\n",
              "      <td>dry</td>\n",
              "      <td>shallow well</td>\n",
              "      <td>shallow well</td>\n",
              "      <td>groundwater</td>\n",
              "      <td>other</td>\n",
              "      <td>other</td>\n",
              "      <td>non functional</td>\n",
              "      <td>False</td>\n",
              "      <td>False</td>\n",
              "      <td>False</td>\n",
              "      <td>False</td>\n",
              "      <td>False</td>\n",
              "      <td>2011</td>\n",
              "      <td>8</td>\n",
              "      <td>4</td>\n",
              "      <td>26.0</td>\n",
              "      <td>False</td>\n",
              "    </tr>\n",
              "    <tr>\n",
              "      <th>57986</th>\n",
              "      <td>300.0</td>\n",
              "      <td>Dwe</td>\n",
              "      <td>-2.0</td>\n",
              "      <td>DWE</td>\n",
              "      <td>38.748649</td>\n",
              "      <td>-7.882062</td>\n",
              "      <td>Ccm</td>\n",
              "      <td>0</td>\n",
              "      <td>Rufiji</td>\n",
              "      <td>Usende</td>\n",
              "      <td>Pwani</td>\n",
              "      <td>60</td>\n",
              "      <td>53</td>\n",
              "      <td>Rufiji</td>\n",
              "      <td>Mkongo</td>\n",
              "      <td>1.0</td>\n",
              "      <td>True</td>\n",
              "      <td>VWC</td>\n",
              "      <td>NaN</td>\n",
              "      <td>True</td>\n",
              "      <td>1974.0</td>\n",
              "      <td>mono</td>\n",
              "      <td>mono</td>\n",
              "      <td>motorpump</td>\n",
              "      <td>vwc</td>\n",
              "      <td>user-group</td>\n",
              "      <td>other</td>\n",
              "      <td>soft</td>\n",
              "      <td>good</td>\n",
              "      <td>insufficient</td>\n",
              "      <td>machine dbh</td>\n",
              "      <td>borehole</td>\n",
              "      <td>groundwater</td>\n",
              "      <td>communal standpipe</td>\n",
              "      <td>communal standpipe</td>\n",
              "      <td>functional</td>\n",
              "      <td>False</td>\n",
              "      <td>False</td>\n",
              "      <td>False</td>\n",
              "      <td>False</td>\n",
              "      <td>False</td>\n",
              "      <td>2011</td>\n",
              "      <td>2</td>\n",
              "      <td>26</td>\n",
              "      <td>37.0</td>\n",
              "      <td>False</td>\n",
              "    </tr>\n",
              "    <tr>\n",
              "      <th>37799</th>\n",
              "      <td>0.0</td>\n",
              "      <td>Government Of Tanzania</td>\n",
              "      <td>1225.0</td>\n",
              "      <td>DWE</td>\n",
              "      <td>37.370730</td>\n",
              "      <td>-3.275877</td>\n",
              "      <td>Kwa Mamtemba</td>\n",
              "      <td>0</td>\n",
              "      <td>Pangani</td>\n",
              "      <td>Pala</td>\n",
              "      <td>Kilimanjaro</td>\n",
              "      <td>3</td>\n",
              "      <td>4</td>\n",
              "      <td>Moshi Rural</td>\n",
              "      <td>Uru Mashariki</td>\n",
              "      <td>20.0</td>\n",
              "      <td>True</td>\n",
              "      <td>VWC</td>\n",
              "      <td>Huru materuni water supply</td>\n",
              "      <td>True</td>\n",
              "      <td>1978.0</td>\n",
              "      <td>gravity</td>\n",
              "      <td>gravity</td>\n",
              "      <td>gravity</td>\n",
              "      <td>vwc</td>\n",
              "      <td>user-group</td>\n",
              "      <td>never pay</td>\n",
              "      <td>soft</td>\n",
              "      <td>good</td>\n",
              "      <td>insufficient</td>\n",
              "      <td>spring</td>\n",
              "      <td>spring</td>\n",
              "      <td>groundwater</td>\n",
              "      <td>communal standpipe</td>\n",
              "      <td>communal standpipe</td>\n",
              "      <td>functional</td>\n",
              "      <td>False</td>\n",
              "      <td>False</td>\n",
              "      <td>False</td>\n",
              "      <td>False</td>\n",
              "      <td>False</td>\n",
              "      <td>2013</td>\n",
              "      <td>3</td>\n",
              "      <td>17</td>\n",
              "      <td>35.0</td>\n",
              "      <td>False</td>\n",
              "    </tr>\n",
              "    <tr>\n",
              "      <th>17041</th>\n",
              "      <td>0.0</td>\n",
              "      <td>Community</td>\n",
              "      <td>2215.0</td>\n",
              "      <td>Community</td>\n",
              "      <td>34.435087</td>\n",
              "      <td>-9.299433</td>\n",
              "      <td>Efrem Mgaya</td>\n",
              "      <td>0</td>\n",
              "      <td>Lake Nyasa</td>\n",
              "      <td>Ihenye</td>\n",
              "      <td>Iringa</td>\n",
              "      <td>11</td>\n",
              "      <td>4</td>\n",
              "      <td>Njombe</td>\n",
              "      <td>Igosi</td>\n",
              "      <td>100.0</td>\n",
              "      <td>True</td>\n",
              "      <td>VWC</td>\n",
              "      <td>Moronga</td>\n",
              "      <td>False</td>\n",
              "      <td>1999.0</td>\n",
              "      <td>gravity</td>\n",
              "      <td>gravity</td>\n",
              "      <td>gravity</td>\n",
              "      <td>vwc</td>\n",
              "      <td>user-group</td>\n",
              "      <td>pay when scheme fails</td>\n",
              "      <td>soft</td>\n",
              "      <td>good</td>\n",
              "      <td>enough</td>\n",
              "      <td>spring</td>\n",
              "      <td>spring</td>\n",
              "      <td>groundwater</td>\n",
              "      <td>communal standpipe</td>\n",
              "      <td>communal standpipe</td>\n",
              "      <td>functional</td>\n",
              "      <td>False</td>\n",
              "      <td>False</td>\n",
              "      <td>False</td>\n",
              "      <td>False</td>\n",
              "      <td>False</td>\n",
              "      <td>2011</td>\n",
              "      <td>11</td>\n",
              "      <td>3</td>\n",
              "      <td>12.0</td>\n",
              "      <td>False</td>\n",
              "    </tr>\n",
              "    <tr>\n",
              "      <th>37939</th>\n",
              "      <td>0.0</td>\n",
              "      <td>Government Of Tanzania</td>\n",
              "      <td>390.0</td>\n",
              "      <td>DWE</td>\n",
              "      <td>38.391985</td>\n",
              "      <td>-4.507072</td>\n",
              "      <td>Kwa Shemganga</td>\n",
              "      <td>0</td>\n",
              "      <td>Pangani</td>\n",
              "      <td>Sakaya</td>\n",
              "      <td>Tanga</td>\n",
              "      <td>4</td>\n",
              "      <td>1</td>\n",
              "      <td>Lushoto</td>\n",
              "      <td>Lunguza</td>\n",
              "      <td>1.0</td>\n",
              "      <td>True</td>\n",
              "      <td>VWC</td>\n",
              "      <td>Mlinga streem</td>\n",
              "      <td>True</td>\n",
              "      <td>1989.0</td>\n",
              "      <td>gravity</td>\n",
              "      <td>gravity</td>\n",
              "      <td>gravity</td>\n",
              "      <td>vwc</td>\n",
              "      <td>user-group</td>\n",
              "      <td>never pay</td>\n",
              "      <td>soft</td>\n",
              "      <td>good</td>\n",
              "      <td>enough</td>\n",
              "      <td>spring</td>\n",
              "      <td>spring</td>\n",
              "      <td>groundwater</td>\n",
              "      <td>communal standpipe</td>\n",
              "      <td>communal standpipe</td>\n",
              "      <td>non functional</td>\n",
              "      <td>False</td>\n",
              "      <td>False</td>\n",
              "      <td>False</td>\n",
              "      <td>False</td>\n",
              "      <td>False</td>\n",
              "      <td>2011</td>\n",
              "      <td>3</td>\n",
              "      <td>6</td>\n",
              "      <td>22.0</td>\n",
              "      <td>False</td>\n",
              "    </tr>\n",
              "  </tbody>\n",
              "</table>\n",
              "</div>"
            ],
            "text/plain": [
              "       amount_tsh                  funder  ...  years years_MISSING\n",
              "4057          0.0  Government Of Tanzania  ...   26.0         False\n",
              "57986       300.0                     Dwe  ...   37.0         False\n",
              "37799         0.0  Government Of Tanzania  ...   35.0         False\n",
              "17041         0.0               Community  ...   12.0         False\n",
              "37939         0.0  Government Of Tanzania  ...   22.0         False\n",
              "\n",
              "[5 rows x 46 columns]"
            ]
          },
          "metadata": {
            "tags": []
          },
          "execution_count": 10
        }
      ]
    },
    {
      "cell_type": "code",
      "metadata": {
        "id": "Hu4pA7WRrNSv",
        "colab_type": "code",
        "colab": {}
      },
      "source": [
        "# The status_group column is the target\n",
        "target = 'status_group'\n",
        "\n",
        "# Get a dataframe with all train columns except the target\n",
        "train_features = train.drop(columns=[target])\n",
        "\n",
        "# Get a list of the numeric features\n",
        "numeric_features = train_features.select_dtypes(include='number').columns.tolist()\n",
        "\n",
        "# Get a series with the cardinality of the nonnumeric features\n",
        "cardinality = train_features.select_dtypes(exclude='number').nunique()\n",
        "\n",
        "# Get a list of all categorical features with cardinality <= 50\n",
        "categorical_features = cardinality[cardinality <= 50].index.tolist()\n",
        "\n",
        "# Combine the lists \n",
        "features = numeric_features + categorical_features"
      ],
      "execution_count": 11,
      "outputs": []
    },
    {
      "cell_type": "code",
      "metadata": {
        "id": "YMqvwa79rcoR",
        "colab_type": "code",
        "colab": {}
      },
      "source": [
        "# Arrange data into X features matrix and y target vector \n",
        "X_train = train[features]\n",
        "y_train = train[target]\n",
        "X_val = val[features]\n",
        "y_val = val[target]\n",
        "X_test = test[features]"
      ],
      "execution_count": 12,
      "outputs": []
    },
    {
      "cell_type": "code",
      "metadata": {
        "id": "0Xam52DKreqY",
        "colab_type": "code",
        "colab": {
          "base_uri": "https://localhost:8080/",
          "height": 34
        },
        "outputId": "360cc1f0-d07f-46a6-e79a-b4b289810d4f"
      },
      "source": [
        "# try Random Forest Classifier\n",
        "\n",
        "import category_encoders as ce\n",
        "from sklearn.ensemble import RandomForestClassifier\n",
        "from sklearn.impute import SimpleImputer\n",
        "from sklearn.pipeline import make_pipeline\n",
        "\n",
        "pipeline = make_pipeline(\n",
        "    ce.OneHotEncoder(use_cat_names=True), \n",
        "    SimpleImputer(strategy='median'), \n",
        "    RandomForestClassifier(random_state=0, n_jobs=-1)\n",
        ")\n",
        "\n",
        "# Fit on train, score on val\n",
        "pipeline.fit(X_train, y_train)\n",
        "print('Validation Accuracy', pipeline.score(X_val, y_val))"
      ],
      "execution_count": 14,
      "outputs": [
        {
          "output_type": "stream",
          "text": [
            "Validation Accuracy 0.788851785255587\n"
          ],
          "name": "stdout"
        }
      ]
    },
    {
      "cell_type": "code",
      "metadata": {
        "id": "L5te4TyDrrd4",
        "colab_type": "code",
        "colab": {
          "base_uri": "https://localhost:8080/",
          "height": 34
        },
        "outputId": "fbb7a582-3666-4ba5-de49-1b5d1873c78b"
      },
      "source": [
        "# rewrite so ALL features are in training set\n",
        "\n",
        "X_train = train.drop(columns=target)\n",
        "y_train = train[target]\n",
        "X_val = val.drop(columns=target)\n",
        "y_val = val[target]\n",
        "X_test = test\n",
        "\n",
        "pipeline = make_pipeline(\n",
        "    ce.OrdinalEncoder(),\n",
        "    SimpleImputer(strategy='median'),\n",
        "    RandomForestClassifier(random_state=0, n_jobs=-1)\n",
        "\n",
        ")\n",
        "\n",
        "# fit on train, score on val\n",
        "pipeline.fit(X_train, y_train)\n",
        "print('Validation Accuracy', pipeline.score(X_val, y_val))"
      ],
      "execution_count": 15,
      "outputs": [
        {
          "output_type": "stream",
          "text": [
            "Validation Accuracy 0.7870536861032623\n"
          ],
          "name": "stdout"
        }
      ]
    },
    {
      "cell_type": "code",
      "metadata": {
        "id": "zXFQ8BwfsBIn",
        "colab_type": "code",
        "colab": {
          "base_uri": "https://localhost:8080/",
          "height": 170
        },
        "outputId": "b085c574-efd4-4703-b3d7-169038791d5e"
      },
      "source": [
        "feature = 'water_quality'\n",
        "\n",
        "X_train[feature].value_counts()"
      ],
      "execution_count": 16,
      "outputs": [
        {
          "output_type": "execute_result",
          "data": {
            "text/plain": [
              "soft                  13332\n",
              "salty                  1253\n",
              "unknown                 488\n",
              "milky                   222\n",
              "coloured                126\n",
              "salty abandoned          82\n",
              "fluoride                 61\n",
              "fluoride abandoned        6\n",
              "Name: water_quality, dtype: int64"
            ]
          },
          "metadata": {
            "tags": []
          },
          "execution_count": 16
        }
      ]
    },
    {
      "cell_type": "code",
      "metadata": {
        "id": "eE8EdaCQsdJ_",
        "colab_type": "code",
        "colab": {
          "base_uri": "https://localhost:8080/",
          "height": 480
        },
        "outputId": "a31a0396-e2fb-4d4d-fc39-14eea3f34b82"
      },
      "source": [
        "import matplotlib.pyplot as plt\n",
        "\n",
        "import seaborn as sns\n",
        "plt.figure(figsize=(16,9))\n",
        "sns.barplot(\n",
        "    x=train[feature],\n",
        "    y=train['status_group']=='functional',\n",
        "    color='blue'\n",
        ");"
      ],
      "execution_count": 18,
      "outputs": [
        {
          "output_type": "display_data",
          "data": {
            "image/png": "[encoded data removed]",
            "text/plain": [
              "<Figure size 1152x648 with 1 Axes>"
            ]
          },
          "metadata": {
            "tags": [],
            "needs_background": "light"
          }
        }
      ]
    },
    {
      "cell_type": "code",
      "metadata": {
        "id": "Swc_UvJHsuEG",
        "colab_type": "code",
        "colab": {
          "base_uri": "https://localhost:8080/",
          "height": 413
        },
        "outputId": "5f86eadd-2101-4c8c-a08c-593dfd9a4a49"
      },
      "source": [
        "# one hot encoding\n",
        "\n",
        "encoder = ce.OneHotEncoder(use_cat_names=True)\n",
        "encoded = encoder.fit_transform(X_train[[feature]])\n",
        "print(f'{len(encoded.columns)} columns')\n",
        "encoded.head(10)"
      ],
      "execution_count": 19,
      "outputs": [
        {
          "output_type": "stream",
          "text": [
            "8 columns\n"
          ],
          "name": "stdout"
        },
        {
          "output_type": "execute_result",
          "data": {
            "text/html": [
              "<div>\n",
              "<style scoped>\n",
              "    .dataframe tbody tr th:only-of-type {\n",
              "        vertical-align: middle;\n",
              "    }\n",
              "\n",
              "    .dataframe tbody tr th {\n",
              "        vertical-align: top;\n",
              "    }\n",
              "\n",
              "    .dataframe thead th {\n",
              "        text-align: right;\n",
              "    }\n",
              "</style>\n",
              "<table border=\"1\" class=\"dataframe\">\n",
              "  <thead>\n",
              "    <tr style=\"text-align: right;\">\n",
              "      <th></th>\n",
              "      <th>water_quality_soft</th>\n",
              "      <th>water_quality_salty</th>\n",
              "      <th>water_quality_coloured</th>\n",
              "      <th>water_quality_unknown</th>\n",
              "      <th>water_quality_salty abandoned</th>\n",
              "      <th>water_quality_milky</th>\n",
              "      <th>water_quality_fluoride</th>\n",
              "      <th>water_quality_fluoride abandoned</th>\n",
              "    </tr>\n",
              "  </thead>\n",
              "  <tbody>\n",
              "    <tr>\n",
              "      <th>4057</th>\n",
              "      <td>1</td>\n",
              "      <td>0</td>\n",
              "      <td>0</td>\n",
              "      <td>0</td>\n",
              "      <td>0</td>\n",
              "      <td>0</td>\n",
              "      <td>0</td>\n",
              "      <td>0</td>\n",
              "    </tr>\n",
              "    <tr>\n",
              "      <th>57986</th>\n",
              "      <td>1</td>\n",
              "      <td>0</td>\n",
              "      <td>0</td>\n",
              "      <td>0</td>\n",
              "      <td>0</td>\n",
              "      <td>0</td>\n",
              "      <td>0</td>\n",
              "      <td>0</td>\n",
              "    </tr>\n",
              "    <tr>\n",
              "      <th>37799</th>\n",
              "      <td>1</td>\n",
              "      <td>0</td>\n",
              "      <td>0</td>\n",
              "      <td>0</td>\n",
              "      <td>0</td>\n",
              "      <td>0</td>\n",
              "      <td>0</td>\n",
              "      <td>0</td>\n",
              "    </tr>\n",
              "    <tr>\n",
              "      <th>17041</th>\n",
              "      <td>1</td>\n",
              "      <td>0</td>\n",
              "      <td>0</td>\n",
              "      <td>0</td>\n",
              "      <td>0</td>\n",
              "      <td>0</td>\n",
              "      <td>0</td>\n",
              "      <td>0</td>\n",
              "    </tr>\n",
              "    <tr>\n",
              "      <th>37939</th>\n",
              "      <td>1</td>\n",
              "      <td>0</td>\n",
              "      <td>0</td>\n",
              "      <td>0</td>\n",
              "      <td>0</td>\n",
              "      <td>0</td>\n",
              "      <td>0</td>\n",
              "      <td>0</td>\n",
              "    </tr>\n",
              "    <tr>\n",
              "      <th>20147</th>\n",
              "      <td>1</td>\n",
              "      <td>0</td>\n",
              "      <td>0</td>\n",
              "      <td>0</td>\n",
              "      <td>0</td>\n",
              "      <td>0</td>\n",
              "      <td>0</td>\n",
              "      <td>0</td>\n",
              "    </tr>\n",
              "    <tr>\n",
              "      <th>58596</th>\n",
              "      <td>1</td>\n",
              "      <td>0</td>\n",
              "      <td>0</td>\n",
              "      <td>0</td>\n",
              "      <td>0</td>\n",
              "      <td>0</td>\n",
              "      <td>0</td>\n",
              "      <td>0</td>\n",
              "    </tr>\n",
              "    <tr>\n",
              "      <th>7094</th>\n",
              "      <td>1</td>\n",
              "      <td>0</td>\n",
              "      <td>0</td>\n",
              "      <td>0</td>\n",
              "      <td>0</td>\n",
              "      <td>0</td>\n",
              "      <td>0</td>\n",
              "      <td>0</td>\n",
              "    </tr>\n",
              "    <tr>\n",
              "      <th>5516</th>\n",
              "      <td>1</td>\n",
              "      <td>0</td>\n",
              "      <td>0</td>\n",
              "      <td>0</td>\n",
              "      <td>0</td>\n",
              "      <td>0</td>\n",
              "      <td>0</td>\n",
              "      <td>0</td>\n",
              "    </tr>\n",
              "    <tr>\n",
              "      <th>35299</th>\n",
              "      <td>1</td>\n",
              "      <td>0</td>\n",
              "      <td>0</td>\n",
              "      <td>0</td>\n",
              "      <td>0</td>\n",
              "      <td>0</td>\n",
              "      <td>0</td>\n",
              "      <td>0</td>\n",
              "    </tr>\n",
              "  </tbody>\n",
              "</table>\n",
              "</div>"
            ],
            "text/plain": [
              "       water_quality_soft  ...  water_quality_fluoride abandoned\n",
              "4057                    1  ...                                 0\n",
              "57986                   1  ...                                 0\n",
              "37799                   1  ...                                 0\n",
              "17041                   1  ...                                 0\n",
              "37939                   1  ...                                 0\n",
              "20147                   1  ...                                 0\n",
              "58596                   1  ...                                 0\n",
              "7094                    1  ...                                 0\n",
              "5516                    1  ...                                 0\n",
              "35299                   1  ...                                 0\n",
              "\n",
              "[10 rows x 8 columns]"
            ]
          },
          "metadata": {
            "tags": []
          },
          "execution_count": 19
        }
      ]
    },
    {
      "cell_type": "code",
      "metadata": {
        "id": "lh41Fv1VtO9z",
        "colab_type": "code",
        "colab": {
          "base_uri": "https://localhost:8080/",
          "height": 34
        },
        "outputId": "9e0c4259-26d6-4776-a966-7cc58eeeb457"
      },
      "source": [
        "# one-hot encoding, logistic regression, validation accuracy\n",
        "from sklearn.linear_model import LogisticRegressionCV\n",
        "from sklearn.preprocessing import StandardScaler\n",
        "\n",
        "lr = make_pipeline(\n",
        "    ce.OneHotEncoder(use_cat_names=True), \n",
        "    SimpleImputer(), \n",
        "    StandardScaler(), \n",
        "    LogisticRegressionCV(multi_class='auto', solver='lbfgs', cv=5, n_jobs=-1)\n",
        ")\n",
        "\n",
        "lr.fit(X_train[[feature]], y_train)\n",
        "score = lr.score(X_val[[feature]], y_val)\n",
        "print('Logistic Regression, Validation Accuracy', score)"
      ],
      "execution_count": 20,
      "outputs": [
        {
          "output_type": "stream",
          "text": [
            "Logistic Regression, Validation Accuracy 0.5720524017467249\n"
          ],
          "name": "stdout"
        }
      ]
    },
    {
      "cell_type": "code",
      "metadata": {
        "id": "XopjZioDtcZ-",
        "colab_type": "code",
        "colab": {
          "base_uri": "https://localhost:8080/",
          "height": 34
        },
        "outputId": "e65859e4-f048-4708-e8b6-2382925ccd3f"
      },
      "source": [
        "# one-hot encoding, decision tree, validation accuracy\n",
        "\n",
        "from sklearn.tree import DecisionTreeClassifier\n",
        "\n",
        "dt = make_pipeline(\n",
        "    ce.OneHotEncoder(use_cat_names=True), \n",
        "    SimpleImputer(), \n",
        "    DecisionTreeClassifier(random_state=42)\n",
        ")\n",
        "\n",
        "dt.fit(X_train[[feature]], y_train)\n",
        "score = dt.score(X_val[[feature]], y_val)\n",
        "print('Decision Tree, Validation Accuracy', score)"
      ],
      "execution_count": 21,
      "outputs": [
        {
          "output_type": "stream",
          "text": [
            "Decision Tree, Validation Accuracy 0.5720524017467249\n"
          ],
          "name": "stdout"
        }
      ]
    },
    {
      "cell_type": "code",
      "metadata": {
        "id": "Ef7d6mOitjUS",
        "colab_type": "code",
        "colab": {
          "base_uri": "https://localhost:8080/",
          "height": 265
        },
        "outputId": "8d1bca2c-ca65-406d-98f4-e45ebe1716c1"
      },
      "source": [
        "# one-hot encoding, logistic regression, model interpretation\n",
        "\n",
        "model = lr.named_steps['logisticregressioncv']\n",
        "encoder = lr.named_steps['onehotencoder']\n",
        "encoded_columns = encoder.transform(X_val[[feature]]).columns\n",
        "coefficients = pd.Series(model.coef_[0], encoded_columns)\n",
        "coefficients.sort_values().plot.barh(color='green');"
      ],
      "execution_count": 22,
      "outputs": [
        {
          "output_type": "display_data",
          "data": {
            "image/png": "[encoded data removed]",
            "text/plain": [
              "<Figure size 432x288 with 1 Axes>"
            ]
          },
          "metadata": {
            "tags": [],
            "needs_background": "light"
          }
        }
      ]
    },
    {
      "cell_type": "code",
      "metadata": {
        "id": "kiJ93rIhtsle",
        "colab_type": "code",
        "colab": {
          "base_uri": "https://localhost:8080/",
          "height": 1000
        },
        "outputId": "79985c45-e38b-43f2-ecc9-e90cb80170e5"
      },
      "source": [
        "# one-hot encoding, decision tree, model interpretation\n",
        "\n",
        "# Plot tree\n",
        "# https://scikit-learn.org/stable/modules/generated/sklearn.tree.export_graphviz.html\n",
        "import graphviz\n",
        "from sklearn.tree import export_graphviz\n",
        "\n",
        "model = dt.named_steps['decisiontreeclassifier']\n",
        "encoder = dt.named_steps['onehotencoder']\n",
        "encoded_columns = encoder.transform(X_val[[feature]]).columns\n",
        "\n",
        "dot_data = export_graphviz(model, \n",
        "                           out_file=None, \n",
        "                           max_depth=7, \n",
        "                           feature_names=encoded_columns,\n",
        "                           class_names=model.classes_, \n",
        "                           impurity=False, \n",
        "                           filled=True, \n",
        "                           proportion=True, \n",
        "                           rounded=True)   \n",
        "display(graphviz.Source(dot_data))\n",
        "\n",
        "# root node - most important variable\n",
        "# most important variable (highest value)"
      ],
      "execution_count": 23,
      "outputs": [
        {
          "output_type": "display_data",
          "data": {
            "text/plain": [
              "<graphviz.files.Source at 0x7f7198b29da0>"
            ],
            "image/svg+xml": "<?xml version=\"1.0\" encoding=\"UTF-8\" standalone=\"no\"?>\n<!DOCTYPE svg PUBLIC \"-//W3C//DTD SVG 1.1//EN\"\n \"http://www.w3.org/Graphics/SVG/1.1/DTD/svg11.dtd\">\n<!-- Generated by graphviz version 2.40.1 (20161225.0304)\n -->\n<!-- Title: Tree Pages: 1 -->\n<svg width=\"1102pt\" height=\"789pt\"\n viewBox=\"0.00 0.00 1102.00 789.00\" xmlns=\"http://www.w3.org/2000/svg\" xmlns:xlink=\"http://www.w3.org/1999/xlink\">\n<g id=\"graph0\" class=\"graph\" transform=\"scale(1 1) rotate(0) translate(4 785)\">\n<title>Tree</title>\n<polygon fill=\"#ffffff\" stroke=\"transparent\" points=\"-4,4 -4,-785 1098,-785 1098,4 -4,4\"/>\n<!-- 0 -->\n<g id=\"node1\" class=\"node\">\n<title>0</title>\n<path fill=\"#f8decc\" stroke=\"#000000\" d=\"M982,-781C982,-781 792,-781 792,-781 786,-781 780,-775 780,-769 780,-769 780,-725 780,-725 780,-719 786,-713 792,-713 792,-713 982,-713 982,-713 988,-713 994,-719 994,-725 994,-725 994,-769 994,-769 994,-775 988,-781 982,-781\"/>\n<text text-anchor=\"middle\" x=\"887\" y=\"-765.8\" font-family=\"Helvetica,sans-Serif\" font-size=\"14.00\" fill=\"#000000\">water_quality_unknown &lt;= 0.5</text>\n<text text-anchor=\"middle\" x=\"887\" y=\"-750.8\" font-family=\"Helvetica,sans-Serif\" font-size=\"14.00\" fill=\"#000000\">samples = 100.0%</text>\n<text text-anchor=\"middle\" x=\"887\" y=\"-735.8\" font-family=\"Helvetica,sans-Serif\" font-size=\"14.00\" fill=\"#000000\">value = [0.543, 0.073, 0.384]</text>\n<text text-anchor=\"middle\" x=\"887\" y=\"-720.8\" font-family=\"Helvetica,sans-Serif\" font-size=\"14.00\" fill=\"#000000\">class = functional</text>\n</g>\n<!-- 1 -->\n<g id=\"node2\" class=\"node\">\n<title>1</title>\n<path fill=\"#f7dac4\" stroke=\"#000000\" d=\"M864,-677C864,-677 696,-677 696,-677 690,-677 684,-671 684,-665 684,-665 684,-621 684,-621 684,-615 690,-609 696,-609 696,-609 864,-609 864,-609 870,-609 876,-615 876,-621 876,-621 876,-665 876,-665 876,-671 870,-677 864,-677\"/>\n<text text-anchor=\"middle\" x=\"780\" y=\"-661.8\" font-family=\"Helvetica,sans-Serif\" font-size=\"14.00\" fill=\"#000000\">water_quality_salty &lt;= 0.5</text>\n<text text-anchor=\"middle\" x=\"780\" y=\"-646.8\" font-family=\"Helvetica,sans-Serif\" font-size=\"14.00\" fill=\"#000000\">samples = 96.9%</text>\n<text text-anchor=\"middle\" x=\"780\" y=\"-631.8\" font-family=\"Helvetica,sans-Serif\" font-size=\"14.00\" fill=\"#000000\">value = [0.556, 0.074, 0.37]</text>\n<text text-anchor=\"middle\" x=\"780\" y=\"-616.8\" font-family=\"Helvetica,sans-Serif\" font-size=\"14.00\" fill=\"#000000\">class = functional</text>\n</g>\n<!-- 0&#45;&gt;1 -->\n<g id=\"edge1\" class=\"edge\">\n<title>0&#45;&gt;1</title>\n<path fill=\"none\" stroke=\"#000000\" d=\"M851.9642,-712.9465C842.5419,-703.7884 832.2487,-693.7838 822.4696,-684.2788\"/>\n<polygon fill=\"#000000\" stroke=\"#000000\" points=\"824.7249,-681.59 815.1145,-677.13 819.846,-686.6097 824.7249,-681.59\"/>\n<text text-anchor=\"middle\" x=\"815.4699\" y=\"-698.4275\" font-family=\"Helvetica,sans-Serif\" font-size=\"14.00\" fill=\"#000000\">True</text>\n</g>\n<!-- 14 -->\n<g id=\"node15\" class=\"node\">\n<title>14</title>\n<path fill=\"#9a60ea\" stroke=\"#000000\" d=\"M1082,-669.5C1082,-669.5 906,-669.5 906,-669.5 900,-669.5 894,-663.5 894,-657.5 894,-657.5 894,-628.5 894,-628.5 894,-622.5 900,-616.5 906,-616.5 906,-616.5 1082,-616.5 1082,-616.5 1088,-616.5 1094,-622.5 1094,-628.5 1094,-628.5 1094,-657.5 1094,-657.5 1094,-663.5 1088,-669.5 1082,-669.5\"/>\n<text text-anchor=\"middle\" x=\"994\" y=\"-654.3\" font-family=\"Helvetica,sans-Serif\" font-size=\"14.00\" fill=\"#000000\">samples = 3.1%</text>\n<text text-anchor=\"middle\" x=\"994\" y=\"-639.3\" font-family=\"Helvetica,sans-Serif\" font-size=\"14.00\" fill=\"#000000\">value = [0.145, 0.023, 0.832]</text>\n<text text-anchor=\"middle\" x=\"994\" y=\"-624.3\" font-family=\"Helvetica,sans-Serif\" font-size=\"14.00\" fill=\"#000000\">class = non functional</text>\n</g>\n<!-- 0&#45;&gt;14 -->\n<g id=\"edge14\" class=\"edge\">\n<title>0&#45;&gt;14</title>\n<path fill=\"none\" stroke=\"#000000\" d=\"M922.0358,-712.9465C934.0484,-701.2707 947.4766,-688.219 959.4504,-676.5809\"/>\n<polygon fill=\"#000000\" stroke=\"#000000\" points=\"961.9607,-679.0218 966.6922,-669.5422 957.0818,-674.0022 961.9607,-679.0218\"/>\n<text text-anchor=\"middle\" x=\"966.3368\" y=\"-690.8396\" font-family=\"Helvetica,sans-Serif\" font-size=\"14.00\" fill=\"#000000\">False</text>\n</g>\n<!-- 2 -->\n<g id=\"node3\" class=\"node\">\n<title>2</title>\n<path fill=\"#f7d6bf\" stroke=\"#000000\" d=\"M762,-573C762,-573 584,-573 584,-573 578,-573 572,-567 572,-561 572,-561 572,-517 572,-517 572,-511 578,-505 584,-505 584,-505 762,-505 762,-505 768,-505 774,-511 774,-517 774,-517 774,-561 774,-561 774,-567 768,-573 762,-573\"/>\n<text text-anchor=\"middle\" x=\"673\" y=\"-557.8\" font-family=\"Helvetica,sans-Serif\" font-size=\"14.00\" fill=\"#000000\">water_quality_fluoride &lt;= 0.5</text>\n<text text-anchor=\"middle\" x=\"673\" y=\"-542.8\" font-family=\"Helvetica,sans-Serif\" font-size=\"14.00\" fill=\"#000000\">samples = 88.8%</text>\n<text text-anchor=\"middle\" x=\"673\" y=\"-527.8\" font-family=\"Helvetica,sans-Serif\" font-size=\"14.00\" fill=\"#000000\">value = [0.565, 0.077, 0.358]</text>\n<text text-anchor=\"middle\" x=\"673\" y=\"-512.8\" font-family=\"Helvetica,sans-Serif\" font-size=\"14.00\" fill=\"#000000\">class = functional</text>\n</g>\n<!-- 1&#45;&gt;2 -->\n<g id=\"edge2\" class=\"edge\">\n<title>1&#45;&gt;2</title>\n<path fill=\"none\" stroke=\"#000000\" d=\"M744.9642,-608.9465C735.5419,-599.7884 725.2487,-589.7838 715.4696,-580.2788\"/>\n<polygon fill=\"#000000\" stroke=\"#000000\" points=\"717.7249,-577.59 708.1145,-573.13 712.846,-582.6097 717.7249,-577.59\"/>\n</g>\n<!-- 13 -->\n<g id=\"node14\" class=\"node\">\n<title>13</title>\n<path fill=\"#f6f2fd\" stroke=\"#000000\" d=\"M972,-565.5C972,-565.5 804,-565.5 804,-565.5 798,-565.5 792,-559.5 792,-553.5 792,-553.5 792,-524.5 792,-524.5 792,-518.5 798,-512.5 804,-512.5 804,-512.5 972,-512.5 972,-512.5 978,-512.5 984,-518.5 984,-524.5 984,-524.5 984,-553.5 984,-553.5 984,-559.5 978,-565.5 972,-565.5\"/>\n<text text-anchor=\"middle\" x=\"888\" y=\"-550.3\" font-family=\"Helvetica,sans-Serif\" font-size=\"14.00\" fill=\"#000000\">samples = 8.0%</text>\n<text text-anchor=\"middle\" x=\"888\" y=\"-535.3\" font-family=\"Helvetica,sans-Serif\" font-size=\"14.00\" fill=\"#000000\">value = [0.46, 0.042, 0.497]</text>\n<text text-anchor=\"middle\" x=\"888\" y=\"-520.3\" font-family=\"Helvetica,sans-Serif\" font-size=\"14.00\" fill=\"#000000\">class = non functional</text>\n</g>\n<!-- 1&#45;&gt;13 -->\n<g id=\"edge13\" class=\"edge\">\n<title>1&#45;&gt;13</title>\n<path fill=\"none\" stroke=\"#000000\" d=\"M815.3632,-608.9465C827.4881,-597.2707 841.0418,-584.219 853.1275,-572.5809\"/>\n<polygon fill=\"#000000\" stroke=\"#000000\" points=\"855.6615,-574.9997 860.437,-565.5422 850.806,-569.9575 855.6615,-574.9997\"/>\n</g>\n<!-- 3 -->\n<g id=\"node4\" class=\"node\">\n<title>3</title>\n<path fill=\"#f7d7c0\" stroke=\"#000000\" d=\"M669.5,-469C669.5,-469 430.5,-469 430.5,-469 424.5,-469 418.5,-463 418.5,-457 418.5,-457 418.5,-413 418.5,-413 418.5,-407 424.5,-401 430.5,-401 430.5,-401 669.5,-401 669.5,-401 675.5,-401 681.5,-407 681.5,-413 681.5,-413 681.5,-457 681.5,-457 681.5,-463 675.5,-469 669.5,-469\"/>\n<text text-anchor=\"middle\" x=\"550\" y=\"-453.8\" font-family=\"Helvetica,sans-Serif\" font-size=\"14.00\" fill=\"#000000\">water_quality_salty abandoned &lt;= 0.5</text>\n<text text-anchor=\"middle\" x=\"550\" y=\"-438.8\" font-family=\"Helvetica,sans-Serif\" font-size=\"14.00\" fill=\"#000000\">samples = 88.4%</text>\n<text text-anchor=\"middle\" x=\"550\" y=\"-423.8\" font-family=\"Helvetica,sans-Serif\" font-size=\"14.00\" fill=\"#000000\">value = [0.564, 0.077, 0.359]</text>\n<text text-anchor=\"middle\" x=\"550\" y=\"-408.8\" font-family=\"Helvetica,sans-Serif\" font-size=\"14.00\" fill=\"#000000\">class = functional</text>\n</g>\n<!-- 2&#45;&gt;3 -->\n<g id=\"edge3\" class=\"edge\">\n<title>2&#45;&gt;3</title>\n<path fill=\"none\" stroke=\"#000000\" d=\"M632.7252,-504.9465C621.6816,-495.6088 609.5972,-485.3911 598.1596,-475.7203\"/>\n<polygon fill=\"#000000\" stroke=\"#000000\" points=\"600.2614,-472.914 590.3653,-469.13 595.7417,-478.2594 600.2614,-472.914\"/>\n</g>\n<!-- 12 -->\n<g id=\"node13\" class=\"node\">\n<title>12</title>\n<path fill=\"#eda978\" stroke=\"#000000\" d=\"M880,-461.5C880,-461.5 712,-461.5 712,-461.5 706,-461.5 700,-455.5 700,-449.5 700,-449.5 700,-420.5 700,-420.5 700,-414.5 706,-408.5 712,-408.5 712,-408.5 880,-408.5 880,-408.5 886,-408.5 892,-414.5 892,-420.5 892,-420.5 892,-449.5 892,-449.5 892,-455.5 886,-461.5 880,-461.5\"/>\n<text text-anchor=\"middle\" x=\"796\" y=\"-446.3\" font-family=\"Helvetica,sans-Serif\" font-size=\"14.00\" fill=\"#000000\">samples = 0.4%</text>\n<text text-anchor=\"middle\" x=\"796\" y=\"-431.3\" font-family=\"Helvetica,sans-Serif\" font-size=\"14.00\" fill=\"#000000\">value = [0.738, 0.082, 0.18]</text>\n<text text-anchor=\"middle\" x=\"796\" y=\"-416.3\" font-family=\"Helvetica,sans-Serif\" font-size=\"14.00\" fill=\"#000000\">class = functional</text>\n</g>\n<!-- 2&#45;&gt;12 -->\n<g id=\"edge12\" class=\"edge\">\n<title>2&#45;&gt;12</title>\n<path fill=\"none\" stroke=\"#000000\" d=\"M713.2748,-504.9465C727.2139,-493.1606 742.8112,-479.9726 756.6732,-468.2519\"/>\n<polygon fill=\"#000000\" stroke=\"#000000\" points=\"759.2324,-470.6715 764.6088,-461.5422 754.7127,-465.3262 759.2324,-470.6715\"/>\n</g>\n<!-- 4 -->\n<g id=\"node5\" class=\"node\">\n<title>4</title>\n<path fill=\"#f7d7c0\" stroke=\"#000000\" d=\"M527,-365C527,-365 359,-365 359,-365 353,-365 347,-359 347,-353 347,-353 347,-309 347,-309 347,-303 353,-297 359,-297 359,-297 527,-297 527,-297 533,-297 539,-303 539,-309 539,-309 539,-353 539,-353 539,-359 533,-365 527,-365\"/>\n<text text-anchor=\"middle\" x=\"443\" y=\"-349.8\" font-family=\"Helvetica,sans-Serif\" font-size=\"14.00\" fill=\"#000000\">water_quality_milky &lt;= 0.5</text>\n<text text-anchor=\"middle\" x=\"443\" y=\"-334.8\" font-family=\"Helvetica,sans-Serif\" font-size=\"14.00\" fill=\"#000000\">samples = 87.9%</text>\n<text text-anchor=\"middle\" x=\"443\" y=\"-319.8\" font-family=\"Helvetica,sans-Serif\" font-size=\"14.00\" fill=\"#000000\">value = [0.564, 0.076, 0.36]</text>\n<text text-anchor=\"middle\" x=\"443\" y=\"-304.8\" font-family=\"Helvetica,sans-Serif\" font-size=\"14.00\" fill=\"#000000\">class = functional</text>\n</g>\n<!-- 3&#45;&gt;4 -->\n<g id=\"edge4\" class=\"edge\">\n<title>3&#45;&gt;4</title>\n<path fill=\"none\" stroke=\"#000000\" d=\"M514.9642,-400.9465C505.5419,-391.7884 495.2487,-381.7838 485.4696,-372.2788\"/>\n<polygon fill=\"#000000\" stroke=\"#000000\" points=\"487.7249,-369.59 478.1145,-365.13 482.846,-374.6097 487.7249,-369.59\"/>\n</g>\n<!-- 11 -->\n<g id=\"node12\" class=\"node\">\n<title>11</title>\n<path fill=\"#f6d4bb\" stroke=\"#000000\" d=\"M745,-357.5C745,-357.5 569,-357.5 569,-357.5 563,-357.5 557,-351.5 557,-345.5 557,-345.5 557,-316.5 557,-316.5 557,-310.5 563,-304.5 569,-304.5 569,-304.5 745,-304.5 745,-304.5 751,-304.5 757,-310.5 757,-316.5 757,-316.5 757,-345.5 757,-345.5 757,-351.5 751,-357.5 745,-357.5\"/>\n<text text-anchor=\"middle\" x=\"657\" y=\"-342.3\" font-family=\"Helvetica,sans-Serif\" font-size=\"14.00\" fill=\"#000000\">samples = 0.5%</text>\n<text text-anchor=\"middle\" x=\"657\" y=\"-327.3\" font-family=\"Helvetica,sans-Serif\" font-size=\"14.00\" fill=\"#000000\">value = [0.512, 0.232, 0.256]</text>\n<text text-anchor=\"middle\" x=\"657\" y=\"-312.3\" font-family=\"Helvetica,sans-Serif\" font-size=\"14.00\" fill=\"#000000\">class = functional</text>\n</g>\n<!-- 3&#45;&gt;11 -->\n<g id=\"edge11\" class=\"edge\">\n<title>3&#45;&gt;11</title>\n<path fill=\"none\" stroke=\"#000000\" d=\"M585.0358,-400.9465C597.0484,-389.2707 610.4766,-376.219 622.4504,-364.5809\"/>\n<polygon fill=\"#000000\" stroke=\"#000000\" points=\"624.9607,-367.0218 629.6922,-357.5422 620.0818,-362.0022 624.9607,-367.0218\"/>\n</g>\n<!-- 5 -->\n<g id=\"node6\" class=\"node\">\n<title>5</title>\n<path fill=\"#f7d7c0\" stroke=\"#000000\" d=\"M422,-261C422,-261 246,-261 246,-261 240,-261 234,-255 234,-249 234,-249 234,-205 234,-205 234,-199 240,-193 246,-193 246,-193 422,-193 422,-193 428,-193 434,-199 434,-205 434,-205 434,-249 434,-249 434,-255 428,-261 422,-261\"/>\n<text text-anchor=\"middle\" x=\"334\" y=\"-245.8\" font-family=\"Helvetica,sans-Serif\" font-size=\"14.00\" fill=\"#000000\">water_quality_soft &lt;= 0.5</text>\n<text text-anchor=\"middle\" x=\"334\" y=\"-230.8\" font-family=\"Helvetica,sans-Serif\" font-size=\"14.00\" fill=\"#000000\">samples = 86.5%</text>\n<text text-anchor=\"middle\" x=\"334\" y=\"-215.8\" font-family=\"Helvetica,sans-Serif\" font-size=\"14.00\" fill=\"#000000\">value = [0.564, 0.077, 0.359]</text>\n<text text-anchor=\"middle\" x=\"334\" y=\"-200.8\" font-family=\"Helvetica,sans-Serif\" font-size=\"14.00\" fill=\"#000000\">class = functional</text>\n</g>\n<!-- 4&#45;&gt;5 -->\n<g id=\"edge5\" class=\"edge\">\n<title>4&#45;&gt;5</title>\n<path fill=\"none\" stroke=\"#000000\" d=\"M407.3093,-296.9465C397.7109,-287.7884 387.2253,-277.7838 377.2634,-268.2788\"/>\n<polygon fill=\"#000000\" stroke=\"#000000\" points=\"379.4221,-265.5009 369.7709,-261.13 374.5898,-270.5655 379.4221,-265.5009\"/>\n</g>\n<!-- 10 -->\n<g id=\"node11\" class=\"node\">\n<title>10</title>\n<path fill=\"#f8dfcc\" stroke=\"#000000\" d=\"M640,-253.5C640,-253.5 464,-253.5 464,-253.5 458,-253.5 452,-247.5 452,-241.5 452,-241.5 452,-212.5 452,-212.5 452,-206.5 458,-200.5 464,-200.5 464,-200.5 640,-200.5 640,-200.5 646,-200.5 652,-206.5 652,-212.5 652,-212.5 652,-241.5 652,-241.5 652,-247.5 646,-253.5 640,-253.5\"/>\n<text text-anchor=\"middle\" x=\"552\" y=\"-238.3\" font-family=\"Helvetica,sans-Serif\" font-size=\"14.00\" fill=\"#000000\">samples = 1.4%</text>\n<text text-anchor=\"middle\" x=\"552\" y=\"-223.3\" font-family=\"Helvetica,sans-Serif\" font-size=\"14.00\" fill=\"#000000\">value = [0.568, 0.014, 0.419]</text>\n<text text-anchor=\"middle\" x=\"552\" y=\"-208.3\" font-family=\"Helvetica,sans-Serif\" font-size=\"14.00\" fill=\"#000000\">class = functional</text>\n</g>\n<!-- 4&#45;&gt;10 -->\n<g id=\"edge10\" class=\"edge\">\n<title>4&#45;&gt;10</title>\n<path fill=\"none\" stroke=\"#000000\" d=\"M478.6907,-296.9465C490.9278,-285.2707 504.607,-272.219 516.8046,-260.5809\"/>\n<polygon fill=\"#000000\" stroke=\"#000000\" points=\"519.3628,-262.9777 524.1818,-253.5422 514.5306,-257.9131 519.3628,-262.9777\"/>\n</g>\n<!-- 6 -->\n<g id=\"node7\" class=\"node\">\n<title>6</title>\n<path fill=\"#fcf1e8\" stroke=\"#000000\" d=\"M333,-157C333,-157 77,-157 77,-157 71,-157 65,-151 65,-145 65,-145 65,-101 65,-101 65,-95 71,-89 77,-89 77,-89 333,-89 333,-89 339,-89 345,-95 345,-101 345,-101 345,-145 345,-145 345,-151 339,-157 333,-157\"/>\n<text text-anchor=\"middle\" x=\"205\" y=\"-141.8\" font-family=\"Helvetica,sans-Serif\" font-size=\"14.00\" fill=\"#000000\">water_quality_fluoride abandoned &lt;= 0.5</text>\n<text text-anchor=\"middle\" x=\"205\" y=\"-126.8\" font-family=\"Helvetica,sans-Serif\" font-size=\"14.00\" fill=\"#000000\">samples = 0.8%</text>\n<text text-anchor=\"middle\" x=\"205\" y=\"-111.8\" font-family=\"Helvetica,sans-Serif\" font-size=\"14.00\" fill=\"#000000\">value = [0.47, 0.129, 0.402]</text>\n<text text-anchor=\"middle\" x=\"205\" y=\"-96.8\" font-family=\"Helvetica,sans-Serif\" font-size=\"14.00\" fill=\"#000000\">class = functional</text>\n</g>\n<!-- 5&#45;&gt;6 -->\n<g id=\"edge6\" class=\"edge\">\n<title>5&#45;&gt;6</title>\n<path fill=\"none\" stroke=\"#000000\" d=\"M291.7606,-192.9465C280.0669,-183.519 267.2606,-173.1946 255.163,-163.4415\"/>\n<polygon fill=\"#000000\" stroke=\"#000000\" points=\"257.3162,-160.6816 247.3343,-157.13 252.9227,-166.1312 257.3162,-160.6816\"/>\n</g>\n<!-- 9 -->\n<g id=\"node10\" class=\"node\">\n<title>9</title>\n<path fill=\"#f7d6bf\" stroke=\"#000000\" d=\"M551,-149.5C551,-149.5 375,-149.5 375,-149.5 369,-149.5 363,-143.5 363,-137.5 363,-137.5 363,-108.5 363,-108.5 363,-102.5 369,-96.5 375,-96.5 375,-96.5 551,-96.5 551,-96.5 557,-96.5 563,-102.5 563,-108.5 563,-108.5 563,-137.5 563,-137.5 563,-143.5 557,-149.5 551,-149.5\"/>\n<text text-anchor=\"middle\" x=\"463\" y=\"-134.3\" font-family=\"Helvetica,sans-Serif\" font-size=\"14.00\" fill=\"#000000\">samples = 85.6%</text>\n<text text-anchor=\"middle\" x=\"463\" y=\"-119.3\" font-family=\"Helvetica,sans-Serif\" font-size=\"14.00\" fill=\"#000000\">value = [0.565, 0.077, 0.358]</text>\n<text text-anchor=\"middle\" x=\"463\" y=\"-104.3\" font-family=\"Helvetica,sans-Serif\" font-size=\"14.00\" fill=\"#000000\">class = functional</text>\n</g>\n<!-- 5&#45;&gt;9 -->\n<g id=\"edge9\" class=\"edge\">\n<title>5&#45;&gt;9</title>\n<path fill=\"none\" stroke=\"#000000\" d=\"M376.2394,-192.9465C390.9952,-181.0504 407.5225,-167.726 422.162,-155.9237\"/>\n<polygon fill=\"#000000\" stroke=\"#000000\" points=\"424.4891,-158.5433 430.0775,-149.5422 420.0957,-153.0938 424.4891,-158.5433\"/>\n</g>\n<!-- 7 -->\n<g id=\"node8\" class=\"node\">\n<title>7</title>\n<path fill=\"#fbede3\" stroke=\"#000000\" d=\"M188,-53C188,-53 12,-53 12,-53 6,-53 0,-47 0,-41 0,-41 0,-12 0,-12 0,-6 6,0 12,0 12,0 188,0 188,0 194,0 200,-6 200,-12 200,-12 200,-41 200,-41 200,-47 194,-53 188,-53\"/>\n<text text-anchor=\"middle\" x=\"100\" y=\"-37.8\" font-family=\"Helvetica,sans-Serif\" font-size=\"14.00\" fill=\"#000000\">samples = 0.8%</text>\n<text text-anchor=\"middle\" x=\"100\" y=\"-22.8\" font-family=\"Helvetica,sans-Serif\" font-size=\"14.00\" fill=\"#000000\">value = [0.476, 0.135, 0.389]</text>\n<text text-anchor=\"middle\" x=\"100\" y=\"-7.8\" font-family=\"Helvetica,sans-Serif\" font-size=\"14.00\" fill=\"#000000\">class = functional</text>\n</g>\n<!-- 6&#45;&gt;7 -->\n<g id=\"edge7\" class=\"edge\">\n<title>6&#45;&gt;7</title>\n<path fill=\"none\" stroke=\"#000000\" d=\"M167.9809,-88.9777C157.8181,-79.6376 146.8053,-69.5163 136.6626,-60.1947\"/>\n<polygon fill=\"#000000\" stroke=\"#000000\" points=\"138.8358,-57.4383 129.1046,-53.2485 134.099,-62.5923 138.8358,-57.4383\"/>\n</g>\n<!-- 8 -->\n<g id=\"node9\" class=\"node\">\n<title>8</title>\n<path fill=\"#c09cf2\" stroke=\"#000000\" d=\"M390,-53C390,-53 230,-53 230,-53 224,-53 218,-47 218,-41 218,-41 218,-12 218,-12 218,-6 224,0 230,0 230,0 390,0 390,0 396,0 402,-6 402,-12 402,-12 402,-41 402,-41 402,-47 396,-53 390,-53\"/>\n<text text-anchor=\"middle\" x=\"310\" y=\"-37.8\" font-family=\"Helvetica,sans-Serif\" font-size=\"14.00\" fill=\"#000000\">samples = 0.0%</text>\n<text text-anchor=\"middle\" x=\"310\" y=\"-22.8\" font-family=\"Helvetica,sans-Serif\" font-size=\"14.00\" fill=\"#000000\">value = [0.333, 0.0, 0.667]</text>\n<text text-anchor=\"middle\" x=\"310\" y=\"-7.8\" font-family=\"Helvetica,sans-Serif\" font-size=\"14.00\" fill=\"#000000\">class = non functional</text>\n</g>\n<!-- 6&#45;&gt;8 -->\n<g id=\"edge8\" class=\"edge\">\n<title>6&#45;&gt;8</title>\n<path fill=\"none\" stroke=\"#000000\" d=\"M242.0191,-88.9777C252.1819,-79.6376 263.1947,-69.5163 273.3374,-60.1947\"/>\n<polygon fill=\"#000000\" stroke=\"#000000\" points=\"275.901,-62.5923 280.8954,-53.2485 271.1642,-57.4383 275.901,-62.5923\"/>\n</g>\n</g>\n</svg>\n"
          },
          "metadata": {
            "tags": []
          }
        }
      ]
    },
    {
      "cell_type": "code",
      "metadata": {
        "id": "ioUENjIPt2Bh",
        "colab_type": "code",
        "colab": {
          "base_uri": "https://localhost:8080/",
          "height": 686
        },
        "outputId": "415f7510-7541-4b04-f4d4-a52e43cf81c0"
      },
      "source": [
        "# try ordinal encoding\n",
        "\n",
        "encoder = ce.OrdinalEncoder()\n",
        "encoded = encoder.fit_transform(X_train[[feature]])\n",
        "print(f'1 column, {encoded[feature].nunique()} unique values')\n",
        "encoded.tail(20)"
      ],
      "execution_count": 27,
      "outputs": [
        {
          "output_type": "stream",
          "text": [
            "1 column, 8 unique values\n"
          ],
          "name": "stdout"
        },
        {
          "output_type": "execute_result",
          "data": {
            "text/html": [
              "<div>\n",
              "<style scoped>\n",
              "    .dataframe tbody tr th:only-of-type {\n",
              "        vertical-align: middle;\n",
              "    }\n",
              "\n",
              "    .dataframe tbody tr th {\n",
              "        vertical-align: top;\n",
              "    }\n",
              "\n",
              "    .dataframe thead th {\n",
              "        text-align: right;\n",
              "    }\n",
              "</style>\n",
              "<table border=\"1\" class=\"dataframe\">\n",
              "  <thead>\n",
              "    <tr style=\"text-align: right;\">\n",
              "      <th></th>\n",
              "      <th>water_quality</th>\n",
              "    </tr>\n",
              "  </thead>\n",
              "  <tbody>\n",
              "    <tr>\n",
              "      <th>7127</th>\n",
              "      <td>1</td>\n",
              "    </tr>\n",
              "    <tr>\n",
              "      <th>42979</th>\n",
              "      <td>2</td>\n",
              "    </tr>\n",
              "    <tr>\n",
              "      <th>31225</th>\n",
              "      <td>1</td>\n",
              "    </tr>\n",
              "    <tr>\n",
              "      <th>25765</th>\n",
              "      <td>1</td>\n",
              "    </tr>\n",
              "    <tr>\n",
              "      <th>11502</th>\n",
              "      <td>1</td>\n",
              "    </tr>\n",
              "    <tr>\n",
              "      <th>1664</th>\n",
              "      <td>1</td>\n",
              "    </tr>\n",
              "    <tr>\n",
              "      <th>43971</th>\n",
              "      <td>1</td>\n",
              "    </tr>\n",
              "    <tr>\n",
              "      <th>25952</th>\n",
              "      <td>1</td>\n",
              "    </tr>\n",
              "    <tr>\n",
              "      <th>55593</th>\n",
              "      <td>1</td>\n",
              "    </tr>\n",
              "    <tr>\n",
              "      <th>17421</th>\n",
              "      <td>1</td>\n",
              "    </tr>\n",
              "    <tr>\n",
              "      <th>13091</th>\n",
              "      <td>1</td>\n",
              "    </tr>\n",
              "    <tr>\n",
              "      <th>23760</th>\n",
              "      <td>1</td>\n",
              "    </tr>\n",
              "    <tr>\n",
              "      <th>16162</th>\n",
              "      <td>1</td>\n",
              "    </tr>\n",
              "    <tr>\n",
              "      <th>26394</th>\n",
              "      <td>1</td>\n",
              "    </tr>\n",
              "    <tr>\n",
              "      <th>38095</th>\n",
              "      <td>1</td>\n",
              "    </tr>\n",
              "    <tr>\n",
              "      <th>9608</th>\n",
              "      <td>1</td>\n",
              "    </tr>\n",
              "    <tr>\n",
              "      <th>41667</th>\n",
              "      <td>2</td>\n",
              "    </tr>\n",
              "    <tr>\n",
              "      <th>57470</th>\n",
              "      <td>1</td>\n",
              "    </tr>\n",
              "    <tr>\n",
              "      <th>731</th>\n",
              "      <td>1</td>\n",
              "    </tr>\n",
              "    <tr>\n",
              "      <th>53401</th>\n",
              "      <td>1</td>\n",
              "    </tr>\n",
              "  </tbody>\n",
              "</table>\n",
              "</div>"
            ],
            "text/plain": [
              "       water_quality\n",
              "7127               1\n",
              "42979              2\n",
              "31225              1\n",
              "25765              1\n",
              "11502              1\n",
              "1664               1\n",
              "43971              1\n",
              "25952              1\n",
              "55593              1\n",
              "17421              1\n",
              "13091              1\n",
              "23760              1\n",
              "16162              1\n",
              "26394              1\n",
              "38095              1\n",
              "9608               1\n",
              "41667              2\n",
              "57470              1\n",
              "731                1\n",
              "53401              1"
            ]
          },
          "metadata": {
            "tags": []
          },
          "execution_count": 27
        }
      ]
    },
    {
      "cell_type": "code",
      "metadata": {
        "id": "rzCksUCJuKz8",
        "colab_type": "code",
        "colab": {
          "base_uri": "https://localhost:8080/",
          "height": 34
        },
        "outputId": "7e612ef1-0499-4c6a-ed0e-1acfea89bb8a"
      },
      "source": [
        "# ordinal encoding, logistic regression, validation accuracy\n",
        "\n",
        "lr = make_pipeline(\n",
        "    ce.OrdinalEncoder(), \n",
        "    SimpleImputer(), \n",
        "    StandardScaler(), \n",
        "    LogisticRegressionCV(multi_class='auto', solver='lbfgs', cv=5, n_jobs=-1)\n",
        ")\n",
        "\n",
        "lr.fit(X_train[[feature]], y_train)\n",
        "score = lr.score(X_val[[feature]], y_val)\n",
        "print('Logistic Regression, Validation Accuracy', score)"
      ],
      "execution_count": 28,
      "outputs": [
        {
          "output_type": "stream",
          "text": [
            "Logistic Regression, Validation Accuracy 0.5594657076804521\n"
          ],
          "name": "stdout"
        }
      ]
    },
    {
      "cell_type": "code",
      "metadata": {
        "id": "lw6UJY23ua7s",
        "colab_type": "code",
        "colab": {
          "base_uri": "https://localhost:8080/",
          "height": 34
        },
        "outputId": "ba327a9f-2837-4c36-983e-32af31bb3bf3"
      },
      "source": [
        "# ordinal encoding, decision tree, validation accuracy\n",
        "\n",
        "dt = make_pipeline(\n",
        "    ce.OrdinalEncoder(), \n",
        "    SimpleImputer(), \n",
        "    DecisionTreeClassifier(random_state=42)\n",
        ")\n",
        "\n",
        "dt.fit(X_train[[feature]], y_train)\n",
        "score = dt.score(X_val[[feature]], y_val)\n",
        "print('Decision Tree, Validation Accuracy', score)"
      ],
      "execution_count": 29,
      "outputs": [
        {
          "output_type": "stream",
          "text": [
            "Decision Tree, Validation Accuracy 0.5720524017467249\n"
          ],
          "name": "stdout"
        }
      ]
    },
    {
      "cell_type": "code",
      "metadata": {
        "id": "ovOFn7kNuheB",
        "colab_type": "code",
        "colab": {
          "base_uri": "https://localhost:8080/",
          "height": 265
        },
        "outputId": "158d8fbf-16c9-46ed-bb9b-c5e53fd953cb"
      },
      "source": [
        "# ordinal encoding, logistic regression, model interpretation\n",
        "\n",
        "model = lr.named_steps['logisticregressioncv']\n",
        "encoder = lr.named_steps['ordinalencoder']\n",
        "encoded_columns = encoder.transform(X_val[[feature]]).columns\n",
        "coefficients = pd.Series(model.coef_[0], encoded_columns)\n",
        "coefficients.sort_values().plot.barh(color='orange');"
      ],
      "execution_count": 30,
      "outputs": [
        {
          "output_type": "display_data",
          "data": {
            "image/png": "[encoded data removed]",
            "text/plain": [
              "<Figure size 432x288 with 1 Axes>"
            ]
          },
          "metadata": {
            "tags": [],
            "needs_background": "light"
          }
        }
      ]
    },
    {
      "cell_type": "code",
      "metadata": {
        "id": "R_64q0YRunvT",
        "colab_type": "code",
        "colab": {
          "base_uri": "https://localhost:8080/",
          "height": 816
        },
        "outputId": "cfb2e9b2-72d1-4127-9998-c238c05354d3"
      },
      "source": [
        "# ordinal encoding, decision tree, model interpretation\n",
        "\n",
        "model = dt.named_steps['decisiontreeclassifier']\n",
        "encoder = dt.named_steps['ordinalencoder']\n",
        "encoded_columns = encoder.transform(X_val[[feature]]).columns\n",
        "\n",
        "dot_data = export_graphviz(model, \n",
        "                           out_file=None, \n",
        "                           max_depth=5, \n",
        "                           feature_names=encoded_columns,\n",
        "                           class_names=model.classes_, \n",
        "                           impurity=False, \n",
        "                           filled=True, \n",
        "                           proportion=True, \n",
        "                           rounded=True)   \n",
        "display(graphviz.Source(dot_data))"
      ],
      "execution_count": 32,
      "outputs": [
        {
          "output_type": "display_data",
          "data": {
            "text/plain": [
              "<graphviz.files.Source at 0x7f71a4d2d400>"
            ],
            "image/svg+xml": "<?xml version=\"1.0\" encoding=\"UTF-8\" standalone=\"no\"?>\n<!DOCTYPE svg PUBLIC \"-//W3C//DTD SVG 1.1//EN\"\n \"http://www.w3.org/Graphics/SVG/1.1/DTD/svg11.dtd\">\n<!-- Generated by graphviz version 2.40.1 (20161225.0304)\n -->\n<!-- Title: Tree Pages: 1 -->\n<svg width=\"1169pt\" height=\"581pt\"\n viewBox=\"0.00 0.00 1169.00 581.00\" xmlns=\"http://www.w3.org/2000/svg\" xmlns:xlink=\"http://www.w3.org/1999/xlink\">\n<g id=\"graph0\" class=\"graph\" transform=\"scale(1 1) rotate(0) translate(4 577)\">\n<title>Tree</title>\n<polygon fill=\"#ffffff\" stroke=\"transparent\" points=\"-4,4 -4,-577 1165,-577 1165,4 -4,4\"/>\n<!-- 0 -->\n<g id=\"node1\" class=\"node\">\n<title>0</title>\n<path fill=\"#f8decc\" stroke=\"#000000\" d=\"M509,-573C509,-573 333,-573 333,-573 327,-573 321,-567 321,-561 321,-561 321,-517 321,-517 321,-511 327,-505 333,-505 333,-505 509,-505 509,-505 515,-505 521,-511 521,-517 521,-517 521,-561 521,-561 521,-567 515,-573 509,-573\"/>\n<text text-anchor=\"middle\" x=\"421\" y=\"-557.8\" font-family=\"Helvetica,sans-Serif\" font-size=\"14.00\" fill=\"#000000\">water_quality &lt;= 1.5</text>\n<text text-anchor=\"middle\" x=\"421\" y=\"-542.8\" font-family=\"Helvetica,sans-Serif\" font-size=\"14.00\" fill=\"#000000\">samples = 100.0%</text>\n<text text-anchor=\"middle\" x=\"421\" y=\"-527.8\" font-family=\"Helvetica,sans-Serif\" font-size=\"14.00\" fill=\"#000000\">value = [0.543, 0.073, 0.384]</text>\n<text text-anchor=\"middle\" x=\"421\" y=\"-512.8\" font-family=\"Helvetica,sans-Serif\" font-size=\"14.00\" fill=\"#000000\">class = functional</text>\n</g>\n<!-- 1 -->\n<g id=\"node2\" class=\"node\">\n<title>1</title>\n<path fill=\"#f7d6bf\" stroke=\"#000000\" d=\"M400,-461.5C400,-461.5 224,-461.5 224,-461.5 218,-461.5 212,-455.5 212,-449.5 212,-449.5 212,-420.5 212,-420.5 212,-414.5 218,-408.5 224,-408.5 224,-408.5 400,-408.5 400,-408.5 406,-408.5 412,-414.5 412,-420.5 412,-420.5 412,-449.5 412,-449.5 412,-455.5 406,-461.5 400,-461.5\"/>\n<text text-anchor=\"middle\" x=\"312\" y=\"-446.3\" font-family=\"Helvetica,sans-Serif\" font-size=\"14.00\" fill=\"#000000\">samples = 85.6%</text>\n<text text-anchor=\"middle\" x=\"312\" y=\"-431.3\" font-family=\"Helvetica,sans-Serif\" font-size=\"14.00\" fill=\"#000000\">value = [0.565, 0.077, 0.358]</text>\n<text text-anchor=\"middle\" x=\"312\" y=\"-416.3\" font-family=\"Helvetica,sans-Serif\" font-size=\"14.00\" fill=\"#000000\">class = functional</text>\n</g>\n<!-- 0&#45;&gt;1 -->\n<g id=\"edge1\" class=\"edge\">\n<title>0&#45;&gt;1</title>\n<path fill=\"none\" stroke=\"#000000\" d=\"M385.3093,-504.9465C373.0722,-493.2707 359.393,-480.219 347.1954,-468.5809\"/>\n<polygon fill=\"#000000\" stroke=\"#000000\" points=\"349.4694,-465.9131 339.8182,-461.5422 344.6372,-470.9777 349.4694,-465.9131\"/>\n<text text-anchor=\"middle\" x=\"340.4049\" y=\"-482.8353\" font-family=\"Helvetica,sans-Serif\" font-size=\"14.00\" fill=\"#000000\">True</text>\n</g>\n<!-- 2 -->\n<g id=\"node3\" class=\"node\">\n<title>2</title>\n<path fill=\"#e4d4f9\" stroke=\"#000000\" d=\"M618,-469C618,-469 442,-469 442,-469 436,-469 430,-463 430,-457 430,-457 430,-413 430,-413 430,-407 436,-401 442,-401 442,-401 618,-401 618,-401 624,-401 630,-407 630,-413 630,-413 630,-457 630,-457 630,-463 624,-469 618,-469\"/>\n<text text-anchor=\"middle\" x=\"530\" y=\"-453.8\" font-family=\"Helvetica,sans-Serif\" font-size=\"14.00\" fill=\"#000000\">water_quality &lt;= 4.5</text>\n<text text-anchor=\"middle\" x=\"530\" y=\"-438.8\" font-family=\"Helvetica,sans-Serif\" font-size=\"14.00\" fill=\"#000000\">samples = 14.4%</text>\n<text text-anchor=\"middle\" x=\"530\" y=\"-423.8\" font-family=\"Helvetica,sans-Serif\" font-size=\"14.00\" fill=\"#000000\">value = [0.412, 0.048, 0.539]</text>\n<text text-anchor=\"middle\" x=\"530\" y=\"-408.8\" font-family=\"Helvetica,sans-Serif\" font-size=\"14.00\" fill=\"#000000\">class = non functional</text>\n</g>\n<!-- 0&#45;&gt;2 -->\n<g id=\"edge2\" class=\"edge\">\n<title>0&#45;&gt;2</title>\n<path fill=\"none\" stroke=\"#000000\" d=\"M456.6907,-504.9465C466.2891,-495.7884 476.7747,-485.7838 486.7366,-476.2788\"/>\n<polygon fill=\"#000000\" stroke=\"#000000\" points=\"489.4102,-478.5655 494.2291,-469.13 484.5779,-473.5009 489.4102,-478.5655\"/>\n<text text-anchor=\"middle\" x=\"493.6424\" y=\"-490.4231\" font-family=\"Helvetica,sans-Serif\" font-size=\"14.00\" fill=\"#000000\">False</text>\n</g>\n<!-- 3 -->\n<g id=\"node4\" class=\"node\">\n<title>3</title>\n<path fill=\"#d7c0f7\" stroke=\"#000000\" d=\"M509,-365C509,-365 333,-365 333,-365 327,-365 321,-359 321,-353 321,-353 321,-309 321,-309 321,-303 327,-297 333,-297 333,-297 509,-297 509,-297 515,-297 521,-303 521,-309 521,-309 521,-353 521,-353 521,-359 515,-365 509,-365\"/>\n<text text-anchor=\"middle\" x=\"421\" y=\"-349.8\" font-family=\"Helvetica,sans-Serif\" font-size=\"14.00\" fill=\"#000000\">water_quality &lt;= 3.5</text>\n<text text-anchor=\"middle\" x=\"421\" y=\"-334.8\" font-family=\"Helvetica,sans-Serif\" font-size=\"14.00\" fill=\"#000000\">samples = 12.0%</text>\n<text text-anchor=\"middle\" x=\"421\" y=\"-319.8\" font-family=\"Helvetica,sans-Serif\" font-size=\"14.00\" fill=\"#000000\">value = [0.379, 0.043, 0.577]</text>\n<text text-anchor=\"middle\" x=\"421\" y=\"-304.8\" font-family=\"Helvetica,sans-Serif\" font-size=\"14.00\" fill=\"#000000\">class = non functional</text>\n</g>\n<!-- 2&#45;&gt;3 -->\n<g id=\"edge3\" class=\"edge\">\n<title>2&#45;&gt;3</title>\n<path fill=\"none\" stroke=\"#000000\" d=\"M494.3093,-400.9465C484.7109,-391.7884 474.2253,-381.7838 464.2634,-372.2788\"/>\n<polygon fill=\"#000000\" stroke=\"#000000\" points=\"466.4221,-369.5009 456.7709,-365.13 461.5898,-374.5655 466.4221,-369.5009\"/>\n</g>\n<!-- 8 -->\n<g id=\"node9\" class=\"node\">\n<title>8</title>\n<path fill=\"#f6d2b9\" stroke=\"#000000\" d=\"M723,-365C723,-365 555,-365 555,-365 549,-365 543,-359 543,-353 543,-353 543,-309 543,-309 543,-303 549,-297 555,-297 555,-297 723,-297 723,-297 729,-297 735,-303 735,-309 735,-309 735,-353 735,-353 735,-359 729,-365 723,-365\"/>\n<text text-anchor=\"middle\" x=\"639\" y=\"-349.8\" font-family=\"Helvetica,sans-Serif\" font-size=\"14.00\" fill=\"#000000\">water_quality &lt;= 5.5</text>\n<text text-anchor=\"middle\" x=\"639\" y=\"-334.8\" font-family=\"Helvetica,sans-Serif\" font-size=\"14.00\" fill=\"#000000\">samples = 2.4%</text>\n<text text-anchor=\"middle\" x=\"639\" y=\"-319.8\" font-family=\"Helvetica,sans-Serif\" font-size=\"14.00\" fill=\"#000000\">value = [0.58, 0.073, 0.348]</text>\n<text text-anchor=\"middle\" x=\"639\" y=\"-304.8\" font-family=\"Helvetica,sans-Serif\" font-size=\"14.00\" fill=\"#000000\">class = functional</text>\n</g>\n<!-- 2&#45;&gt;8 -->\n<g id=\"edge8\" class=\"edge\">\n<title>2&#45;&gt;8</title>\n<path fill=\"none\" stroke=\"#000000\" d=\"M565.6907,-400.9465C575.2891,-391.7884 585.7747,-381.7838 595.7366,-372.2788\"/>\n<polygon fill=\"#000000\" stroke=\"#000000\" points=\"598.4102,-374.5655 603.2291,-365.13 593.5779,-369.5009 598.4102,-374.5655\"/>\n</g>\n<!-- 4 -->\n<g id=\"node5\" class=\"node\">\n<title>4</title>\n<path fill=\"#f9f6fe\" stroke=\"#000000\" d=\"M291,-261C291,-261 115,-261 115,-261 109,-261 103,-255 103,-249 103,-249 103,-205 103,-205 103,-199 109,-193 115,-193 115,-193 291,-193 291,-193 297,-193 303,-199 303,-205 303,-205 303,-249 303,-249 303,-255 297,-261 291,-261\"/>\n<text text-anchor=\"middle\" x=\"203\" y=\"-245.8\" font-family=\"Helvetica,sans-Serif\" font-size=\"14.00\" fill=\"#000000\">water_quality &lt;= 2.5</text>\n<text text-anchor=\"middle\" x=\"203\" y=\"-230.8\" font-family=\"Helvetica,sans-Serif\" font-size=\"14.00\" fill=\"#000000\">samples = 8.9%</text>\n<text text-anchor=\"middle\" x=\"203\" y=\"-215.8\" font-family=\"Helvetica,sans-Serif\" font-size=\"14.00\" fill=\"#000000\">value = [0.462, 0.051, 0.487]</text>\n<text text-anchor=\"middle\" x=\"203\" y=\"-200.8\" font-family=\"Helvetica,sans-Serif\" font-size=\"14.00\" fill=\"#000000\">class = non functional</text>\n</g>\n<!-- 3&#45;&gt;4 -->\n<g id=\"edge4\" class=\"edge\">\n<title>3&#45;&gt;4</title>\n<path fill=\"none\" stroke=\"#000000\" d=\"M349.6186,-296.9465C328.5398,-286.8906 305.3216,-275.814 283.6997,-265.4989\"/>\n<polygon fill=\"#000000\" stroke=\"#000000\" points=\"285.0743,-262.2769 274.5417,-261.13 282.0602,-268.5948 285.0743,-262.2769\"/>\n</g>\n<!-- 7 -->\n<g id=\"node8\" class=\"node\">\n<title>7</title>\n<path fill=\"#9a60ea\" stroke=\"#000000\" d=\"M509,-253.5C509,-253.5 333,-253.5 333,-253.5 327,-253.5 321,-247.5 321,-241.5 321,-241.5 321,-212.5 321,-212.5 321,-206.5 327,-200.5 333,-200.5 333,-200.5 509,-200.5 509,-200.5 515,-200.5 521,-206.5 521,-212.5 521,-212.5 521,-241.5 521,-241.5 521,-247.5 515,-253.5 509,-253.5\"/>\n<text text-anchor=\"middle\" x=\"421\" y=\"-238.3\" font-family=\"Helvetica,sans-Serif\" font-size=\"14.00\" fill=\"#000000\">samples = 3.1%</text>\n<text text-anchor=\"middle\" x=\"421\" y=\"-223.3\" font-family=\"Helvetica,sans-Serif\" font-size=\"14.00\" fill=\"#000000\">value = [0.145, 0.023, 0.832]</text>\n<text text-anchor=\"middle\" x=\"421\" y=\"-208.3\" font-family=\"Helvetica,sans-Serif\" font-size=\"14.00\" fill=\"#000000\">class = non functional</text>\n</g>\n<!-- 3&#45;&gt;7 -->\n<g id=\"edge7\" class=\"edge\">\n<title>3&#45;&gt;7</title>\n<path fill=\"none\" stroke=\"#000000\" d=\"M421,-296.9465C421,-286.2621 421,-274.4254 421,-263.5742\"/>\n<polygon fill=\"#000000\" stroke=\"#000000\" points=\"424.5001,-263.5421 421,-253.5422 417.5001,-263.5422 424.5001,-263.5421\"/>\n</g>\n<!-- 5 -->\n<g id=\"node6\" class=\"node\">\n<title>5</title>\n<path fill=\"#f6f2fd\" stroke=\"#000000\" d=\"M180,-149.5C180,-149.5 12,-149.5 12,-149.5 6,-149.5 0,-143.5 0,-137.5 0,-137.5 0,-108.5 0,-108.5 0,-102.5 6,-96.5 12,-96.5 12,-96.5 180,-96.5 180,-96.5 186,-96.5 192,-102.5 192,-108.5 192,-108.5 192,-137.5 192,-137.5 192,-143.5 186,-149.5 180,-149.5\"/>\n<text text-anchor=\"middle\" x=\"96\" y=\"-134.3\" font-family=\"Helvetica,sans-Serif\" font-size=\"14.00\" fill=\"#000000\">samples = 8.0%</text>\n<text text-anchor=\"middle\" x=\"96\" y=\"-119.3\" font-family=\"Helvetica,sans-Serif\" font-size=\"14.00\" fill=\"#000000\">value = [0.46, 0.042, 0.497]</text>\n<text text-anchor=\"middle\" x=\"96\" y=\"-104.3\" font-family=\"Helvetica,sans-Serif\" font-size=\"14.00\" fill=\"#000000\">class = non functional</text>\n</g>\n<!-- 4&#45;&gt;5 -->\n<g id=\"edge5\" class=\"edge\">\n<title>4&#45;&gt;5</title>\n<path fill=\"none\" stroke=\"#000000\" d=\"M167.9642,-192.9465C155.9516,-181.2707 142.5234,-168.219 130.5496,-156.5809\"/>\n<polygon fill=\"#000000\" stroke=\"#000000\" points=\"132.9182,-154.0022 123.3078,-149.5422 128.0393,-159.0218 132.9182,-154.0022\"/>\n</g>\n<!-- 6 -->\n<g id=\"node7\" class=\"node\">\n<title>6</title>\n<path fill=\"#fbede3\" stroke=\"#000000\" d=\"M398,-149.5C398,-149.5 222,-149.5 222,-149.5 216,-149.5 210,-143.5 210,-137.5 210,-137.5 210,-108.5 210,-108.5 210,-102.5 216,-96.5 222,-96.5 222,-96.5 398,-96.5 398,-96.5 404,-96.5 410,-102.5 410,-108.5 410,-108.5 410,-137.5 410,-137.5 410,-143.5 404,-149.5 398,-149.5\"/>\n<text text-anchor=\"middle\" x=\"310\" y=\"-134.3\" font-family=\"Helvetica,sans-Serif\" font-size=\"14.00\" fill=\"#000000\">samples = 0.8%</text>\n<text text-anchor=\"middle\" x=\"310\" y=\"-119.3\" font-family=\"Helvetica,sans-Serif\" font-size=\"14.00\" fill=\"#000000\">value = [0.476, 0.135, 0.389]</text>\n<text text-anchor=\"middle\" x=\"310\" y=\"-104.3\" font-family=\"Helvetica,sans-Serif\" font-size=\"14.00\" fill=\"#000000\">class = functional</text>\n</g>\n<!-- 4&#45;&gt;6 -->\n<g id=\"edge6\" class=\"edge\">\n<title>4&#45;&gt;6</title>\n<path fill=\"none\" stroke=\"#000000\" d=\"M238.0358,-192.9465C250.0484,-181.2707 263.4766,-168.219 275.4504,-156.5809\"/>\n<polygon fill=\"#000000\" stroke=\"#000000\" points=\"277.9607,-159.0218 282.6922,-149.5422 273.0818,-154.0022 277.9607,-159.0218\"/>\n</g>\n<!-- 9 -->\n<g id=\"node10\" class=\"node\">\n<title>9</title>\n<path fill=\"#f6d4bb\" stroke=\"#000000\" d=\"M727,-253.5C727,-253.5 551,-253.5 551,-253.5 545,-253.5 539,-247.5 539,-241.5 539,-241.5 539,-212.5 539,-212.5 539,-206.5 545,-200.5 551,-200.5 551,-200.5 727,-200.5 727,-200.5 733,-200.5 739,-206.5 739,-212.5 739,-212.5 739,-241.5 739,-241.5 739,-247.5 733,-253.5 727,-253.5\"/>\n<text text-anchor=\"middle\" x=\"639\" y=\"-238.3\" font-family=\"Helvetica,sans-Serif\" font-size=\"14.00\" fill=\"#000000\">samples = 0.5%</text>\n<text text-anchor=\"middle\" x=\"639\" y=\"-223.3\" font-family=\"Helvetica,sans-Serif\" font-size=\"14.00\" fill=\"#000000\">value = [0.512, 0.232, 0.256]</text>\n<text text-anchor=\"middle\" x=\"639\" y=\"-208.3\" font-family=\"Helvetica,sans-Serif\" font-size=\"14.00\" fill=\"#000000\">class = functional</text>\n</g>\n<!-- 8&#45;&gt;9 -->\n<g id=\"edge9\" class=\"edge\">\n<title>8&#45;&gt;9</title>\n<path fill=\"none\" stroke=\"#000000\" d=\"M639,-296.9465C639,-286.2621 639,-274.4254 639,-263.5742\"/>\n<polygon fill=\"#000000\" stroke=\"#000000\" points=\"642.5001,-263.5421 639,-253.5422 635.5001,-263.5422 642.5001,-263.5421\"/>\n</g>\n<!-- 10 -->\n<g id=\"node11\" class=\"node\">\n<title>10</title>\n<path fill=\"#f6d2b8\" stroke=\"#000000\" d=\"M945,-261C945,-261 769,-261 769,-261 763,-261 757,-255 757,-249 757,-249 757,-205 757,-205 757,-199 763,-193 769,-193 769,-193 945,-193 945,-193 951,-193 957,-199 957,-205 957,-205 957,-249 957,-249 957,-255 951,-261 945,-261\"/>\n<text text-anchor=\"middle\" x=\"857\" y=\"-245.8\" font-family=\"Helvetica,sans-Serif\" font-size=\"14.00\" fill=\"#000000\">water_quality &lt;= 6.5</text>\n<text text-anchor=\"middle\" x=\"857\" y=\"-230.8\" font-family=\"Helvetica,sans-Serif\" font-size=\"14.00\" fill=\"#000000\">samples = 1.9%</text>\n<text text-anchor=\"middle\" x=\"857\" y=\"-215.8\" font-family=\"Helvetica,sans-Serif\" font-size=\"14.00\" fill=\"#000000\">value = [0.599, 0.028, 0.374]</text>\n<text text-anchor=\"middle\" x=\"857\" y=\"-200.8\" font-family=\"Helvetica,sans-Serif\" font-size=\"14.00\" fill=\"#000000\">class = functional</text>\n</g>\n<!-- 8&#45;&gt;10 -->\n<g id=\"edge10\" class=\"edge\">\n<title>8&#45;&gt;10</title>\n<path fill=\"none\" stroke=\"#000000\" d=\"M710.3814,-296.9465C731.4602,-286.8906 754.6784,-275.814 776.3003,-265.4989\"/>\n<polygon fill=\"#000000\" stroke=\"#000000\" points=\"777.9398,-268.5948 785.4583,-261.13 774.9257,-262.2769 777.9398,-268.5948\"/>\n</g>\n<!-- 11 -->\n<g id=\"node12\" class=\"node\">\n<title>11</title>\n<path fill=\"#f8dfcc\" stroke=\"#000000\" d=\"M836,-149.5C836,-149.5 660,-149.5 660,-149.5 654,-149.5 648,-143.5 648,-137.5 648,-137.5 648,-108.5 648,-108.5 648,-102.5 654,-96.5 660,-96.5 660,-96.5 836,-96.5 836,-96.5 842,-96.5 848,-102.5 848,-108.5 848,-108.5 848,-137.5 848,-137.5 848,-143.5 842,-149.5 836,-149.5\"/>\n<text text-anchor=\"middle\" x=\"748\" y=\"-134.3\" font-family=\"Helvetica,sans-Serif\" font-size=\"14.00\" fill=\"#000000\">samples = 1.4%</text>\n<text text-anchor=\"middle\" x=\"748\" y=\"-119.3\" font-family=\"Helvetica,sans-Serif\" font-size=\"14.00\" fill=\"#000000\">value = [0.568, 0.014, 0.419]</text>\n<text text-anchor=\"middle\" x=\"748\" y=\"-104.3\" font-family=\"Helvetica,sans-Serif\" font-size=\"14.00\" fill=\"#000000\">class = functional</text>\n</g>\n<!-- 10&#45;&gt;11 -->\n<g id=\"edge11\" class=\"edge\">\n<title>10&#45;&gt;11</title>\n<path fill=\"none\" stroke=\"#000000\" d=\"M821.3093,-192.9465C809.0722,-181.2707 795.393,-168.219 783.1954,-156.5809\"/>\n<polygon fill=\"#000000\" stroke=\"#000000\" points=\"785.4694,-153.9131 775.8182,-149.5422 780.6372,-158.9777 785.4694,-153.9131\"/>\n</g>\n<!-- 12 -->\n<g id=\"node13\" class=\"node\">\n<title>12</title>\n<path fill=\"#efb185\" stroke=\"#000000\" d=\"M1054,-157C1054,-157 878,-157 878,-157 872,-157 866,-151 866,-145 866,-145 866,-101 866,-101 866,-95 872,-89 878,-89 878,-89 1054,-89 1054,-89 1060,-89 1066,-95 1066,-101 1066,-101 1066,-145 1066,-145 1066,-151 1060,-157 1054,-157\"/>\n<text text-anchor=\"middle\" x=\"966\" y=\"-141.8\" font-family=\"Helvetica,sans-Serif\" font-size=\"14.00\" fill=\"#000000\">water_quality &lt;= 7.5</text>\n<text text-anchor=\"middle\" x=\"966\" y=\"-126.8\" font-family=\"Helvetica,sans-Serif\" font-size=\"14.00\" fill=\"#000000\">samples = 0.4%</text>\n<text text-anchor=\"middle\" x=\"966\" y=\"-111.8\" font-family=\"Helvetica,sans-Serif\" font-size=\"14.00\" fill=\"#000000\">value = [0.701, 0.075, 0.224]</text>\n<text text-anchor=\"middle\" x=\"966\" y=\"-96.8\" font-family=\"Helvetica,sans-Serif\" font-size=\"14.00\" fill=\"#000000\">class = functional</text>\n</g>\n<!-- 10&#45;&gt;12 -->\n<g id=\"edge12\" class=\"edge\">\n<title>10&#45;&gt;12</title>\n<path fill=\"none\" stroke=\"#000000\" d=\"M892.6907,-192.9465C902.2891,-183.7884 912.7747,-173.7838 922.7366,-164.2788\"/>\n<polygon fill=\"#000000\" stroke=\"#000000\" points=\"925.4102,-166.5655 930.2291,-157.13 920.5779,-161.5009 925.4102,-166.5655\"/>\n</g>\n<!-- 13 -->\n<g id=\"node14\" class=\"node\">\n<title>13</title>\n<path fill=\"#eda978\" stroke=\"#000000\" d=\"M947,-53C947,-53 779,-53 779,-53 773,-53 767,-47 767,-41 767,-41 767,-12 767,-12 767,-6 773,0 779,0 779,0 947,0 947,0 953,0 959,-6 959,-12 959,-12 959,-41 959,-41 959,-47 953,-53 947,-53\"/>\n<text text-anchor=\"middle\" x=\"863\" y=\"-37.8\" font-family=\"Helvetica,sans-Serif\" font-size=\"14.00\" fill=\"#000000\">samples = 0.4%</text>\n<text text-anchor=\"middle\" x=\"863\" y=\"-22.8\" font-family=\"Helvetica,sans-Serif\" font-size=\"14.00\" fill=\"#000000\">value = [0.738, 0.082, 0.18]</text>\n<text text-anchor=\"middle\" x=\"863\" y=\"-7.8\" font-family=\"Helvetica,sans-Serif\" font-size=\"14.00\" fill=\"#000000\">class = functional</text>\n</g>\n<!-- 12&#45;&gt;13 -->\n<g id=\"edge13\" class=\"edge\">\n<title>12&#45;&gt;13</title>\n<path fill=\"none\" stroke=\"#000000\" d=\"M929.6861,-88.9777C919.7168,-79.6376 908.9138,-69.5163 898.9643,-60.1947\"/>\n<polygon fill=\"#000000\" stroke=\"#000000\" points=\"901.2408,-57.5314 891.5502,-53.2485 896.4548,-62.6397 901.2408,-57.5314\"/>\n</g>\n<!-- 14 -->\n<g id=\"node15\" class=\"node\">\n<title>14</title>\n<path fill=\"#c09cf2\" stroke=\"#000000\" d=\"M1149,-53C1149,-53 989,-53 989,-53 983,-53 977,-47 977,-41 977,-41 977,-12 977,-12 977,-6 983,0 989,0 989,0 1149,0 1149,0 1155,0 1161,-6 1161,-12 1161,-12 1161,-41 1161,-41 1161,-47 1155,-53 1149,-53\"/>\n<text text-anchor=\"middle\" x=\"1069\" y=\"-37.8\" font-family=\"Helvetica,sans-Serif\" font-size=\"14.00\" fill=\"#000000\">samples = 0.0%</text>\n<text text-anchor=\"middle\" x=\"1069\" y=\"-22.8\" font-family=\"Helvetica,sans-Serif\" font-size=\"14.00\" fill=\"#000000\">value = [0.333, 0.0, 0.667]</text>\n<text text-anchor=\"middle\" x=\"1069\" y=\"-7.8\" font-family=\"Helvetica,sans-Serif\" font-size=\"14.00\" fill=\"#000000\">class = non functional</text>\n</g>\n<!-- 12&#45;&gt;14 -->\n<g id=\"edge14\" class=\"edge\">\n<title>12&#45;&gt;14</title>\n<path fill=\"none\" stroke=\"#000000\" d=\"M1002.3139,-88.9777C1012.2832,-79.6376 1023.0862,-69.5163 1033.0357,-60.1947\"/>\n<polygon fill=\"#000000\" stroke=\"#000000\" points=\"1035.5452,-62.6397 1040.4498,-53.2485 1030.7592,-57.5314 1035.5452,-62.6397\"/>\n</g>\n</g>\n</svg>\n"
          },
          "metadata": {
            "tags": []
          }
        }
      ]
    },
    {
      "cell_type": "code",
      "metadata": {
        "id": "Ap4so86suu1G",
        "colab_type": "code",
        "colab": {
          "base_uri": "https://localhost:8080/",
          "height": 51
        },
        "outputId": "8d40f108-c1cb-4481-f646-38c16bb27f89"
      },
      "source": [
        "y_pred = pipeline.predict(X_test)\n",
        "y_pred"
      ],
      "execution_count": 33,
      "outputs": [
        {
          "output_type": "execute_result",
          "data": {
            "text/plain": [
              "array(['functional', 'functional needs repair', 'functional', ...,\n",
              "       'functional', 'functional', 'non functional'], dtype=object)"
            ]
          },
          "metadata": {
            "tags": []
          },
          "execution_count": 33
        }
      ]
    },
    {
      "cell_type": "code",
      "metadata": {
        "id": "Q7pFO--UvKkk",
        "colab_type": "code",
        "colab": {}
      },
      "source": [
        "DATA_PATH = 'https://raw.githubusercontent.com/LambdaSchool/DS-Unit-2-Kaggle-Challenge/master/data/'\n",
        "sample_submission = pd.read_csv(DATA_PATH+'waterpumps/sample_submission.csv')\n",
        "submission = sample_submission.copy()\n",
        "submission['status_group'] = y_pred\n",
        "submission.to_csv('your-submission-filename.csv', index=False)"
      ],
      "execution_count": 34,
      "outputs": []
    },
    {
      "cell_type": "code",
      "metadata": {
        "id": "qj8fiX5hvNJo",
        "colab_type": "code",
        "colab": {
          "base_uri": "https://localhost:8080/",
          "height": 17
        },
        "outputId": "4be3cf38-dcc7-449a-8e7f-a1f1225ba4d6"
      },
      "source": [
        "from google.colab import files\n",
        "files.download('your-submission-filename.csv')"
      ],
      "execution_count": 35,
      "outputs": [
        {
          "output_type": "display_data",
          "data": {
            "application/javascript": [
              "\n",
              "    async function download(id, filename, size) {\n",
              "      if (!google.colab.kernel.accessAllowed) {\n",
              "        return;\n",
              "      }\n",
              "      const div = document.createElement('div');\n",
              "      const label = document.createElement('label');\n",
              "      label.textContent = `Downloading \"${filename}\": `;\n",
              "      div.appendChild(label);\n",
              "      const progress = document.createElement('progress');\n",
              "      progress.max = size;\n",
              "      div.appendChild(progress);\n",
              "      document.body.appendChild(div);\n",
              "\n",
              "      const buffers = [];\n",
              "      let downloaded = 0;\n",
              "\n",
              "      const channel = await google.colab.kernel.comms.open(id);\n",
              "      // Send a message to notify the kernel that we're ready.\n",
              "      channel.send({})\n",
              "\n",
              "      for await (const message of channel.messages) {\n",
              "        // Send a message to notify the kernel that we're ready.\n",
              "        channel.send({})\n",
              "        if (message.buffers) {\n",
              "          for (const buffer of message.buffers) {\n",
              "            buffers.push(buffer);\n",
              "            downloaded += buffer.byteLength;\n",
              "            progress.value = downloaded;\n",
              "          }\n",
              "        }\n",
              "      }\n",
              "      const blob = new Blob(buffers, {type: 'application/binary'});\n",
              "      const a = document.createElement('a');\n",
              "      a.href = window.URL.createObjectURL(blob);\n",
              "      a.download = filename;\n",
              "      div.appendChild(a);\n",
              "      a.click();\n",
              "      div.remove();\n",
              "    }\n",
              "  "
            ],
            "text/plain": [
              "<IPython.core.display.Javascript object>"
            ]
          },
          "metadata": {
            "tags": []
          }
        },
        {
          "output_type": "display_data",
          "data": {
            "application/javascript": [
              "download(\"download_c796e676-6492-4a0f-bfd5-d13e3911eac1\", \"your-submission-filename.csv\", 269559)"
            ],
            "text/plain": [
              "<IPython.core.display.Javascript object>"
            ]
          },
          "metadata": {
            "tags": []
          }
        }
      ]
    },
    {
      "cell_type": "code",
      "metadata": {
        "id": "vlNwUxbAvPFb",
        "colab_type": "code",
        "colab": {}
      },
      "source": [
        ""
      ],
      "execution_count": null,
      "outputs": []
    }
  ]
}