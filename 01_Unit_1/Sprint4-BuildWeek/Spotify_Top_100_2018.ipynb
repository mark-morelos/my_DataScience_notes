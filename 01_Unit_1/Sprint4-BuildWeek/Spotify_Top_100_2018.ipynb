{
  "nbformat": 4,
  "nbformat_minor": 0,
  "metadata": {
    "colab": {
      "name": "Spotify Top 100_2018.ipynb",
      "provenance": [],
      "authorship_tag": "ABX9TyMFTKS3qraHBKt6+TQoeBol",
      "include_colab_link": true
    },
    "kernelspec": {
      "name": "python3",
      "display_name": "Python 3"
    }
  },
  "cells": [
    {
      "cell_type": "markdown",
      "metadata": {
        "id": "view-in-github",
        "colab_type": "text"
      },
      "source": [
        "<a href=\"https://colab.research.google.com/github/mark-morelos/mark-morelos.github.io/blob/master/Spotify_Top_100_2018.ipynb\" target=\"_parent\"><img src=\"https://colab.research.google.com/assets/colab-badge.svg\" alt=\"Open In Colab\"/></a>"
      ]
    },
    {
      "cell_type": "markdown",
      "metadata": {
        "id": "CvVSjIOfsydW",
        "colab_type": "text"
      },
      "source": [
        "**What does it take to be at the Spotify Top 100?**"
      ]
    },
    {
      "cell_type": "code",
      "metadata": {
        "id": "8F2Cd2jGHijs",
        "colab_type": "code",
        "colab": {
          "base_uri": "https://localhost:8080/",
          "height": 71
        },
        "outputId": "e6904a07-2075-4446-d87b-9acf90c4a3cb"
      },
      "source": [
        "# imports\n",
        "import pandas as pd\n",
        "import numpy as np\n",
        "import matplotlib.pyplot as plt\n",
        "import seaborn as sns\n",
        "from scipy.stats import pearsonr\n",
        "%matplotlib inline"
      ],
      "execution_count": 2,
      "outputs": [
        {
          "output_type": "stream",
          "text": [
            "/usr/local/lib/python3.6/dist-packages/statsmodels/tools/_testing.py:19: FutureWarning: pandas.util.testing is deprecated. Use the functions in the public API at pandas.testing instead.\n",
            "  import pandas.util.testing as tm\n"
          ],
          "name": "stderr"
        }
      ]
    },
    {
      "cell_type": "code",
      "metadata": {
        "id": "AGyPULSfFqQ4",
        "colab_type": "code",
        "colab": {
          "base_uri": "https://localhost:8080/",
          "height": 343
        },
        "outputId": "1e7b4521-b945-4b70-c408-239604c4d042"
      },
      "source": [
        "# loading dataset from local machine and checking first 5 data\n",
        "spotify = pd.read_csv('sample_data/116709_279414_bundle_archive.zip')\n",
        "spotify.head()"
      ],
      "execution_count": 3,
      "outputs": [
        {
          "output_type": "execute_result",
          "data": {
            "text/html": [
              "<div>\n",
              "<style scoped>\n",
              "    .dataframe tbody tr th:only-of-type {\n",
              "        vertical-align: middle;\n",
              "    }\n",
              "\n",
              "    .dataframe tbody tr th {\n",
              "        vertical-align: top;\n",
              "    }\n",
              "\n",
              "    .dataframe thead th {\n",
              "        text-align: right;\n",
              "    }\n",
              "</style>\n",
              "<table border=\"1\" class=\"dataframe\">\n",
              "  <thead>\n",
              "    <tr style=\"text-align: right;\">\n",
              "      <th></th>\n",
              "      <th>id</th>\n",
              "      <th>name</th>\n",
              "      <th>artists</th>\n",
              "      <th>danceability</th>\n",
              "      <th>energy</th>\n",
              "      <th>key</th>\n",
              "      <th>loudness</th>\n",
              "      <th>mode</th>\n",
              "      <th>speechiness</th>\n",
              "      <th>acousticness</th>\n",
              "      <th>instrumentalness</th>\n",
              "      <th>liveness</th>\n",
              "      <th>valence</th>\n",
              "      <th>tempo</th>\n",
              "      <th>duration_ms</th>\n",
              "      <th>time_signature</th>\n",
              "    </tr>\n",
              "  </thead>\n",
              "  <tbody>\n",
              "    <tr>\n",
              "      <th>0</th>\n",
              "      <td>6DCZcSspjsKoFjzjrWoCd</td>\n",
              "      <td>God's Plan</td>\n",
              "      <td>Drake</td>\n",
              "      <td>0.754</td>\n",
              "      <td>0.449</td>\n",
              "      <td>7.0</td>\n",
              "      <td>-9.211</td>\n",
              "      <td>1.0</td>\n",
              "      <td>0.1090</td>\n",
              "      <td>0.0332</td>\n",
              "      <td>0.000083</td>\n",
              "      <td>0.552</td>\n",
              "      <td>0.357</td>\n",
              "      <td>77.169</td>\n",
              "      <td>198973.0</td>\n",
              "      <td>4.0</td>\n",
              "    </tr>\n",
              "    <tr>\n",
              "      <th>1</th>\n",
              "      <td>3ee8Jmje8o58CHK66QrVC</td>\n",
              "      <td>SAD!</td>\n",
              "      <td>XXXTENTACION</td>\n",
              "      <td>0.740</td>\n",
              "      <td>0.613</td>\n",
              "      <td>8.0</td>\n",
              "      <td>-4.880</td>\n",
              "      <td>1.0</td>\n",
              "      <td>0.1450</td>\n",
              "      <td>0.2580</td>\n",
              "      <td>0.003720</td>\n",
              "      <td>0.123</td>\n",
              "      <td>0.473</td>\n",
              "      <td>75.023</td>\n",
              "      <td>166606.0</td>\n",
              "      <td>4.0</td>\n",
              "    </tr>\n",
              "    <tr>\n",
              "      <th>2</th>\n",
              "      <td>0e7ipj03S05BNilyu5bRz</td>\n",
              "      <td>rockstar (feat. 21 Savage)</td>\n",
              "      <td>Post Malone</td>\n",
              "      <td>0.587</td>\n",
              "      <td>0.535</td>\n",
              "      <td>5.0</td>\n",
              "      <td>-6.090</td>\n",
              "      <td>0.0</td>\n",
              "      <td>0.0898</td>\n",
              "      <td>0.1170</td>\n",
              "      <td>0.000066</td>\n",
              "      <td>0.131</td>\n",
              "      <td>0.140</td>\n",
              "      <td>159.847</td>\n",
              "      <td>218147.0</td>\n",
              "      <td>4.0</td>\n",
              "    </tr>\n",
              "    <tr>\n",
              "      <th>3</th>\n",
              "      <td>3swc6WTsr7rl9DqQKQA55</td>\n",
              "      <td>Psycho (feat. Ty Dolla $ign)</td>\n",
              "      <td>Post Malone</td>\n",
              "      <td>0.739</td>\n",
              "      <td>0.559</td>\n",
              "      <td>8.0</td>\n",
              "      <td>-8.011</td>\n",
              "      <td>1.0</td>\n",
              "      <td>0.1170</td>\n",
              "      <td>0.5800</td>\n",
              "      <td>0.000000</td>\n",
              "      <td>0.112</td>\n",
              "      <td>0.439</td>\n",
              "      <td>140.124</td>\n",
              "      <td>221440.0</td>\n",
              "      <td>4.0</td>\n",
              "    </tr>\n",
              "    <tr>\n",
              "      <th>4</th>\n",
              "      <td>2G7V7zsVDxg1yRsu7Ew9R</td>\n",
              "      <td>In My Feelings</td>\n",
              "      <td>Drake</td>\n",
              "      <td>0.835</td>\n",
              "      <td>0.626</td>\n",
              "      <td>1.0</td>\n",
              "      <td>-5.833</td>\n",
              "      <td>1.0</td>\n",
              "      <td>0.1250</td>\n",
              "      <td>0.0589</td>\n",
              "      <td>0.000060</td>\n",
              "      <td>0.396</td>\n",
              "      <td>0.350</td>\n",
              "      <td>91.030</td>\n",
              "      <td>217925.0</td>\n",
              "      <td>4.0</td>\n",
              "    </tr>\n",
              "  </tbody>\n",
              "</table>\n",
              "</div>"
            ],
            "text/plain": [
              "                      id  ... time_signature\n",
              "0  6DCZcSspjsKoFjzjrWoCd  ...            4.0\n",
              "1  3ee8Jmje8o58CHK66QrVC  ...            4.0\n",
              "2  0e7ipj03S05BNilyu5bRz  ...            4.0\n",
              "3  3swc6WTsr7rl9DqQKQA55  ...            4.0\n",
              "4  2G7V7zsVDxg1yRsu7Ew9R  ...            4.0\n",
              "\n",
              "[5 rows x 16 columns]"
            ]
          },
          "metadata": {
            "tags": []
          },
          "execution_count": 3
        }
      ]
    },
    {
      "cell_type": "code",
      "metadata": {
        "id": "SvDgSQngIclO",
        "colab_type": "code",
        "colab": {
          "base_uri": "https://localhost:8080/",
          "height": 317
        },
        "outputId": "e5cffbf8-7c9d-4ea8-ff58-2db4ec773354"
      },
      "source": [
        "spotify.describe()"
      ],
      "execution_count": 4,
      "outputs": [
        {
          "output_type": "execute_result",
          "data": {
            "text/html": [
              "<div>\n",
              "<style scoped>\n",
              "    .dataframe tbody tr th:only-of-type {\n",
              "        vertical-align: middle;\n",
              "    }\n",
              "\n",
              "    .dataframe tbody tr th {\n",
              "        vertical-align: top;\n",
              "    }\n",
              "\n",
              "    .dataframe thead th {\n",
              "        text-align: right;\n",
              "    }\n",
              "</style>\n",
              "<table border=\"1\" class=\"dataframe\">\n",
              "  <thead>\n",
              "    <tr style=\"text-align: right;\">\n",
              "      <th></th>\n",
              "      <th>danceability</th>\n",
              "      <th>energy</th>\n",
              "      <th>key</th>\n",
              "      <th>loudness</th>\n",
              "      <th>mode</th>\n",
              "      <th>speechiness</th>\n",
              "      <th>acousticness</th>\n",
              "      <th>instrumentalness</th>\n",
              "      <th>liveness</th>\n",
              "      <th>valence</th>\n",
              "      <th>tempo</th>\n",
              "      <th>duration_ms</th>\n",
              "      <th>time_signature</th>\n",
              "    </tr>\n",
              "  </thead>\n",
              "  <tbody>\n",
              "    <tr>\n",
              "      <th>count</th>\n",
              "      <td>100.00000</td>\n",
              "      <td>100.000000</td>\n",
              "      <td>100.000000</td>\n",
              "      <td>100.000000</td>\n",
              "      <td>100.000000</td>\n",
              "      <td>100.000000</td>\n",
              "      <td>100.000000</td>\n",
              "      <td>100.000000</td>\n",
              "      <td>100.000000</td>\n",
              "      <td>100.000000</td>\n",
              "      <td>100.000000</td>\n",
              "      <td>100.000000</td>\n",
              "      <td>100.00</td>\n",
              "    </tr>\n",
              "    <tr>\n",
              "      <th>mean</th>\n",
              "      <td>0.71646</td>\n",
              "      <td>0.659060</td>\n",
              "      <td>5.330000</td>\n",
              "      <td>-5.677640</td>\n",
              "      <td>0.590000</td>\n",
              "      <td>0.115569</td>\n",
              "      <td>0.195701</td>\n",
              "      <td>0.001584</td>\n",
              "      <td>0.158302</td>\n",
              "      <td>0.484443</td>\n",
              "      <td>119.904180</td>\n",
              "      <td>205206.780000</td>\n",
              "      <td>3.98</td>\n",
              "    </tr>\n",
              "    <tr>\n",
              "      <th>std</th>\n",
              "      <td>0.13107</td>\n",
              "      <td>0.145067</td>\n",
              "      <td>3.676447</td>\n",
              "      <td>1.777577</td>\n",
              "      <td>0.494311</td>\n",
              "      <td>0.104527</td>\n",
              "      <td>0.220946</td>\n",
              "      <td>0.013449</td>\n",
              "      <td>0.111662</td>\n",
              "      <td>0.206145</td>\n",
              "      <td>28.795984</td>\n",
              "      <td>40007.893404</td>\n",
              "      <td>0.20</td>\n",
              "    </tr>\n",
              "    <tr>\n",
              "      <th>min</th>\n",
              "      <td>0.25800</td>\n",
              "      <td>0.296000</td>\n",
              "      <td>0.000000</td>\n",
              "      <td>-10.109000</td>\n",
              "      <td>0.000000</td>\n",
              "      <td>0.023200</td>\n",
              "      <td>0.000282</td>\n",
              "      <td>0.000000</td>\n",
              "      <td>0.021500</td>\n",
              "      <td>0.079600</td>\n",
              "      <td>64.934000</td>\n",
              "      <td>95467.000000</td>\n",
              "      <td>3.00</td>\n",
              "    </tr>\n",
              "    <tr>\n",
              "      <th>25%</th>\n",
              "      <td>0.63550</td>\n",
              "      <td>0.562000</td>\n",
              "      <td>1.750000</td>\n",
              "      <td>-6.650500</td>\n",
              "      <td>0.000000</td>\n",
              "      <td>0.045350</td>\n",
              "      <td>0.040225</td>\n",
              "      <td>0.000000</td>\n",
              "      <td>0.094675</td>\n",
              "      <td>0.341000</td>\n",
              "      <td>95.730750</td>\n",
              "      <td>184680.000000</td>\n",
              "      <td>4.00</td>\n",
              "    </tr>\n",
              "    <tr>\n",
              "      <th>50%</th>\n",
              "      <td>0.73300</td>\n",
              "      <td>0.678000</td>\n",
              "      <td>5.000000</td>\n",
              "      <td>-5.566500</td>\n",
              "      <td>1.000000</td>\n",
              "      <td>0.074950</td>\n",
              "      <td>0.109000</td>\n",
              "      <td>0.000000</td>\n",
              "      <td>0.118500</td>\n",
              "      <td>0.470500</td>\n",
              "      <td>120.116000</td>\n",
              "      <td>205047.500000</td>\n",
              "      <td>4.00</td>\n",
              "    </tr>\n",
              "    <tr>\n",
              "      <th>75%</th>\n",
              "      <td>0.79825</td>\n",
              "      <td>0.772250</td>\n",
              "      <td>8.250000</td>\n",
              "      <td>-4.363750</td>\n",
              "      <td>1.000000</td>\n",
              "      <td>0.137000</td>\n",
              "      <td>0.247750</td>\n",
              "      <td>0.000031</td>\n",
              "      <td>0.170750</td>\n",
              "      <td>0.641500</td>\n",
              "      <td>140.022750</td>\n",
              "      <td>221493.250000</td>\n",
              "      <td>4.00</td>\n",
              "    </tr>\n",
              "    <tr>\n",
              "      <th>max</th>\n",
              "      <td>0.96400</td>\n",
              "      <td>0.909000</td>\n",
              "      <td>11.000000</td>\n",
              "      <td>-2.384000</td>\n",
              "      <td>1.000000</td>\n",
              "      <td>0.530000</td>\n",
              "      <td>0.934000</td>\n",
              "      <td>0.134000</td>\n",
              "      <td>0.636000</td>\n",
              "      <td>0.931000</td>\n",
              "      <td>198.075000</td>\n",
              "      <td>417920.000000</td>\n",
              "      <td>5.00</td>\n",
              "    </tr>\n",
              "  </tbody>\n",
              "</table>\n",
              "</div>"
            ],
            "text/plain": [
              "       danceability      energy  ...    duration_ms  time_signature\n",
              "count     100.00000  100.000000  ...     100.000000          100.00\n",
              "mean        0.71646    0.659060  ...  205206.780000            3.98\n",
              "std         0.13107    0.145067  ...   40007.893404            0.20\n",
              "min         0.25800    0.296000  ...   95467.000000            3.00\n",
              "25%         0.63550    0.562000  ...  184680.000000            4.00\n",
              "50%         0.73300    0.678000  ...  205047.500000            4.00\n",
              "75%         0.79825    0.772250  ...  221493.250000            4.00\n",
              "max         0.96400    0.909000  ...  417920.000000            5.00\n",
              "\n",
              "[8 rows x 13 columns]"
            ]
          },
          "metadata": {
            "tags": []
          },
          "execution_count": 4
        }
      ]
    },
    {
      "cell_type": "code",
      "metadata": {
        "id": "XEmGyhgxJLqP",
        "colab_type": "code",
        "colab": {
          "base_uri": "https://localhost:8080/",
          "height": 306
        },
        "outputId": "19ae22bf-c5f4-4bbc-9ee6-b4b75d363f56"
      },
      "source": [
        "# checking for errors\n",
        "spotify.isnull().sum()"
      ],
      "execution_count": 5,
      "outputs": [
        {
          "output_type": "execute_result",
          "data": {
            "text/plain": [
              "id                  0\n",
              "name                0\n",
              "artists             0\n",
              "danceability        0\n",
              "energy              0\n",
              "key                 0\n",
              "loudness            0\n",
              "mode                0\n",
              "speechiness         0\n",
              "acousticness        0\n",
              "instrumentalness    0\n",
              "liveness            0\n",
              "valence             0\n",
              "tempo               0\n",
              "duration_ms         0\n",
              "time_signature      0\n",
              "dtype: int64"
            ]
          },
          "metadata": {
            "tags": []
          },
          "execution_count": 5
        }
      ]
    },
    {
      "cell_type": "code",
      "metadata": {
        "id": "RGeCAAdFJW_r",
        "colab_type": "code",
        "colab": {
          "base_uri": "https://localhost:8080/",
          "height": 306
        },
        "outputId": "9675bf66-7d81-4ee3-db6d-882f1cd9d307"
      },
      "source": [
        "spotify.dtypes"
      ],
      "execution_count": 6,
      "outputs": [
        {
          "output_type": "execute_result",
          "data": {
            "text/plain": [
              "id                   object\n",
              "name                 object\n",
              "artists              object\n",
              "danceability        float64\n",
              "energy              float64\n",
              "key                 float64\n",
              "loudness            float64\n",
              "mode                float64\n",
              "speechiness         float64\n",
              "acousticness        float64\n",
              "instrumentalness    float64\n",
              "liveness            float64\n",
              "valence             float64\n",
              "tempo               float64\n",
              "duration_ms         float64\n",
              "time_signature      float64\n",
              "dtype: object"
            ]
          },
          "metadata": {
            "tags": []
          },
          "execution_count": 6
        }
      ]
    },
    {
      "cell_type": "code",
      "metadata": {
        "id": "Yw35HixGJr5W",
        "colab_type": "code",
        "colab": {
          "base_uri": "https://localhost:8080/",
          "height": 204
        },
        "outputId": "0ae99996-8da9-499a-8121-d505dc4b7223"
      },
      "source": [
        "# Top 10 Artists with most music in the Top 100\n",
        "spotify['artists'].value_counts().head(10)"
      ],
      "execution_count": 7,
      "outputs": [
        {
          "output_type": "execute_result",
          "data": {
            "text/plain": [
              "XXXTENTACION       6\n",
              "Post Malone        6\n",
              "Drake              4\n",
              "Ed Sheeran         3\n",
              "Marshmello         3\n",
              "Camila Cabello     2\n",
              "Kendrick Lamar     2\n",
              "Khalid             2\n",
              "The Weeknd         2\n",
              "Imagine Dragons    2\n",
              "Name: artists, dtype: int64"
            ]
          },
          "metadata": {
            "tags": []
          },
          "execution_count": 7
        }
      ]
    },
    {
      "cell_type": "code",
      "metadata": {
        "id": "122ZcckIk76V",
        "colab_type": "code",
        "colab": {
          "base_uri": "https://localhost:8080/",
          "height": 136
        },
        "outputId": "e3768f5b-551b-403b-eaf5-4f00aa2738f2"
      },
      "source": [
        "# Classification according to Tempo: this is measured to beats per minute (bpm)\n",
        "spotify.loc[spotify['tempo']>200,'Tempo_Class']='prestissimo'\n",
        "spotify.loc[(spotify['tempo']>=168) & (spotify['tempo']<=200), 'Tempo_Class']='presto'\n",
        "spotify.loc[(spotify['tempo']>=120) & (spotify['tempo']<=168), 'Tempo_Class']='allegro'\n",
        "spotify.loc[(spotify['tempo']>=108) & (spotify['tempo']<=120), 'Tempo_Class']='moderato'\n",
        "spotify.loc[(spotify['tempo']>=76) & (spotify['tempo']<=108), 'Tempo_Class']='andante'\n",
        "spotify.loc[(spotify['tempo']>=66) & (spotify['tempo']<=76), 'Tempo_Class']='adagio'\n",
        "spotify.loc[(spotify['tempo']>=60) & (spotify['tempo']<=66), 'Tempo_Class']='larghetto'\n",
        "spotify.loc[(spotify['tempo']>=40) & (spotify['tempo']<=60), 'Tempo_Class']='largo'\n",
        "spotify['Tempo_Class'].value_counts()"
      ],
      "execution_count": 8,
      "outputs": [
        {
          "output_type": "execute_result",
          "data": {
            "text/plain": [
              "andante      44\n",
              "allegro      43\n",
              "presto        7\n",
              "moderato      4\n",
              "adagio        1\n",
              "larghetto     1\n",
              "Name: Tempo_Class, dtype: int64"
            ]
          },
          "metadata": {
            "tags": []
          },
          "execution_count": 8
        }
      ]
    },
    {
      "cell_type": "code",
      "metadata": {
        "id": "lZz4avb1H_NW",
        "colab_type": "code",
        "colab": {
          "base_uri": "https://localhost:8080/",
          "height": 313
        },
        "outputId": "06db6a45-3379-43ba-9fa2-eb5a4dae8070"
      },
      "source": [
        "# It is showing that most songs (87%) have a speed between 76 - 168 bpm, not too fast and not too slow\n",
        "# between andante and allegro\n",
        "sns.set_style(style='whitegrid')\n",
        "TClass=spotify['Tempo_Class'].value_counts()\n",
        "TClass_DF=pd.DataFrame(TClass)\n",
        "sns.barplot(x=TClass_DF.Tempo_Class, y=TClass_DF.index, palette=\"pastel\")\n",
        "plt.title('Popular Tempo')"
      ],
      "execution_count": 9,
      "outputs": [
        {
          "output_type": "execute_result",
          "data": {
            "text/plain": [
              "Text(0.5, 1.0, 'Popular Tempo')"
            ]
          },
          "metadata": {
            "tags": []
          },
          "execution_count": 9
        },
        {
          "output_type": "display_data",
          "data": {
            "image/png": "[encoded data removed]",
            "text/plain": [
              "<Figure size 432x288 with 1 Axes>"
            ]
          },
          "metadata": {
            "tags": []
          }
        }
      ]
    },
    {
      "cell_type": "code",
      "metadata": {
        "id": "6k9yOg2Uc9T9",
        "colab_type": "code",
        "colab": {
          "base_uri": "https://localhost:8080/",
          "height": 34
        },
        "outputId": "f7a8407a-f1b1-4cde-c88d-1671e524c5e8"
      },
      "source": [
        "# check for mean value of tempo\n",
        "# the mean of 119.9 bpm falls under the moderato classification which is between andante and allegro\n",
        "spotify['tempo'].mean()"
      ],
      "execution_count": 22,
      "outputs": [
        {
          "output_type": "execute_result",
          "data": {
            "text/plain": [
              "119.90417999999998"
            ]
          },
          "metadata": {
            "tags": []
          },
          "execution_count": 22
        }
      ]
    },
    {
      "cell_type": "code",
      "metadata": {
        "id": "CEAHq3TKJL1L",
        "colab_type": "code",
        "colab": {
          "base_uri": "https://localhost:8080/",
          "height": 472
        },
        "outputId": "f9ada4ad-e741-4cde-8434-6a75033c4398"
      },
      "source": [
        "# finding the correlation between song features\n",
        "spotify.corr()"
      ],
      "execution_count": 10,
      "outputs": [
        {
          "output_type": "execute_result",
          "data": {
            "text/html": [
              "<div>\n",
              "<style scoped>\n",
              "    .dataframe tbody tr th:only-of-type {\n",
              "        vertical-align: middle;\n",
              "    }\n",
              "\n",
              "    .dataframe tbody tr th {\n",
              "        vertical-align: top;\n",
              "    }\n",
              "\n",
              "    .dataframe thead th {\n",
              "        text-align: right;\n",
              "    }\n",
              "</style>\n",
              "<table border=\"1\" class=\"dataframe\">\n",
              "  <thead>\n",
              "    <tr style=\"text-align: right;\">\n",
              "      <th></th>\n",
              "      <th>danceability</th>\n",
              "      <th>energy</th>\n",
              "      <th>key</th>\n",
              "      <th>loudness</th>\n",
              "      <th>mode</th>\n",
              "      <th>speechiness</th>\n",
              "      <th>acousticness</th>\n",
              "      <th>instrumentalness</th>\n",
              "      <th>liveness</th>\n",
              "      <th>valence</th>\n",
              "      <th>tempo</th>\n",
              "      <th>duration_ms</th>\n",
              "      <th>time_signature</th>\n",
              "    </tr>\n",
              "  </thead>\n",
              "  <tbody>\n",
              "    <tr>\n",
              "      <th>danceability</th>\n",
              "      <td>1.000000</td>\n",
              "      <td>-0.072582</td>\n",
              "      <td>-0.051759</td>\n",
              "      <td>0.015517</td>\n",
              "      <td>-0.058019</td>\n",
              "      <td>0.227075</td>\n",
              "      <td>-0.134374</td>\n",
              "      <td>-0.066592</td>\n",
              "      <td>-0.038761</td>\n",
              "      <td>0.413855</td>\n",
              "      <td>-0.195012</td>\n",
              "      <td>-0.068368</td>\n",
              "      <td>0.119421</td>\n",
              "    </tr>\n",
              "    <tr>\n",
              "      <th>energy</th>\n",
              "      <td>-0.072582</td>\n",
              "      <td>1.000000</td>\n",
              "      <td>-0.136345</td>\n",
              "      <td>0.732719</td>\n",
              "      <td>-0.117555</td>\n",
              "      <td>-0.073591</td>\n",
              "      <td>-0.421209</td>\n",
              "      <td>0.093684</td>\n",
              "      <td>0.050542</td>\n",
              "      <td>0.382434</td>\n",
              "      <td>0.062272</td>\n",
              "      <td>0.073017</td>\n",
              "      <td>0.255235</td>\n",
              "    </tr>\n",
              "    <tr>\n",
              "      <th>key</th>\n",
              "      <td>-0.051759</td>\n",
              "      <td>-0.136345</td>\n",
              "      <td>1.000000</td>\n",
              "      <td>-0.105309</td>\n",
              "      <td>-0.141568</td>\n",
              "      <td>0.019583</td>\n",
              "      <td>0.141590</td>\n",
              "      <td>-0.136607</td>\n",
              "      <td>-0.125443</td>\n",
              "      <td>-0.032622</td>\n",
              "      <td>0.003737</td>\n",
              "      <td>0.046144</td>\n",
              "      <td>-0.087096</td>\n",
              "    </tr>\n",
              "    <tr>\n",
              "      <th>loudness</th>\n",
              "      <td>0.015517</td>\n",
              "      <td>0.732719</td>\n",
              "      <td>-0.105309</td>\n",
              "      <td>1.000000</td>\n",
              "      <td>-0.110178</td>\n",
              "      <td>-0.252037</td>\n",
              "      <td>-0.269742</td>\n",
              "      <td>0.036248</td>\n",
              "      <td>0.000006</td>\n",
              "      <td>0.407760</td>\n",
              "      <td>-0.035156</td>\n",
              "      <td>0.265310</td>\n",
              "      <td>0.072301</td>\n",
              "    </tr>\n",
              "    <tr>\n",
              "      <th>mode</th>\n",
              "      <td>-0.058019</td>\n",
              "      <td>-0.117555</td>\n",
              "      <td>-0.141568</td>\n",
              "      <td>-0.110178</td>\n",
              "      <td>1.000000</td>\n",
              "      <td>-0.150076</td>\n",
              "      <td>-0.030028</td>\n",
              "      <td>0.089667</td>\n",
              "      <td>0.024428</td>\n",
              "      <td>-0.210599</td>\n",
              "      <td>-0.011911</td>\n",
              "      <td>0.055411</td>\n",
              "      <td>-0.083782</td>\n",
              "    </tr>\n",
              "    <tr>\n",
              "      <th>speechiness</th>\n",
              "      <td>0.227075</td>\n",
              "      <td>-0.073591</td>\n",
              "      <td>0.019583</td>\n",
              "      <td>-0.252037</td>\n",
              "      <td>-0.150076</td>\n",
              "      <td>1.000000</td>\n",
              "      <td>-0.081536</td>\n",
              "      <td>-0.069543</td>\n",
              "      <td>-0.099379</td>\n",
              "      <td>-0.051054</td>\n",
              "      <td>0.102999</td>\n",
              "      <td>-0.009856</td>\n",
              "      <td>0.235615</td>\n",
              "    </tr>\n",
              "    <tr>\n",
              "      <th>acousticness</th>\n",
              "      <td>-0.134374</td>\n",
              "      <td>-0.421209</td>\n",
              "      <td>0.141590</td>\n",
              "      <td>-0.269742</td>\n",
              "      <td>-0.030028</td>\n",
              "      <td>-0.081536</td>\n",
              "      <td>1.000000</td>\n",
              "      <td>-0.089583</td>\n",
              "      <td>-0.150177</td>\n",
              "      <td>-0.020800</td>\n",
              "      <td>-0.158013</td>\n",
              "      <td>-0.069627</td>\n",
              "      <td>-0.158935</td>\n",
              "    </tr>\n",
              "    <tr>\n",
              "      <th>instrumentalness</th>\n",
              "      <td>-0.066592</td>\n",
              "      <td>0.093684</td>\n",
              "      <td>-0.136607</td>\n",
              "      <td>0.036248</td>\n",
              "      <td>0.089667</td>\n",
              "      <td>-0.069543</td>\n",
              "      <td>-0.089583</td>\n",
              "      <td>1.000000</td>\n",
              "      <td>-0.016249</td>\n",
              "      <td>-0.095123</td>\n",
              "      <td>0.178142</td>\n",
              "      <td>-0.045873</td>\n",
              "      <td>0.011894</td>\n",
              "    </tr>\n",
              "    <tr>\n",
              "      <th>liveness</th>\n",
              "      <td>-0.038761</td>\n",
              "      <td>0.050542</td>\n",
              "      <td>-0.125443</td>\n",
              "      <td>0.000006</td>\n",
              "      <td>0.024428</td>\n",
              "      <td>-0.099379</td>\n",
              "      <td>-0.150177</td>\n",
              "      <td>-0.016249</td>\n",
              "      <td>1.000000</td>\n",
              "      <td>-0.042612</td>\n",
              "      <td>-0.107652</td>\n",
              "      <td>-0.042942</td>\n",
              "      <td>-0.079558</td>\n",
              "    </tr>\n",
              "    <tr>\n",
              "      <th>valence</th>\n",
              "      <td>0.413855</td>\n",
              "      <td>0.382434</td>\n",
              "      <td>-0.032622</td>\n",
              "      <td>0.407760</td>\n",
              "      <td>-0.210599</td>\n",
              "      <td>-0.051054</td>\n",
              "      <td>-0.020800</td>\n",
              "      <td>-0.095123</td>\n",
              "      <td>-0.042612</td>\n",
              "      <td>1.000000</td>\n",
              "      <td>-0.148423</td>\n",
              "      <td>-0.131901</td>\n",
              "      <td>0.223410</td>\n",
              "    </tr>\n",
              "    <tr>\n",
              "      <th>tempo</th>\n",
              "      <td>-0.195012</td>\n",
              "      <td>0.062272</td>\n",
              "      <td>0.003737</td>\n",
              "      <td>-0.035156</td>\n",
              "      <td>-0.011911</td>\n",
              "      <td>0.102999</td>\n",
              "      <td>-0.158013</td>\n",
              "      <td>0.178142</td>\n",
              "      <td>-0.107652</td>\n",
              "      <td>-0.148423</td>\n",
              "      <td>1.000000</td>\n",
              "      <td>0.005493</td>\n",
              "      <td>0.090191</td>\n",
              "    </tr>\n",
              "    <tr>\n",
              "      <th>duration_ms</th>\n",
              "      <td>-0.068368</td>\n",
              "      <td>0.073017</td>\n",
              "      <td>0.046144</td>\n",
              "      <td>0.265310</td>\n",
              "      <td>0.055411</td>\n",
              "      <td>-0.009856</td>\n",
              "      <td>-0.069627</td>\n",
              "      <td>-0.045873</td>\n",
              "      <td>-0.042942</td>\n",
              "      <td>-0.131901</td>\n",
              "      <td>0.005493</td>\n",
              "      <td>1.000000</td>\n",
              "      <td>-0.102138</td>\n",
              "    </tr>\n",
              "    <tr>\n",
              "      <th>time_signature</th>\n",
              "      <td>0.119421</td>\n",
              "      <td>0.255235</td>\n",
              "      <td>-0.087096</td>\n",
              "      <td>0.072301</td>\n",
              "      <td>-0.083782</td>\n",
              "      <td>0.235615</td>\n",
              "      <td>-0.158935</td>\n",
              "      <td>0.011894</td>\n",
              "      <td>-0.079558</td>\n",
              "      <td>0.223410</td>\n",
              "      <td>0.090191</td>\n",
              "      <td>-0.102138</td>\n",
              "      <td>1.000000</td>\n",
              "    </tr>\n",
              "  </tbody>\n",
              "</table>\n",
              "</div>"
            ],
            "text/plain": [
              "                  danceability    energy  ...  duration_ms  time_signature\n",
              "danceability          1.000000 -0.072582  ...    -0.068368        0.119421\n",
              "energy               -0.072582  1.000000  ...     0.073017        0.255235\n",
              "key                  -0.051759 -0.136345  ...     0.046144       -0.087096\n",
              "loudness              0.015517  0.732719  ...     0.265310        0.072301\n",
              "mode                 -0.058019 -0.117555  ...     0.055411       -0.083782\n",
              "speechiness           0.227075 -0.073591  ...    -0.009856        0.235615\n",
              "acousticness         -0.134374 -0.421209  ...    -0.069627       -0.158935\n",
              "instrumentalness     -0.066592  0.093684  ...    -0.045873        0.011894\n",
              "liveness             -0.038761  0.050542  ...    -0.042942       -0.079558\n",
              "valence               0.413855  0.382434  ...    -0.131901        0.223410\n",
              "tempo                -0.195012  0.062272  ...     0.005493        0.090191\n",
              "duration_ms          -0.068368  0.073017  ...     1.000000       -0.102138\n",
              "time_signature        0.119421  0.255235  ...    -0.102138        1.000000\n",
              "\n",
              "[13 rows x 13 columns]"
            ]
          },
          "metadata": {
            "tags": []
          },
          "execution_count": 10
        }
      ]
    },
    {
      "cell_type": "code",
      "metadata": {
        "id": "nBeZL6jPKwwF",
        "colab_type": "code",
        "colab": {
          "base_uri": "https://localhost:8080/",
          "height": 379
        },
        "outputId": "3a9c2a15-4cec-4b3e-9e8e-4dc0526c1c44"
      },
      "source": [
        "# key variables were dependent on keys C to C, while the mode variables were just major or minor\n",
        "# I left out just the continuous variable for further analysis on correlation\n",
        "corr_columns = ['danceability', 'energy', 'loudness', 'speechiness', 'acousticness', 'instrumentalness', 'liveness', 'valence', 'tempo', 'duration_ms']\n",
        "corr_table = spotify[corr_columns].corr()\n",
        "corr_table"
      ],
      "execution_count": 11,
      "outputs": [
        {
          "output_type": "execute_result",
          "data": {
            "text/html": [
              "<div>\n",
              "<style scoped>\n",
              "    .dataframe tbody tr th:only-of-type {\n",
              "        vertical-align: middle;\n",
              "    }\n",
              "\n",
              "    .dataframe tbody tr th {\n",
              "        vertical-align: top;\n",
              "    }\n",
              "\n",
              "    .dataframe thead th {\n",
              "        text-align: right;\n",
              "    }\n",
              "</style>\n",
              "<table border=\"1\" class=\"dataframe\">\n",
              "  <thead>\n",
              "    <tr style=\"text-align: right;\">\n",
              "      <th></th>\n",
              "      <th>danceability</th>\n",
              "      <th>energy</th>\n",
              "      <th>loudness</th>\n",
              "      <th>speechiness</th>\n",
              "      <th>acousticness</th>\n",
              "      <th>instrumentalness</th>\n",
              "      <th>liveness</th>\n",
              "      <th>valence</th>\n",
              "      <th>tempo</th>\n",
              "      <th>duration_ms</th>\n",
              "    </tr>\n",
              "  </thead>\n",
              "  <tbody>\n",
              "    <tr>\n",
              "      <th>danceability</th>\n",
              "      <td>1.000000</td>\n",
              "      <td>-0.072582</td>\n",
              "      <td>0.015517</td>\n",
              "      <td>0.227075</td>\n",
              "      <td>-0.134374</td>\n",
              "      <td>-0.066592</td>\n",
              "      <td>-0.038761</td>\n",
              "      <td>0.413855</td>\n",
              "      <td>-0.195012</td>\n",
              "      <td>-0.068368</td>\n",
              "    </tr>\n",
              "    <tr>\n",
              "      <th>energy</th>\n",
              "      <td>-0.072582</td>\n",
              "      <td>1.000000</td>\n",
              "      <td>0.732719</td>\n",
              "      <td>-0.073591</td>\n",
              "      <td>-0.421209</td>\n",
              "      <td>0.093684</td>\n",
              "      <td>0.050542</td>\n",
              "      <td>0.382434</td>\n",
              "      <td>0.062272</td>\n",
              "      <td>0.073017</td>\n",
              "    </tr>\n",
              "    <tr>\n",
              "      <th>loudness</th>\n",
              "      <td>0.015517</td>\n",
              "      <td>0.732719</td>\n",
              "      <td>1.000000</td>\n",
              "      <td>-0.252037</td>\n",
              "      <td>-0.269742</td>\n",
              "      <td>0.036248</td>\n",
              "      <td>0.000006</td>\n",
              "      <td>0.407760</td>\n",
              "      <td>-0.035156</td>\n",
              "      <td>0.265310</td>\n",
              "    </tr>\n",
              "    <tr>\n",
              "      <th>speechiness</th>\n",
              "      <td>0.227075</td>\n",
              "      <td>-0.073591</td>\n",
              "      <td>-0.252037</td>\n",
              "      <td>1.000000</td>\n",
              "      <td>-0.081536</td>\n",
              "      <td>-0.069543</td>\n",
              "      <td>-0.099379</td>\n",
              "      <td>-0.051054</td>\n",
              "      <td>0.102999</td>\n",
              "      <td>-0.009856</td>\n",
              "    </tr>\n",
              "    <tr>\n",
              "      <th>acousticness</th>\n",
              "      <td>-0.134374</td>\n",
              "      <td>-0.421209</td>\n",
              "      <td>-0.269742</td>\n",
              "      <td>-0.081536</td>\n",
              "      <td>1.000000</td>\n",
              "      <td>-0.089583</td>\n",
              "      <td>-0.150177</td>\n",
              "      <td>-0.020800</td>\n",
              "      <td>-0.158013</td>\n",
              "      <td>-0.069627</td>\n",
              "    </tr>\n",
              "    <tr>\n",
              "      <th>instrumentalness</th>\n",
              "      <td>-0.066592</td>\n",
              "      <td>0.093684</td>\n",
              "      <td>0.036248</td>\n",
              "      <td>-0.069543</td>\n",
              "      <td>-0.089583</td>\n",
              "      <td>1.000000</td>\n",
              "      <td>-0.016249</td>\n",
              "      <td>-0.095123</td>\n",
              "      <td>0.178142</td>\n",
              "      <td>-0.045873</td>\n",
              "    </tr>\n",
              "    <tr>\n",
              "      <th>liveness</th>\n",
              "      <td>-0.038761</td>\n",
              "      <td>0.050542</td>\n",
              "      <td>0.000006</td>\n",
              "      <td>-0.099379</td>\n",
              "      <td>-0.150177</td>\n",
              "      <td>-0.016249</td>\n",
              "      <td>1.000000</td>\n",
              "      <td>-0.042612</td>\n",
              "      <td>-0.107652</td>\n",
              "      <td>-0.042942</td>\n",
              "    </tr>\n",
              "    <tr>\n",
              "      <th>valence</th>\n",
              "      <td>0.413855</td>\n",
              "      <td>0.382434</td>\n",
              "      <td>0.407760</td>\n",
              "      <td>-0.051054</td>\n",
              "      <td>-0.020800</td>\n",
              "      <td>-0.095123</td>\n",
              "      <td>-0.042612</td>\n",
              "      <td>1.000000</td>\n",
              "      <td>-0.148423</td>\n",
              "      <td>-0.131901</td>\n",
              "    </tr>\n",
              "    <tr>\n",
              "      <th>tempo</th>\n",
              "      <td>-0.195012</td>\n",
              "      <td>0.062272</td>\n",
              "      <td>-0.035156</td>\n",
              "      <td>0.102999</td>\n",
              "      <td>-0.158013</td>\n",
              "      <td>0.178142</td>\n",
              "      <td>-0.107652</td>\n",
              "      <td>-0.148423</td>\n",
              "      <td>1.000000</td>\n",
              "      <td>0.005493</td>\n",
              "    </tr>\n",
              "    <tr>\n",
              "      <th>duration_ms</th>\n",
              "      <td>-0.068368</td>\n",
              "      <td>0.073017</td>\n",
              "      <td>0.265310</td>\n",
              "      <td>-0.009856</td>\n",
              "      <td>-0.069627</td>\n",
              "      <td>-0.045873</td>\n",
              "      <td>-0.042942</td>\n",
              "      <td>-0.131901</td>\n",
              "      <td>0.005493</td>\n",
              "      <td>1.000000</td>\n",
              "    </tr>\n",
              "  </tbody>\n",
              "</table>\n",
              "</div>"
            ],
            "text/plain": [
              "                  danceability    energy  ...     tempo  duration_ms\n",
              "danceability          1.000000 -0.072582  ... -0.195012    -0.068368\n",
              "energy               -0.072582  1.000000  ...  0.062272     0.073017\n",
              "loudness              0.015517  0.732719  ... -0.035156     0.265310\n",
              "speechiness           0.227075 -0.073591  ...  0.102999    -0.009856\n",
              "acousticness         -0.134374 -0.421209  ... -0.158013    -0.069627\n",
              "instrumentalness     -0.066592  0.093684  ...  0.178142    -0.045873\n",
              "liveness             -0.038761  0.050542  ... -0.107652    -0.042942\n",
              "valence               0.413855  0.382434  ... -0.148423    -0.131901\n",
              "tempo                -0.195012  0.062272  ...  1.000000     0.005493\n",
              "duration_ms          -0.068368  0.073017  ...  0.005493     1.000000\n",
              "\n",
              "[10 rows x 10 columns]"
            ]
          },
          "metadata": {
            "tags": []
          },
          "execution_count": 11
        }
      ]
    },
    {
      "cell_type": "code",
      "metadata": {
        "id": "Kdc6BktaMMRU",
        "colab_type": "code",
        "colab": {
          "base_uri": "https://localhost:8080/",
          "height": 672
        },
        "outputId": "06c248cf-3065-4045-c002-54aedb1221bc"
      },
      "source": [
        "# correlations:\n",
        "# the louder the music, the more energetic\n",
        "# the greater positivity, the louder, more energetic and danceable\n",
        "# more words to relate to, the more danceable\n",
        "# the faster the music, the less danceable\n",
        "plt.figure(figsize = (10,10))\n",
        "sns.heatmap(corr_table, annot=True);"
      ],
      "execution_count": 20,
      "outputs": [
        {
          "output_type": "display_data",
          "data": {
            "image/png": "[encoded data removed]",
            "text/plain": [
              "<Figure size 720x720 with 2 Axes>"
            ]
          },
          "metadata": {
            "tags": []
          }
        }
      ]
    },
    {
      "cell_type": "code",
      "metadata": {
        "id": "3_1stIbmhV8B",
        "colab_type": "code",
        "colab": {
          "base_uri": "https://localhost:8080/",
          "height": 142
        },
        "outputId": "0d1b6846-f5f5-4455-b17e-651a51370440"
      },
      "source": [
        "# checking measures for danceability by classifying\n",
        "party = spotify['danceability']>=0.75\n",
        "danceable = (spotify['danceability']>=0.5) & (spotify['danceability']<0.75)\n",
        "not_danceable = spotify['danceability']<0.5\n",
        "dance_d = [party.sum(), danceable.sum(), not_danceable.sum()]\n",
        "dance_table = pd.DataFrame(dance_d, columns=['% share'],\n",
        "                           index=['Party', 'Danceable', 'Listen'])\n",
        "dance_table"
      ],
      "execution_count": 26,
      "outputs": [
        {
          "output_type": "execute_result",
          "data": {
            "text/html": [
              "<div>\n",
              "<style scoped>\n",
              "    .dataframe tbody tr th:only-of-type {\n",
              "        vertical-align: middle;\n",
              "    }\n",
              "\n",
              "    .dataframe tbody tr th {\n",
              "        vertical-align: top;\n",
              "    }\n",
              "\n",
              "    .dataframe thead th {\n",
              "        text-align: right;\n",
              "    }\n",
              "</style>\n",
              "<table border=\"1\" class=\"dataframe\">\n",
              "  <thead>\n",
              "    <tr style=\"text-align: right;\">\n",
              "      <th></th>\n",
              "      <th>% share</th>\n",
              "    </tr>\n",
              "  </thead>\n",
              "  <tbody>\n",
              "    <tr>\n",
              "      <th>Party</th>\n",
              "      <td>43</td>\n",
              "    </tr>\n",
              "    <tr>\n",
              "      <th>Danceable</th>\n",
              "      <td>53</td>\n",
              "    </tr>\n",
              "    <tr>\n",
              "      <th>Listen</th>\n",
              "      <td>4</td>\n",
              "    </tr>\n",
              "  </tbody>\n",
              "</table>\n",
              "</div>"
            ],
            "text/plain": [
              "           % share\n",
              "Party           43\n",
              "Danceable       53\n",
              "Listen           4"
            ]
          },
          "metadata": {
            "tags": []
          },
          "execution_count": 26
        }
      ]
    },
    {
      "cell_type": "code",
      "metadata": {
        "id": "NR52_ra9irdy",
        "colab_type": "code",
        "colab": {
          "base_uri": "https://localhost:8080/",
          "height": 142
        },
        "outputId": "cc8f573b-5fb7-4883-b7a0-e1e1f2abb234"
      },
      "source": [
        "# check for energy levels by classifying\n",
        "Hi_En = spotify['energy']>=0.75\n",
        "Me_En = (spotify['energy']>=0.5) & (spotify['energy']<0.75)\n",
        "Lo_En = spotify['energy']<0.5\n",
        "energy_d = [Hi_En.sum(), Me_En.sum(), Lo_En.sum()]\n",
        "energy_table = pd.DataFrame(energy_d, columns=['% share'],\n",
        "                            index=['Very Energetic', 'Energetic', 'Low Energy'])\n",
        "energy_table"
      ],
      "execution_count": 27,
      "outputs": [
        {
          "output_type": "execute_result",
          "data": {
            "text/html": [
              "<div>\n",
              "<style scoped>\n",
              "    .dataframe tbody tr th:only-of-type {\n",
              "        vertical-align: middle;\n",
              "    }\n",
              "\n",
              "    .dataframe tbody tr th {\n",
              "        vertical-align: top;\n",
              "    }\n",
              "\n",
              "    .dataframe thead th {\n",
              "        text-align: right;\n",
              "    }\n",
              "</style>\n",
              "<table border=\"1\" class=\"dataframe\">\n",
              "  <thead>\n",
              "    <tr style=\"text-align: right;\">\n",
              "      <th></th>\n",
              "      <th>% share</th>\n",
              "    </tr>\n",
              "  </thead>\n",
              "  <tbody>\n",
              "    <tr>\n",
              "      <th>Very Energetic</th>\n",
              "      <td>32</td>\n",
              "    </tr>\n",
              "    <tr>\n",
              "      <th>Energetic</th>\n",
              "      <td>55</td>\n",
              "    </tr>\n",
              "    <tr>\n",
              "      <th>Low Energy</th>\n",
              "      <td>13</td>\n",
              "    </tr>\n",
              "  </tbody>\n",
              "</table>\n",
              "</div>"
            ],
            "text/plain": [
              "                % share\n",
              "Very Energetic       32\n",
              "Energetic            55\n",
              "Low Energy           13"
            ]
          },
          "metadata": {
            "tags": []
          },
          "execution_count": 27
        }
      ]
    },
    {
      "cell_type": "code",
      "metadata": {
        "id": "gmBKeLz-NkZ8",
        "colab_type": "code",
        "colab": {
          "base_uri": "https://localhost:8080/",
          "height": 291
        },
        "outputId": "f2d1e790-f251-4650-d161-7c47136e6352"
      },
      "source": [
        "# check for mean of duration\n",
        "# the graph shows a mean of 205,206.78 ms per song or about 3.42 minutes\n",
        "sns.distplot(spotify['duration_ms']);"
      ],
      "execution_count": 21,
      "outputs": [
        {
          "output_type": "display_data",
          "data": {
            "image/png": "[encoded data removed]",
            "text/plain": [
              "<Figure size 432x288 with 1 Axes>"
            ]
          },
          "metadata": {
            "tags": []
          }
        }
      ]
    },
    {
      "cell_type": "code",
      "metadata": {
        "id": "-vBqNlkkewX5",
        "colab_type": "code",
        "colab": {}
      },
      "source": [
        ""
      ],
      "execution_count": null,
      "outputs": []
    }
  ]
}